{
 "cells": [
  {
   "cell_type": "markdown",
   "id": "c1217230",
   "metadata": {},
   "source": [
    "# Final Project \n",
    "## Author - Dev"
   ]
  },
  {
   "cell_type": "code",
   "execution_count": 1,
   "id": "355de016",
   "metadata": {},
   "outputs": [],
   "source": [
    "# Importing modules \n",
    "import pandas as pd\n",
    "import numpy as np\n",
    "import matplotlib.pyplot as plt\n",
    "import seaborn as sns\n",
    "import nltk\n",
    "import spacy\n",
    "from nltk.corpus import stopwords\n",
    "from nltk.tokenize import word_tokenize\n",
    "from sklearn.feature_extraction.text import CountVectorizer\n",
    "from sklearn.feature_extraction.text import TfidfTransformer\n",
    "import string"
   ]
  },
  {
   "cell_type": "markdown",
   "id": "56a18021",
   "metadata": {},
   "source": [
    "### Data Aquisition"
   ]
  },
  {
   "cell_type": "code",
   "execution_count": 2,
   "id": "8f615ffa",
   "metadata": {},
   "outputs": [],
   "source": [
    "data = pd.read_csv(\"\")"
   ]
  },
  {
   "cell_type": "markdown",
   "id": "7cc52a30",
   "metadata": {},
   "source": [
    "### Descriptive Analysis"
   ]
  },
  {
   "cell_type": "code",
   "execution_count": 3,
   "id": "14d85952",
   "metadata": {
    "scrolled": true
   },
   "outputs": [
    {
     "data": {
      "text/html": [
       "<div>\n",
       "<style scoped>\n",
       "    .dataframe tbody tr th:only-of-type {\n",
       "        vertical-align: middle;\n",
       "    }\n",
       "\n",
       "    .dataframe tbody tr th {\n",
       "        vertical-align: top;\n",
       "    }\n",
       "\n",
       "    .dataframe thead th {\n",
       "        text-align: right;\n",
       "    }\n",
       "</style>\n",
       "<table border=\"1\" class=\"dataframe\">\n",
       "  <thead>\n",
       "    <tr style=\"text-align: right;\">\n",
       "      <th></th>\n",
       "      <th>reviewid</th>\n",
       "      <th>make</th>\n",
       "      <th>model</th>\n",
       "      <th>year</th>\n",
       "      <th>title</th>\n",
       "      <th>author</th>\n",
       "      <th>perform_rating</th>\n",
       "      <th>comfort_rating</th>\n",
       "      <th>fuel_econ_rating</th>\n",
       "      <th>fun_rating</th>\n",
       "      <th>...</th>\n",
       "      <th>exterior_rating</th>\n",
       "      <th>build_qual_rating</th>\n",
       "      <th>reliab_rating</th>\n",
       "      <th>text</th>\n",
       "      <th>fav_feat</th>\n",
       "      <th>sugg_imp</th>\n",
       "      <th>cnt_thumbs_down</th>\n",
       "      <th>cnt_thumbs_up</th>\n",
       "      <th>comment_cnt</th>\n",
       "      <th>Avg_MSRP</th>\n",
       "    </tr>\n",
       "  </thead>\n",
       "  <tbody>\n",
       "    <tr>\n",
       "      <th>0</th>\n",
       "      <td>1</td>\n",
       "      <td>ACURA</td>\n",
       "      <td>ILX</td>\n",
       "      <td>2017</td>\n",
       "      <td>A new Dud</td>\n",
       "      <td>Laurel Blue</td>\n",
       "      <td>0</td>\n",
       "      <td>0</td>\n",
       "      <td>0</td>\n",
       "      <td>0</td>\n",
       "      <td>...</td>\n",
       "      <td>0</td>\n",
       "      <td>0</td>\n",
       "      <td>0</td>\n",
       "      <td>I just leased a new 2017 Acura ILX two months ...</td>\n",
       "      <td>NaN</td>\n",
       "      <td>NaN</td>\n",
       "      <td>0</td>\n",
       "      <td>0</td>\n",
       "      <td>0.0</td>\n",
       "      <td>31203.33333</td>\n",
       "    </tr>\n",
       "    <tr>\n",
       "      <th>1</th>\n",
       "      <td>2</td>\n",
       "      <td>ACURA</td>\n",
       "      <td>ILX</td>\n",
       "      <td>2015</td>\n",
       "      <td>Noisy as heck !</td>\n",
       "      <td>Seth L</td>\n",
       "      <td>0</td>\n",
       "      <td>0</td>\n",
       "      <td>0</td>\n",
       "      <td>0</td>\n",
       "      <td>...</td>\n",
       "      <td>0</td>\n",
       "      <td>0</td>\n",
       "      <td>0</td>\n",
       "      <td>Transmission hums all the time. Acura claims, ...</td>\n",
       "      <td>NaN</td>\n",
       "      <td>NaN</td>\n",
       "      <td>1</td>\n",
       "      <td>2</td>\n",
       "      <td>0.0</td>\n",
       "      <td>29375.00000</td>\n",
       "    </tr>\n",
       "    <tr>\n",
       "      <th>2</th>\n",
       "      <td>3</td>\n",
       "      <td>ACURA</td>\n",
       "      <td>ILX</td>\n",
       "      <td>2015</td>\n",
       "      <td>Great entry level luxury car</td>\n",
       "      <td>NicBran</td>\n",
       "      <td>0</td>\n",
       "      <td>0</td>\n",
       "      <td>0</td>\n",
       "      <td>0</td>\n",
       "      <td>...</td>\n",
       "      <td>0</td>\n",
       "      <td>0</td>\n",
       "      <td>0</td>\n",
       "      <td>Before purchasing this car, I had a Mazda RX-8...</td>\n",
       "      <td>NaN</td>\n",
       "      <td>NaN</td>\n",
       "      <td>0</td>\n",
       "      <td>5</td>\n",
       "      <td>0.0</td>\n",
       "      <td>29375.00000</td>\n",
       "    </tr>\n",
       "    <tr>\n",
       "      <th>3</th>\n",
       "      <td>4</td>\n",
       "      <td>ACURA</td>\n",
       "      <td>ILX</td>\n",
       "      <td>2015</td>\n",
       "      <td>Amazing Car!</td>\n",
       "      <td>robin707</td>\n",
       "      <td>5</td>\n",
       "      <td>5</td>\n",
       "      <td>4</td>\n",
       "      <td>5</td>\n",
       "      <td>...</td>\n",
       "      <td>5</td>\n",
       "      <td>5</td>\n",
       "      <td>5</td>\n",
       "      <td>I just purchased the 2015 ILX 2.4 6 speed manu...</td>\n",
       "      <td>Interior is amazing and so comfortable, the tr...</td>\n",
       "      <td>I'm not sure, maybe GPS and a little bit bette...</td>\n",
       "      <td>0</td>\n",
       "      <td>3</td>\n",
       "      <td>0.0</td>\n",
       "      <td>29375.00000</td>\n",
       "    </tr>\n",
       "    <tr>\n",
       "      <th>4</th>\n",
       "      <td>5</td>\n",
       "      <td>ACURA</td>\n",
       "      <td>ILX</td>\n",
       "      <td>2015</td>\n",
       "      <td>My ILX is a great car</td>\n",
       "      <td>stevenrose</td>\n",
       "      <td>5</td>\n",
       "      <td>5</td>\n",
       "      <td>5</td>\n",
       "      <td>5</td>\n",
       "      <td>...</td>\n",
       "      <td>5</td>\n",
       "      <td>5</td>\n",
       "      <td>5</td>\n",
       "      <td>I really enjoy owning my ILX.  The ILX offers ...</td>\n",
       "      <td>Why is the ILX not just a Civic EX-L?\\r\\r\\r\\n\\...</td>\n",
       "      <td>Road noise and the suspension can be a bit sti...</td>\n",
       "      <td>0</td>\n",
       "      <td>18</td>\n",
       "      <td>0.0</td>\n",
       "      <td>29375.00000</td>\n",
       "    </tr>\n",
       "  </tbody>\n",
       "</table>\n",
       "<p>5 rows × 21 columns</p>\n",
       "</div>"
      ],
      "text/plain": [
       "   reviewid   make model  year                         title       author  \\\n",
       "0         1  ACURA   ILX  2017                     A new Dud  Laurel Blue   \n",
       "1         2  ACURA   ILX  2015               Noisy as heck !       Seth L   \n",
       "2         3  ACURA   ILX  2015  Great entry level luxury car      NicBran   \n",
       "3         4  ACURA   ILX  2015                  Amazing Car!     robin707   \n",
       "4         5  ACURA   ILX  2015         My ILX is a great car   stevenrose   \n",
       "\n",
       "   perform_rating  comfort_rating  fuel_econ_rating  fun_rating  ...  \\\n",
       "0               0               0                 0           0  ...   \n",
       "1               0               0                 0           0  ...   \n",
       "2               0               0                 0           0  ...   \n",
       "3               5               5                 4           5  ...   \n",
       "4               5               5                 5           5  ...   \n",
       "\n",
       "   exterior_rating  build_qual_rating  reliab_rating  \\\n",
       "0                0                  0              0   \n",
       "1                0                  0              0   \n",
       "2                0                  0              0   \n",
       "3                5                  5              5   \n",
       "4                5                  5              5   \n",
       "\n",
       "                                                text  \\\n",
       "0  I just leased a new 2017 Acura ILX two months ...   \n",
       "1  Transmission hums all the time. Acura claims, ...   \n",
       "2  Before purchasing this car, I had a Mazda RX-8...   \n",
       "3  I just purchased the 2015 ILX 2.4 6 speed manu...   \n",
       "4  I really enjoy owning my ILX.  The ILX offers ...   \n",
       "\n",
       "                                            fav_feat  \\\n",
       "0                                                NaN   \n",
       "1                                                NaN   \n",
       "2                                                NaN   \n",
       "3  Interior is amazing and so comfortable, the tr...   \n",
       "4  Why is the ILX not just a Civic EX-L?\\r\\r\\r\\n\\...   \n",
       "\n",
       "                                            sugg_imp cnt_thumbs_down  \\\n",
       "0                                                NaN               0   \n",
       "1                                                NaN               1   \n",
       "2                                                NaN               0   \n",
       "3  I'm not sure, maybe GPS and a little bit bette...               0   \n",
       "4  Road noise and the suspension can be a bit sti...               0   \n",
       "\n",
       "   cnt_thumbs_up  comment_cnt     Avg_MSRP  \n",
       "0              0          0.0  31203.33333  \n",
       "1              2          0.0  29375.00000  \n",
       "2              5          0.0  29375.00000  \n",
       "3              3          0.0  29375.00000  \n",
       "4             18          0.0  29375.00000  \n",
       "\n",
       "[5 rows x 21 columns]"
      ]
     },
     "execution_count": 3,
     "metadata": {},
     "output_type": "execute_result"
    }
   ],
   "source": [
    "data.head()"
   ]
  },
  {
   "cell_type": "code",
   "execution_count": 4,
   "id": "ceadabee",
   "metadata": {},
   "outputs": [
    {
     "data": {
      "text/plain": [
       "Index(['reviewid', 'make', 'model', 'year', 'title', 'author',\n",
       "       'perform_rating', 'comfort_rating', 'fuel_econ_rating', 'fun_rating',\n",
       "       'interior_rating', 'exterior_rating', 'build_qual_rating',\n",
       "       'reliab_rating', 'text', 'fav_feat', 'sugg_imp', 'cnt_thumbs_down',\n",
       "       'cnt_thumbs_up', 'comment_cnt', 'Avg_MSRP'],\n",
       "      dtype='object')"
      ]
     },
     "execution_count": 4,
     "metadata": {},
     "output_type": "execute_result"
    }
   ],
   "source": [
    "data.columns"
   ]
  },
  {
   "cell_type": "code",
   "execution_count": 5,
   "id": "a0d0aceb",
   "metadata": {},
   "outputs": [
    {
     "data": {
      "text/plain": [
       "(110121, 21)"
      ]
     },
     "execution_count": 5,
     "metadata": {},
     "output_type": "execute_result"
    }
   ],
   "source": [
    "data.shape"
   ]
  },
  {
   "cell_type": "code",
   "execution_count": 6,
   "id": "4bc59839",
   "metadata": {
    "scrolled": true
   },
   "outputs": [
    {
     "data": {
      "text/plain": [
       "reviewid               int64\n",
       "make                  object\n",
       "model                 object\n",
       "year                   int64\n",
       "title                 object\n",
       "author                object\n",
       "perform_rating         int64\n",
       "comfort_rating         int64\n",
       "fuel_econ_rating       int64\n",
       "fun_rating             int64\n",
       "interior_rating        int64\n",
       "exterior_rating        int64\n",
       "build_qual_rating      int64\n",
       "reliab_rating          int64\n",
       "text                  object\n",
       "fav_feat              object\n",
       "sugg_imp              object\n",
       "cnt_thumbs_down        int64\n",
       "cnt_thumbs_up          int64\n",
       "comment_cnt          float64\n",
       "Avg_MSRP             float64\n",
       "dtype: object"
      ]
     },
     "execution_count": 6,
     "metadata": {},
     "output_type": "execute_result"
    }
   ],
   "source": [
    "data.dtypes"
   ]
  },
  {
   "cell_type": "code",
   "execution_count": 7,
   "id": "680d0d53",
   "metadata": {},
   "outputs": [
    {
     "data": {
      "text/plain": [
       "55"
      ]
     },
     "execution_count": 7,
     "metadata": {},
     "output_type": "execute_result"
    }
   ],
   "source": [
    "# Total number of cars make in the data\n",
    "len(data[\"make\"].unique())"
   ]
  },
  {
   "cell_type": "code",
   "execution_count": 8,
   "id": "bbfb9ff7",
   "metadata": {},
   "outputs": [
    {
     "data": {
      "text/plain": [
       "array(['ACURA', 'ALFA-ROMEO', 'ASTON-MARTIN', 'AUDI', 'BENTLEY', 'BMW',\n",
       "       'BUGATTI', 'BUICK', 'CADILLAC', 'CHEVROLET', 'CHRYSLER', 'DODGE',\n",
       "       'FERRARI', 'FIAT', 'FISKER', 'FORD', 'GENESIS', 'GMC', 'HONDA',\n",
       "       'HUMMER', 'HYUNDAI', 'INFINITI', 'ISUZU', 'JAGUAR', 'JEEP', 'KIA',\n",
       "       'LAMBORGHINI', 'LAND-ROVER', 'LEXUS', 'LINCOLN', 'LOTUS',\n",
       "       'MASERATI', 'MAYBACH', 'MAZDA', 'MCLAREN', 'MERCEDES-BENZ',\n",
       "       'MERCURY', 'MINI', 'MITSUBISHI', 'NISSAN', 'PONTIAC', 'PORSCHE',\n",
       "       'RAM', 'ROLLS-ROYCE', 'SAAB', 'SATURN', 'SCION', 'SMART', 'SPYKER',\n",
       "       'SUBARU', 'SUZUKI', 'TESLA', 'TOYOTA', 'VOLKSWAGEN', 'VOLVO'],\n",
       "      dtype=object)"
      ]
     },
     "execution_count": 8,
     "metadata": {},
     "output_type": "execute_result"
    }
   ],
   "source": [
    "# Displaying all the car makes in the data\n",
    "data[\"make\"].unique()"
   ]
  },
  {
   "cell_type": "code",
   "execution_count": 9,
   "id": "14a8d880",
   "metadata": {
    "scrolled": false
   },
   "outputs": [
    {
     "data": {
      "text/plain": [
       "make\n",
       "HONDA            11750\n",
       "TOYOTA           11462\n",
       "FORD              8890\n",
       "CHEVROLET         7850\n",
       "NISSAN            7727\n",
       "MAZDA             4898\n",
       "HYUNDAI           4812\n",
       "VOLKSWAGEN        4373\n",
       "SUBARU            4168\n",
       "DODGE             4019\n",
       "JEEP              3315\n",
       "KIA               3081\n",
       "BMW               3073\n",
       "ACURA             2809\n",
       "LEXUS             2549\n",
       "MERCEDES-BENZ     2227\n",
       "GMC               2189\n",
       "AUDI              1950\n",
       "PONTIAC           1841\n",
       "INFINITI          1786\n",
       "CHRYSLER          1606\n",
       "BUICK             1503\n",
       "SATURN            1432\n",
       "CADILLAC          1383\n",
       "VOLVO             1296\n",
       "MITSUBISHI        1295\n",
       "SCION             1151\n",
       "LINCOLN            895\n",
       "SUZUKI             787\n",
       "MERCURY            780\n",
       "LAND-ROVER         532\n",
       "MINI               522\n",
       "JAGUAR             402\n",
       "PORSCHE            385\n",
       "FIAT               299\n",
       "RAM                297\n",
       "SMART              291\n",
       "HUMMER             196\n",
       "MASERATI            67\n",
       "TESLA               47\n",
       "SAAB                46\n",
       "BENTLEY             35\n",
       "ASTON-MARTIN        17\n",
       "ISUZU               15\n",
       "ROLLS-ROYCE         13\n",
       "FERRARI             12\n",
       "LAMBORGHINI         12\n",
       "LOTUS               12\n",
       "BUGATTI              8\n",
       "ALFA-ROMEO           4\n",
       "FISKER               3\n",
       "GENESIS              3\n",
       "SPYKER               3\n",
       "MAYBACH              2\n",
       "MCLAREN              1\n",
       "Name: count, dtype: int64"
      ]
     },
     "execution_count": 9,
     "metadata": {},
     "output_type": "execute_result"
    }
   ],
   "source": [
    "# Number of reviews grouped by car make\n",
    "data[\"make\"].value_counts()"
   ]
  },
  {
   "cell_type": "code",
   "execution_count": 10,
   "id": "e4402e6f",
   "metadata": {},
   "outputs": [],
   "source": [
    "# Changing dtypes from text to string\n",
    "data[[\"title\",\"text\",\"fav_feat\",\"sugg_imp\"]]=data[[\"title\",\"text\",\"fav_feat\",\"sugg_imp\"]].astype('str')"
   ]
  },
  {
   "cell_type": "code",
   "execution_count": 11,
   "id": "6a916be4",
   "metadata": {},
   "outputs": [
    {
     "name": "stdout",
     "output_type": "stream",
     "text": [
      "Mean length of title is :  22\n",
      "Mean length of text is :  552\n",
      "Mean length of favourite feat is :  108\n",
      "Mean length of suggestions is :  22\n"
     ]
    }
   ],
   "source": [
    "# Calculating mean length of titles, reviews and favourite feats\n",
    "\n",
    "mean_title=round(data[\"title\"].apply(len).mean())\n",
    "mean_text=round(data[\"text\"].apply(len).mean())\n",
    "mean_fav = round(data[\"fav_feat\"].apply(len).mean())\n",
    "mean_sugg = round(data[\"sugg_imp\"].apply(len).mean())\n",
    "\n",
    "print(\"Mean length of title is : \",mean_title)\n",
    "print(\"Mean length of text is : \",mean_text)\n",
    "print(\"Mean length of favourite feat is : \",mean_fav)\n",
    "print(\"Mean length of suggestions is : \",mean_title)"
   ]
  },
  {
   "cell_type": "code",
   "execution_count": 12,
   "id": "2003b467",
   "metadata": {},
   "outputs": [
    {
     "data": {
      "image/png": "[encoded data removed]",
      "text/plain": [
       "<Figure size 1000x500 with 1 Axes>"
      ]
     },
     "metadata": {},
     "output_type": "display_data"
    }
   ],
   "source": [
    "from wordcloud import WordCloud\n",
    "from wordcloud import STOPWORDS\n",
    "text = \" \".join(review for review in data['text'])\n",
    "additional_stopwords={\"car\",\"vehicle\",\"drive\"}\n",
    "# Create and generate a word cloud image\n",
    "wordcloud = WordCloud(width=800, \n",
    "                      height=400, \n",
    "                      background_color='white',\n",
    "                      max_words=200,\n",
    "                      stopwords=STOPWORDS.union(additional_stopwords)).generate(text)\n",
    "\n",
    "# Display the word cloud using matplotlib\n",
    "plt.figure(figsize=(10, 5))\n",
    "plt.imshow(wordcloud)\n",
    "plt.axis(\"off\")\n",
    "plt.show()"
   ]
  },
  {
   "cell_type": "markdown",
   "id": "5be84f42",
   "metadata": {},
   "source": [
    "### Data Prepration"
   ]
  },
  {
   "cell_type": "markdown",
   "id": "bc5a25f0",
   "metadata": {},
   "source": [
    "##### Missing values"
   ]
  },
  {
   "cell_type": "code",
   "execution_count": 13,
   "id": "30521ccf",
   "metadata": {
    "scrolled": true
   },
   "outputs": [
    {
     "data": {
      "text/plain": [
       "reviewid               0\n",
       "make                   0\n",
       "model                  0\n",
       "year                   0\n",
       "title                  0\n",
       "author                12\n",
       "perform_rating         0\n",
       "comfort_rating         0\n",
       "fuel_econ_rating       0\n",
       "fun_rating             0\n",
       "interior_rating        0\n",
       "exterior_rating        0\n",
       "build_qual_rating      0\n",
       "reliab_rating          0\n",
       "text                   0\n",
       "fav_feat               0\n",
       "sugg_imp               0\n",
       "cnt_thumbs_down        0\n",
       "cnt_thumbs_up          0\n",
       "comment_cnt          266\n",
       "Avg_MSRP               0\n",
       "dtype: int64"
      ]
     },
     "execution_count": 13,
     "metadata": {},
     "output_type": "execute_result"
    }
   ],
   "source": [
    "#Checking missing values\n",
    "data.isnull().sum()"
   ]
  },
  {
   "cell_type": "code",
   "execution_count": 14,
   "id": "5e16f593",
   "metadata": {
    "scrolled": true
   },
   "outputs": [
    {
     "data": {
      "text/plain": [
       "0"
      ]
     },
     "execution_count": 14,
     "metadata": {},
     "output_type": "execute_result"
    }
   ],
   "source": [
    "# Replacing missing values with zero to cnt_comments\n",
    "data[\"comment_cnt\"] = data[\"comment_cnt\"].fillna(0)\n",
    "data[\"comment_cnt\"].isnull().sum()"
   ]
  },
  {
   "cell_type": "markdown",
   "id": "7cd9d9ec",
   "metadata": {},
   "source": [
    "##### Duplicate Values"
   ]
  },
  {
   "cell_type": "code",
   "execution_count": 15,
   "id": "9d6784c0",
   "metadata": {},
   "outputs": [
    {
     "data": {
      "text/html": [
       "<div>\n",
       "<style scoped>\n",
       "    .dataframe tbody tr th:only-of-type {\n",
       "        vertical-align: middle;\n",
       "    }\n",
       "\n",
       "    .dataframe tbody tr th {\n",
       "        vertical-align: top;\n",
       "    }\n",
       "\n",
       "    .dataframe thead th {\n",
       "        text-align: right;\n",
       "    }\n",
       "</style>\n",
       "<table border=\"1\" class=\"dataframe\">\n",
       "  <thead>\n",
       "    <tr style=\"text-align: right;\">\n",
       "      <th></th>\n",
       "      <th>reviewid</th>\n",
       "      <th>make</th>\n",
       "      <th>model</th>\n",
       "      <th>year</th>\n",
       "      <th>title</th>\n",
       "      <th>author</th>\n",
       "      <th>perform_rating</th>\n",
       "      <th>comfort_rating</th>\n",
       "      <th>fuel_econ_rating</th>\n",
       "      <th>fun_rating</th>\n",
       "      <th>...</th>\n",
       "      <th>exterior_rating</th>\n",
       "      <th>build_qual_rating</th>\n",
       "      <th>reliab_rating</th>\n",
       "      <th>text</th>\n",
       "      <th>fav_feat</th>\n",
       "      <th>sugg_imp</th>\n",
       "      <th>cnt_thumbs_down</th>\n",
       "      <th>cnt_thumbs_up</th>\n",
       "      <th>comment_cnt</th>\n",
       "      <th>Avg_MSRP</th>\n",
       "    </tr>\n",
       "  </thead>\n",
       "  <tbody>\n",
       "  </tbody>\n",
       "</table>\n",
       "<p>0 rows × 21 columns</p>\n",
       "</div>"
      ],
      "text/plain": [
       "Empty DataFrame\n",
       "Columns: [reviewid, make, model, year, title, author, perform_rating, comfort_rating, fuel_econ_rating, fun_rating, interior_rating, exterior_rating, build_qual_rating, reliab_rating, text, fav_feat, sugg_imp, cnt_thumbs_down, cnt_thumbs_up, comment_cnt, Avg_MSRP]\n",
       "Index: []\n",
       "\n",
       "[0 rows x 21 columns]"
      ]
     },
     "execution_count": 15,
     "metadata": {},
     "output_type": "execute_result"
    }
   ],
   "source": [
    "data[data.duplicated()]"
   ]
  },
  {
   "cell_type": "markdown",
   "id": "5eb877b2",
   "metadata": {},
   "source": [
    "There are no duplicates in our data."
   ]
  },
  {
   "cell_type": "markdown",
   "id": "b1cc47ef",
   "metadata": {},
   "source": [
    "##### Dropping irrelevant columns"
   ]
  },
  {
   "cell_type": "code",
   "execution_count": 16,
   "id": "5c1e56e0",
   "metadata": {},
   "outputs": [],
   "source": [
    "# Dropping reviewid, model and author\n",
    "data.drop([\"reviewid\",\"model\",\"author\"],axis=1,inplace=True)"
   ]
  },
  {
   "cell_type": "markdown",
   "id": "24fad882",
   "metadata": {},
   "source": [
    "##### Changing data types of columns"
   ]
  },
  {
   "cell_type": "code",
   "execution_count": 18,
   "id": "908edd97",
   "metadata": {
    "scrolled": true
   },
   "outputs": [
    {
     "data": {
      "text/plain": [
       "make                  object\n",
       "year                   int64\n",
       "title                 object\n",
       "perform_rating         int64\n",
       "comfort_rating         int64\n",
       "fuel_econ_rating       int64\n",
       "fun_rating             int64\n",
       "interior_rating        int64\n",
       "exterior_rating        int64\n",
       "build_qual_rating      int64\n",
       "reliab_rating          int64\n",
       "text                  object\n",
       "fav_feat              object\n",
       "sugg_imp              object\n",
       "cnt_thumbs_down        int64\n",
       "cnt_thumbs_up          int64\n",
       "comment_cnt          float64\n",
       "Avg_MSRP             float64\n",
       "dtype: object"
      ]
     },
     "execution_count": 18,
     "metadata": {},
     "output_type": "execute_result"
    }
   ],
   "source": [
    "data.dtypes"
   ]
  },
  {
   "cell_type": "code",
   "execution_count": 19,
   "id": "6aafc77e",
   "metadata": {},
   "outputs": [],
   "source": [
    "# Setting category dtype for categorical data columns\n",
    "data[[\"year\",\"make\",\"perform_rating\",\"comfort_rating\",\"fuel_econ_rating\",\n",
    "         \"fun_rating\",\"interior_rating\",\"exterior_rating\",\"build_qual_rating\",\"reliab_rating\"]] =(\n",
    "data[[\"year\",\"make\",\"perform_rating\",\"comfort_rating\",\"fuel_econ_rating\",\n",
    "         \"fun_rating\",\"interior_rating\",\"exterior_rating\",\"build_qual_rating\",\"reliab_rating\"]].astype(\"category\"))"
   ]
  },
  {
   "cell_type": "markdown",
   "id": "6bc52aba",
   "metadata": {},
   "source": [
    "##### Label Encoding make and year column"
   ]
  },
  {
   "cell_type": "code",
   "execution_count": 21,
   "id": "20f39487",
   "metadata": {},
   "outputs": [
    {
     "data": {
      "text/html": [
       "<div>\n",
       "<style scoped>\n",
       "    .dataframe tbody tr th:only-of-type {\n",
       "        vertical-align: middle;\n",
       "    }\n",
       "\n",
       "    .dataframe tbody tr th {\n",
       "        vertical-align: top;\n",
       "    }\n",
       "\n",
       "    .dataframe thead th {\n",
       "        text-align: right;\n",
       "    }\n",
       "</style>\n",
       "<table border=\"1\" class=\"dataframe\">\n",
       "  <thead>\n",
       "    <tr style=\"text-align: right;\">\n",
       "      <th></th>\n",
       "      <th>make</th>\n",
       "      <th>year</th>\n",
       "    </tr>\n",
       "  </thead>\n",
       "  <tbody>\n",
       "    <tr>\n",
       "      <th>0</th>\n",
       "      <td>0</td>\n",
       "      <td>10</td>\n",
       "    </tr>\n",
       "    <tr>\n",
       "      <th>1</th>\n",
       "      <td>0</td>\n",
       "      <td>8</td>\n",
       "    </tr>\n",
       "    <tr>\n",
       "      <th>2</th>\n",
       "      <td>0</td>\n",
       "      <td>8</td>\n",
       "    </tr>\n",
       "    <tr>\n",
       "      <th>3</th>\n",
       "      <td>0</td>\n",
       "      <td>8</td>\n",
       "    </tr>\n",
       "    <tr>\n",
       "      <th>4</th>\n",
       "      <td>0</td>\n",
       "      <td>8</td>\n",
       "    </tr>\n",
       "  </tbody>\n",
       "</table>\n",
       "</div>"
      ],
      "text/plain": [
       "   make  year\n",
       "0     0    10\n",
       "1     0     8\n",
       "2     0     8\n",
       "3     0     8\n",
       "4     0     8"
      ]
     },
     "execution_count": 21,
     "metadata": {},
     "output_type": "execute_result"
    }
   ],
   "source": [
    "from sklearn.preprocessing import LabelEncoder\n",
    "encoder = LabelEncoder()\n",
    "data[\"make\"] = encoder.fit_transform(data[\"make\"])\n",
    "data[\"year\"] = encoder.fit_transform(data[\"year\"])\n",
    "#Verifying the change\n",
    "data[[\"make\",\"year\"]].head()"
   ]
  },
  {
   "cell_type": "markdown",
   "id": "953622ae",
   "metadata": {},
   "source": [
    "##### Creating a total engagement column"
   ]
  },
  {
   "cell_type": "code",
   "execution_count": 22,
   "id": "4309088d",
   "metadata": {},
   "outputs": [],
   "source": [
    "#Creating a total engagement matrix column\n",
    "data[\"Total Engagement\"] = data[\"cnt_thumbs_down\"] + data[\"cnt_thumbs_up\"]+ data[\"comment_cnt\"]"
   ]
  },
  {
   "cell_type": "code",
   "execution_count": 23,
   "id": "92437238",
   "metadata": {
    "scrolled": true
   },
   "outputs": [
    {
     "data": {
      "text/html": [
       "<div>\n",
       "<style scoped>\n",
       "    .dataframe tbody tr th:only-of-type {\n",
       "        vertical-align: middle;\n",
       "    }\n",
       "\n",
       "    .dataframe tbody tr th {\n",
       "        vertical-align: top;\n",
       "    }\n",
       "\n",
       "    .dataframe thead th {\n",
       "        text-align: right;\n",
       "    }\n",
       "</style>\n",
       "<table border=\"1\" class=\"dataframe\">\n",
       "  <thead>\n",
       "    <tr style=\"text-align: right;\">\n",
       "      <th></th>\n",
       "      <th>make</th>\n",
       "      <th>year</th>\n",
       "      <th>title</th>\n",
       "      <th>perform_rating</th>\n",
       "      <th>comfort_rating</th>\n",
       "      <th>fuel_econ_rating</th>\n",
       "      <th>fun_rating</th>\n",
       "      <th>interior_rating</th>\n",
       "      <th>exterior_rating</th>\n",
       "      <th>build_qual_rating</th>\n",
       "      <th>reliab_rating</th>\n",
       "      <th>text</th>\n",
       "      <th>fav_feat</th>\n",
       "      <th>sugg_imp</th>\n",
       "      <th>Avg_MSRP</th>\n",
       "      <th>Total Engagement</th>\n",
       "    </tr>\n",
       "  </thead>\n",
       "  <tbody>\n",
       "    <tr>\n",
       "      <th>0</th>\n",
       "      <td>0</td>\n",
       "      <td>10</td>\n",
       "      <td>A new Dud</td>\n",
       "      <td>0</td>\n",
       "      <td>0</td>\n",
       "      <td>0</td>\n",
       "      <td>0</td>\n",
       "      <td>0</td>\n",
       "      <td>0</td>\n",
       "      <td>0</td>\n",
       "      <td>0</td>\n",
       "      <td>I just leased a new 2017 Acura ILX two months ...</td>\n",
       "      <td>nan</td>\n",
       "      <td>nan</td>\n",
       "      <td>31203.33333</td>\n",
       "      <td>0.0</td>\n",
       "    </tr>\n",
       "    <tr>\n",
       "      <th>1</th>\n",
       "      <td>0</td>\n",
       "      <td>8</td>\n",
       "      <td>Noisy as heck !</td>\n",
       "      <td>0</td>\n",
       "      <td>0</td>\n",
       "      <td>0</td>\n",
       "      <td>0</td>\n",
       "      <td>0</td>\n",
       "      <td>0</td>\n",
       "      <td>0</td>\n",
       "      <td>0</td>\n",
       "      <td>Transmission hums all the time. Acura claims, ...</td>\n",
       "      <td>nan</td>\n",
       "      <td>nan</td>\n",
       "      <td>29375.00000</td>\n",
       "      <td>3.0</td>\n",
       "    </tr>\n",
       "    <tr>\n",
       "      <th>2</th>\n",
       "      <td>0</td>\n",
       "      <td>8</td>\n",
       "      <td>Great entry level luxury car</td>\n",
       "      <td>0</td>\n",
       "      <td>0</td>\n",
       "      <td>0</td>\n",
       "      <td>0</td>\n",
       "      <td>0</td>\n",
       "      <td>0</td>\n",
       "      <td>0</td>\n",
       "      <td>0</td>\n",
       "      <td>Before purchasing this car, I had a Mazda RX-8...</td>\n",
       "      <td>nan</td>\n",
       "      <td>nan</td>\n",
       "      <td>29375.00000</td>\n",
       "      <td>5.0</td>\n",
       "    </tr>\n",
       "    <tr>\n",
       "      <th>3</th>\n",
       "      <td>0</td>\n",
       "      <td>8</td>\n",
       "      <td>Amazing Car!</td>\n",
       "      <td>5</td>\n",
       "      <td>5</td>\n",
       "      <td>4</td>\n",
       "      <td>5</td>\n",
       "      <td>4</td>\n",
       "      <td>5</td>\n",
       "      <td>5</td>\n",
       "      <td>5</td>\n",
       "      <td>I just purchased the 2015 ILX 2.4 6 speed manu...</td>\n",
       "      <td>Interior is amazing and so comfortable, the tr...</td>\n",
       "      <td>I'm not sure, maybe GPS and a little bit bette...</td>\n",
       "      <td>29375.00000</td>\n",
       "      <td>3.0</td>\n",
       "    </tr>\n",
       "    <tr>\n",
       "      <th>4</th>\n",
       "      <td>0</td>\n",
       "      <td>8</td>\n",
       "      <td>My ILX is a great car</td>\n",
       "      <td>5</td>\n",
       "      <td>5</td>\n",
       "      <td>5</td>\n",
       "      <td>5</td>\n",
       "      <td>5</td>\n",
       "      <td>5</td>\n",
       "      <td>5</td>\n",
       "      <td>5</td>\n",
       "      <td>I really enjoy owning my ILX.  The ILX offers ...</td>\n",
       "      <td>Why is the ILX not just a Civic EX-L?\\r\\r\\r\\n\\...</td>\n",
       "      <td>Road noise and the suspension can be a bit sti...</td>\n",
       "      <td>29375.00000</td>\n",
       "      <td>18.0</td>\n",
       "    </tr>\n",
       "  </tbody>\n",
       "</table>\n",
       "</div>"
      ],
      "text/plain": [
       "   make  year                         title perform_rating comfort_rating  \\\n",
       "0     0    10                     A new Dud              0              0   \n",
       "1     0     8               Noisy as heck !              0              0   \n",
       "2     0     8  Great entry level luxury car              0              0   \n",
       "3     0     8                  Amazing Car!              5              5   \n",
       "4     0     8         My ILX is a great car              5              5   \n",
       "\n",
       "  fuel_econ_rating fun_rating interior_rating exterior_rating  \\\n",
       "0                0          0               0               0   \n",
       "1                0          0               0               0   \n",
       "2                0          0               0               0   \n",
       "3                4          5               4               5   \n",
       "4                5          5               5               5   \n",
       "\n",
       "  build_qual_rating reliab_rating  \\\n",
       "0                 0             0   \n",
       "1                 0             0   \n",
       "2                 0             0   \n",
       "3                 5             5   \n",
       "4                 5             5   \n",
       "\n",
       "                                                text  \\\n",
       "0  I just leased a new 2017 Acura ILX two months ...   \n",
       "1  Transmission hums all the time. Acura claims, ...   \n",
       "2  Before purchasing this car, I had a Mazda RX-8...   \n",
       "3  I just purchased the 2015 ILX 2.4 6 speed manu...   \n",
       "4  I really enjoy owning my ILX.  The ILX offers ...   \n",
       "\n",
       "                                            fav_feat  \\\n",
       "0                                                nan   \n",
       "1                                                nan   \n",
       "2                                                nan   \n",
       "3  Interior is amazing and so comfortable, the tr...   \n",
       "4  Why is the ILX not just a Civic EX-L?\\r\\r\\r\\n\\...   \n",
       "\n",
       "                                            sugg_imp     Avg_MSRP  \\\n",
       "0                                                nan  31203.33333   \n",
       "1                                                nan  29375.00000   \n",
       "2                                                nan  29375.00000   \n",
       "3  I'm not sure, maybe GPS and a little bit bette...  29375.00000   \n",
       "4  Road noise and the suspension can be a bit sti...  29375.00000   \n",
       "\n",
       "   Total Engagement  \n",
       "0               0.0  \n",
       "1               3.0  \n",
       "2               5.0  \n",
       "3               3.0  \n",
       "4              18.0  "
      ]
     },
     "execution_count": 23,
     "metadata": {},
     "output_type": "execute_result"
    }
   ],
   "source": [
    "# Dropping couts of thumbs up, thumbs down and comments\n",
    "data.drop([\"cnt_thumbs_down\",\"cnt_thumbs_up\",\"comment_cnt\"],axis=1,inplace=True)\n",
    "\n",
    "#Verifying changes \n",
    "data.head()"
   ]
  },
  {
   "cell_type": "markdown",
   "id": "20353915",
   "metadata": {},
   "source": [
    "#### Sentiment Analysis\n"
   ]
  },
  {
   "cell_type": "code",
   "execution_count": 24,
   "id": "e548a336",
   "metadata": {},
   "outputs": [],
   "source": [
    "#Removing Missing values in text data\n",
    "data['title'] = data['title'].fillna('').astype(str)\n",
    "data['text'] = data['text'].fillna('').astype(str)\n",
    "data['fav_feat'] = data['fav_feat'].fillna('').astype(str)\n",
    "data['sugg_imp'] = data['sugg_imp'].fillna('').astype(str)\n",
    "\n",
    "# Importing modules\n",
    "from textblob import TextBlob\n",
    "\n",
    "# Maiking sentiment score columns\n",
    "data[\"title_sentiment\"]=data[\"title\"].apply(lambda txt: TextBlob(txt).sentiment.polarity)\n",
    "data[\"text_sentiment\"]=data[\"text\"].apply(lambda txt: TextBlob(txt).sentiment.polarity)\n",
    "data[\"fav_feat_sentiment\"]=data[\"fav_feat\"].apply(lambda txt: TextBlob(txt).sentiment.polarity)\n",
    "data[\"sugg_imp__sentiment\"]=data[\"sugg_imp\"].apply(lambda txt: TextBlob(txt).sentiment.polarity)"
   ]
  },
  {
   "cell_type": "code",
   "execution_count": 25,
   "id": "a4a78364",
   "metadata": {},
   "outputs": [],
   "source": [
    "# importing modules\n",
    "from nltk.corpus import stopwords\n",
    "from nltk.tokenize import word_tokenize\n",
    "import string\n",
    "from nltk.stem.snowball import SnowballStemmer\n",
    "\n",
    "# Choosing a stop word list and a stemmer\n",
    "stop_words = set(stopwords.words(\"English\"))\n",
    "stemmer = SnowballStemmer(\"english\")\n",
    "\n",
    "# Defining a function to tokenize and clean data\n",
    "def tokenize_clean(txt):\n",
    "    tokens = word_tokenize(txt.lower())\n",
    "    tokens = [t for t in tokens if t not in stop_words and t not in string.punctuation]\n",
    "    stemmed_tokens = [stemmer.stem(t) for t in tokens]\n",
    "    return stemmed_tokens\n",
    "\n",
    "#Using the function\n",
    "data[\"title_tokens\"]=data[\"title\"].apply(tokenize_clean)\n",
    "data[\"text_tokens\"]=data[\"text\"].apply(tokenize_clean)\n",
    "data[\"fav_feat_tokens\"]=data[\"fav_feat\"].apply(tokenize_clean)\n",
    "data[\"sugg_imp_tokens\"]=data[\"sugg_imp\"].apply(tokenize_clean)\n"
   ]
  },
  {
   "cell_type": "markdown",
   "id": "7ae633e7",
   "metadata": {},
   "source": [
    "#### Making length of text variables"
   ]
  },
  {
   "cell_type": "code",
   "execution_count": 26,
   "id": "44b11bfa",
   "metadata": {
    "scrolled": true
   },
   "outputs": [],
   "source": [
    "# Making text length columns\n",
    "data[\"title_length\"]=data[\"title\"].apply(lambda txt:len(txt))\n",
    "data[\"text_length\"]=data[\"text\"].apply(lambda txt:len(txt))\n",
    "data[\"fav_feat_length\"]=data[\"fav_feat\"].apply(lambda txt:len(txt))\n",
    "data[\"sugg_imp_length\"]=data[\"sugg_imp\"].apply(lambda txt:len(txt))"
   ]
  },
  {
   "cell_type": "code",
   "execution_count": 27,
   "id": "79290818",
   "metadata": {},
   "outputs": [],
   "source": [
    "# Making a combined text column\n",
    "data[\"combined_text\"] = (data[\"title_tokens\"]+data[\"text_tokens\"]\n",
    "+data[\"fav_feat_tokens\"]+data[\"sugg_imp_tokens\"])"
   ]
  },
  {
   "cell_type": "code",
   "execution_count": 28,
   "id": "569e172a",
   "metadata": {},
   "outputs": [],
   "source": [
    "data[\"combined_text\"] = data[\"combined_text\"].apply(lambda tokens: \" \".join(tokens))"
   ]
  },
  {
   "cell_type": "markdown",
   "id": "a19da14a",
   "metadata": {},
   "source": [
    "#### Removing Irrelevant columns and setting correct dtypes"
   ]
  },
  {
   "cell_type": "code",
   "execution_count": 29,
   "id": "5b004395",
   "metadata": {
    "scrolled": true
   },
   "outputs": [
    {
     "data": {
      "text/plain": [
       "Index(['make', 'year', 'title', 'perform_rating', 'comfort_rating',\n",
       "       'fuel_econ_rating', 'fun_rating', 'interior_rating', 'exterior_rating',\n",
       "       'build_qual_rating', 'reliab_rating', 'text', 'fav_feat', 'sugg_imp',\n",
       "       'Avg_MSRP', 'Total Engagement', 'title_sentiment', 'text_sentiment',\n",
       "       'fav_feat_sentiment', 'sugg_imp__sentiment', 'title_tokens',\n",
       "       'text_tokens', 'fav_feat_tokens', 'sugg_imp_tokens', 'title_length',\n",
       "       'text_length', 'fav_feat_length', 'sugg_imp_length', 'combined_text'],\n",
       "      dtype='object')"
      ]
     },
     "execution_count": 29,
     "metadata": {},
     "output_type": "execute_result"
    }
   ],
   "source": [
    "data.columns"
   ]
  },
  {
   "cell_type": "code",
   "execution_count": 30,
   "id": "df223c92",
   "metadata": {},
   "outputs": [],
   "source": [
    "# Dropping irrelevant columns first\n",
    "data.drop([\"title\",\"text\",\"fav_feat\",\"sugg_imp\",\n",
    "             \"title_tokens\",\"text_tokens\",\"fav_feat_tokens\",\"sugg_imp_tokens\"],axis=1,inplace=True)"
   ]
  },
  {
   "cell_type": "code",
   "execution_count": 32,
   "id": "2ab7ee80",
   "metadata": {},
   "outputs": [
    {
     "data": {
      "text/plain": [
       "make                   category\n",
       "year                   category\n",
       "perform_rating         category\n",
       "comfort_rating         category\n",
       "fuel_econ_rating       category\n",
       "fun_rating             category\n",
       "interior_rating        category\n",
       "exterior_rating        category\n",
       "build_qual_rating      category\n",
       "reliab_rating          category\n",
       "Avg_MSRP                float64\n",
       "Total Engagement        float64\n",
       "title_sentiment         float64\n",
       "text_sentiment          float64\n",
       "fav_feat_sentiment      float64\n",
       "sugg_imp__sentiment     float64\n",
       "title_length              int64\n",
       "text_length               int64\n",
       "fav_feat_length           int64\n",
       "sugg_imp_length           int64\n",
       "combined_text            object\n",
       "dtype: object"
      ]
     },
     "execution_count": 32,
     "metadata": {},
     "output_type": "execute_result"
    }
   ],
   "source": [
    "# Setting the right data types for all columns\n",
    "data[[\"make\",\"year\"]] = data[[\"make\",\"year\"]].astype(\"category\")"
   ]
  },
  {
   "cell_type": "code",
   "execution_count": 33,
   "id": "e4613925",
   "metadata": {},
   "outputs": [
    {
     "name": "stdout",
     "output_type": "stream",
     "text": [
      "Maximum length of sequences : 980\n"
     ]
    },
    {
     "data": {
      "text/html": [
       "<div>\n",
       "<style scoped>\n",
       "    .dataframe tbody tr th:only-of-type {\n",
       "        vertical-align: middle;\n",
       "    }\n",
       "\n",
       "    .dataframe tbody tr th {\n",
       "        vertical-align: top;\n",
       "    }\n",
       "\n",
       "    .dataframe thead th {\n",
       "        text-align: right;\n",
       "    }\n",
       "</style>\n",
       "<table border=\"1\" class=\"dataframe\">\n",
       "  <thead>\n",
       "    <tr style=\"text-align: right;\">\n",
       "      <th></th>\n",
       "      <th>0</th>\n",
       "      <th>1</th>\n",
       "      <th>2</th>\n",
       "      <th>3</th>\n",
       "      <th>4</th>\n",
       "      <th>5</th>\n",
       "      <th>6</th>\n",
       "      <th>7</th>\n",
       "      <th>8</th>\n",
       "      <th>9</th>\n",
       "      <th>...</th>\n",
       "      <th>970</th>\n",
       "      <th>971</th>\n",
       "      <th>972</th>\n",
       "      <th>973</th>\n",
       "      <th>974</th>\n",
       "      <th>975</th>\n",
       "      <th>976</th>\n",
       "      <th>977</th>\n",
       "      <th>978</th>\n",
       "      <th>979</th>\n",
       "    </tr>\n",
       "  </thead>\n",
       "  <tbody>\n",
       "    <tr>\n",
       "      <th>0</th>\n",
       "      <td>29</td>\n",
       "      <td>459</td>\n",
       "      <td>29</td>\n",
       "      <td>2036</td>\n",
       "      <td>369</td>\n",
       "      <td>144</td>\n",
       "      <td>90</td>\n",
       "      <td>352</td>\n",
       "      <td>369</td>\n",
       "      <td>63</td>\n",
       "      <td>...</td>\n",
       "      <td>0</td>\n",
       "      <td>0</td>\n",
       "      <td>0</td>\n",
       "      <td>0</td>\n",
       "      <td>0</td>\n",
       "      <td>0</td>\n",
       "      <td>0</td>\n",
       "      <td>0</td>\n",
       "      <td>0</td>\n",
       "      <td>0</td>\n",
       "    </tr>\n",
       "    <tr>\n",
       "      <th>1</th>\n",
       "      <td>737</td>\n",
       "      <td>2052</td>\n",
       "      <td>71</td>\n",
       "      <td>2761</td>\n",
       "      <td>36</td>\n",
       "      <td>369</td>\n",
       "      <td>1138</td>\n",
       "      <td>5</td>\n",
       "      <td>472</td>\n",
       "      <td>2196</td>\n",
       "      <td>...</td>\n",
       "      <td>0</td>\n",
       "      <td>0</td>\n",
       "      <td>0</td>\n",
       "      <td>0</td>\n",
       "      <td>0</td>\n",
       "      <td>0</td>\n",
       "      <td>0</td>\n",
       "      <td>0</td>\n",
       "      <td>0</td>\n",
       "      <td>0</td>\n",
       "    </tr>\n",
       "    <tr>\n",
       "      <th>2</th>\n",
       "      <td>4</td>\n",
       "      <td>559</td>\n",
       "      <td>481</td>\n",
       "      <td>180</td>\n",
       "      <td>1</td>\n",
       "      <td>67</td>\n",
       "      <td>1</td>\n",
       "      <td>286</td>\n",
       "      <td>1209</td>\n",
       "      <td>254</td>\n",
       "      <td>...</td>\n",
       "      <td>0</td>\n",
       "      <td>0</td>\n",
       "      <td>0</td>\n",
       "      <td>0</td>\n",
       "      <td>0</td>\n",
       "      <td>0</td>\n",
       "      <td>0</td>\n",
       "      <td>0</td>\n",
       "      <td>0</td>\n",
       "      <td>0</td>\n",
       "    </tr>\n",
       "    <tr>\n",
       "      <th>3</th>\n",
       "      <td>211</td>\n",
       "      <td>1</td>\n",
       "      <td>67</td>\n",
       "      <td>592</td>\n",
       "      <td>44</td>\n",
       "      <td>52</td>\n",
       "      <td>58</td>\n",
       "      <td>85</td>\n",
       "      <td>175</td>\n",
       "      <td>401</td>\n",
       "      <td>...</td>\n",
       "      <td>0</td>\n",
       "      <td>0</td>\n",
       "      <td>0</td>\n",
       "      <td>0</td>\n",
       "      <td>0</td>\n",
       "      <td>0</td>\n",
       "      <td>0</td>\n",
       "      <td>0</td>\n",
       "      <td>0</td>\n",
       "      <td>0</td>\n",
       "    </tr>\n",
       "    <tr>\n",
       "      <th>4</th>\n",
       "      <td>4</td>\n",
       "      <td>1</td>\n",
       "      <td>47</td>\n",
       "      <td>285</td>\n",
       "      <td>89</td>\n",
       "      <td>278</td>\n",
       "      <td>4</td>\n",
       "      <td>174</td>\n",
       "      <td>664</td>\n",
       "      <td>95</td>\n",
       "      <td>...</td>\n",
       "      <td>0</td>\n",
       "      <td>0</td>\n",
       "      <td>0</td>\n",
       "      <td>0</td>\n",
       "      <td>0</td>\n",
       "      <td>0</td>\n",
       "      <td>0</td>\n",
       "      <td>0</td>\n",
       "      <td>0</td>\n",
       "      <td>0</td>\n",
       "    </tr>\n",
       "  </tbody>\n",
       "</table>\n",
       "<p>5 rows × 980 columns</p>\n",
       "</div>"
      ],
      "text/plain": [
       "   0     1    2     3    4    5     6    7     8     9    ...  970  971  972  \\\n",
       "0   29   459   29  2036  369  144    90  352   369    63  ...    0    0    0   \n",
       "1  737  2052   71  2761   36  369  1138    5   472  2196  ...    0    0    0   \n",
       "2    4   559  481   180    1   67     1  286  1209   254  ...    0    0    0   \n",
       "3  211     1   67   592   44   52    58   85   175   401  ...    0    0    0   \n",
       "4    4     1   47   285   89  278     4  174   664    95  ...    0    0    0   \n",
       "\n",
       "   973  974  975  976  977  978  979  \n",
       "0    0    0    0    0    0    0    0  \n",
       "1    0    0    0    0    0    0    0  \n",
       "2    0    0    0    0    0    0    0  \n",
       "3    0    0    0    0    0    0    0  \n",
       "4    0    0    0    0    0    0    0  \n",
       "\n",
       "[5 rows x 980 columns]"
      ]
     },
     "execution_count": 33,
     "metadata": {},
     "output_type": "execute_result"
    }
   ],
   "source": [
    "# Importing modules\n",
    "from tensorflow.keras.preprocessing.text import Tokenizer\n",
    "from tensorflow.keras.preprocessing.sequence import pad_sequences\n",
    "\n",
    "# Fitting tokenizer on the text data\n",
    "tokenizer = Tokenizer(num_words=4000)\n",
    "tokenizer.fit_on_texts(data[\"combined_text\"])\n",
    "\n",
    "# Converting text to sequences\n",
    "sequences= tokenizer.texts_to_sequences(data[\"combined_text\"])\n",
    "\n",
    "# Printing Maximum length of a sequence\n",
    "max_length = max(map(len,sequences))\n",
    "print(\"Maximum length of sequences :\",max_length)\n",
    "\n",
    "# Padding the sequences\n",
    "padded_sequences = pad_sequences(sequences,maxlen=max_length,padding=\"post\")\n",
    "\n",
    "# Converting to df\n",
    "text_sequence = pd.DataFrame(padded_sequences)\n",
    "text_sequence.head()"
   ]
  },
  {
   "cell_type": "code",
   "execution_count": 34,
   "id": "838fb5b2",
   "metadata": {},
   "outputs": [
    {
     "data": {
      "text/plain": [
       "Index(['make', 'year', 'perform_rating', 'comfort_rating', 'fuel_econ_rating',\n",
       "       'fun_rating', 'interior_rating', 'exterior_rating', 'build_qual_rating',\n",
       "       'reliab_rating', 'Avg_MSRP', 'Total Engagement', 'title_sentiment',\n",
       "       'text_sentiment', 'fav_feat_sentiment', 'sugg_imp__sentiment',\n",
       "       'title_length', 'text_length', 'fav_feat_length', 'sugg_imp_length'],\n",
       "      dtype='object')"
      ]
     },
     "execution_count": 34,
     "metadata": {},
     "output_type": "execute_result"
    }
   ],
   "source": [
    "# Droppping combined text and keeping only sequences\n",
    "data.drop(\"combined_text\",axis=1,inplace=True)\n",
    "data.columns"
   ]
  },
  {
   "cell_type": "code",
   "execution_count": 35,
   "id": "5845a140",
   "metadata": {
    "scrolled": true
   },
   "outputs": [
    {
     "data": {
      "text/html": [
       "<div>\n",
       "<style scoped>\n",
       "    .dataframe tbody tr th:only-of-type {\n",
       "        vertical-align: middle;\n",
       "    }\n",
       "\n",
       "    .dataframe tbody tr th {\n",
       "        vertical-align: top;\n",
       "    }\n",
       "\n",
       "    .dataframe thead th {\n",
       "        text-align: right;\n",
       "    }\n",
       "</style>\n",
       "<table border=\"1\" class=\"dataframe\">\n",
       "  <thead>\n",
       "    <tr style=\"text-align: right;\">\n",
       "      <th></th>\n",
       "      <th>make</th>\n",
       "      <th>year</th>\n",
       "      <th>perform_rating</th>\n",
       "      <th>comfort_rating</th>\n",
       "      <th>fuel_econ_rating</th>\n",
       "      <th>fun_rating</th>\n",
       "      <th>interior_rating</th>\n",
       "      <th>exterior_rating</th>\n",
       "      <th>build_qual_rating</th>\n",
       "      <th>reliab_rating</th>\n",
       "      <th>...</th>\n",
       "      <th>970</th>\n",
       "      <th>971</th>\n",
       "      <th>972</th>\n",
       "      <th>973</th>\n",
       "      <th>974</th>\n",
       "      <th>975</th>\n",
       "      <th>976</th>\n",
       "      <th>977</th>\n",
       "      <th>978</th>\n",
       "      <th>979</th>\n",
       "    </tr>\n",
       "  </thead>\n",
       "  <tbody>\n",
       "    <tr>\n",
       "      <th>0</th>\n",
       "      <td>0</td>\n",
       "      <td>10</td>\n",
       "      <td>0</td>\n",
       "      <td>0</td>\n",
       "      <td>0</td>\n",
       "      <td>0</td>\n",
       "      <td>0</td>\n",
       "      <td>0</td>\n",
       "      <td>0</td>\n",
       "      <td>0</td>\n",
       "      <td>...</td>\n",
       "      <td>0</td>\n",
       "      <td>0</td>\n",
       "      <td>0</td>\n",
       "      <td>0</td>\n",
       "      <td>0</td>\n",
       "      <td>0</td>\n",
       "      <td>0</td>\n",
       "      <td>0</td>\n",
       "      <td>0</td>\n",
       "      <td>0</td>\n",
       "    </tr>\n",
       "    <tr>\n",
       "      <th>1</th>\n",
       "      <td>0</td>\n",
       "      <td>8</td>\n",
       "      <td>0</td>\n",
       "      <td>0</td>\n",
       "      <td>0</td>\n",
       "      <td>0</td>\n",
       "      <td>0</td>\n",
       "      <td>0</td>\n",
       "      <td>0</td>\n",
       "      <td>0</td>\n",
       "      <td>...</td>\n",
       "      <td>0</td>\n",
       "      <td>0</td>\n",
       "      <td>0</td>\n",
       "      <td>0</td>\n",
       "      <td>0</td>\n",
       "      <td>0</td>\n",
       "      <td>0</td>\n",
       "      <td>0</td>\n",
       "      <td>0</td>\n",
       "      <td>0</td>\n",
       "    </tr>\n",
       "    <tr>\n",
       "      <th>2</th>\n",
       "      <td>0</td>\n",
       "      <td>8</td>\n",
       "      <td>0</td>\n",
       "      <td>0</td>\n",
       "      <td>0</td>\n",
       "      <td>0</td>\n",
       "      <td>0</td>\n",
       "      <td>0</td>\n",
       "      <td>0</td>\n",
       "      <td>0</td>\n",
       "      <td>...</td>\n",
       "      <td>0</td>\n",
       "      <td>0</td>\n",
       "      <td>0</td>\n",
       "      <td>0</td>\n",
       "      <td>0</td>\n",
       "      <td>0</td>\n",
       "      <td>0</td>\n",
       "      <td>0</td>\n",
       "      <td>0</td>\n",
       "      <td>0</td>\n",
       "    </tr>\n",
       "    <tr>\n",
       "      <th>3</th>\n",
       "      <td>0</td>\n",
       "      <td>8</td>\n",
       "      <td>5</td>\n",
       "      <td>5</td>\n",
       "      <td>4</td>\n",
       "      <td>5</td>\n",
       "      <td>4</td>\n",
       "      <td>5</td>\n",
       "      <td>5</td>\n",
       "      <td>5</td>\n",
       "      <td>...</td>\n",
       "      <td>0</td>\n",
       "      <td>0</td>\n",
       "      <td>0</td>\n",
       "      <td>0</td>\n",
       "      <td>0</td>\n",
       "      <td>0</td>\n",
       "      <td>0</td>\n",
       "      <td>0</td>\n",
       "      <td>0</td>\n",
       "      <td>0</td>\n",
       "    </tr>\n",
       "    <tr>\n",
       "      <th>4</th>\n",
       "      <td>0</td>\n",
       "      <td>8</td>\n",
       "      <td>5</td>\n",
       "      <td>5</td>\n",
       "      <td>5</td>\n",
       "      <td>5</td>\n",
       "      <td>5</td>\n",
       "      <td>5</td>\n",
       "      <td>5</td>\n",
       "      <td>5</td>\n",
       "      <td>...</td>\n",
       "      <td>0</td>\n",
       "      <td>0</td>\n",
       "      <td>0</td>\n",
       "      <td>0</td>\n",
       "      <td>0</td>\n",
       "      <td>0</td>\n",
       "      <td>0</td>\n",
       "      <td>0</td>\n",
       "      <td>0</td>\n",
       "      <td>0</td>\n",
       "    </tr>\n",
       "  </tbody>\n",
       "</table>\n",
       "<p>5 rows × 1000 columns</p>\n",
       "</div>"
      ],
      "text/plain": [
       "  make year perform_rating comfort_rating fuel_econ_rating fun_rating  \\\n",
       "0    0   10              0              0                0          0   \n",
       "1    0    8              0              0                0          0   \n",
       "2    0    8              0              0                0          0   \n",
       "3    0    8              5              5                4          5   \n",
       "4    0    8              5              5                5          5   \n",
       "\n",
       "  interior_rating exterior_rating build_qual_rating reliab_rating  ...  970  \\\n",
       "0               0               0                 0             0  ...    0   \n",
       "1               0               0                 0             0  ...    0   \n",
       "2               0               0                 0             0  ...    0   \n",
       "3               4               5                 5             5  ...    0   \n",
       "4               5               5                 5             5  ...    0   \n",
       "\n",
       "   971  972  973  974  975  976  977  978  979  \n",
       "0    0    0    0    0    0    0    0    0    0  \n",
       "1    0    0    0    0    0    0    0    0    0  \n",
       "2    0    0    0    0    0    0    0    0    0  \n",
       "3    0    0    0    0    0    0    0    0    0  \n",
       "4    0    0    0    0    0    0    0    0    0  \n",
       "\n",
       "[5 rows x 1000 columns]"
      ]
     },
     "execution_count": 35,
     "metadata": {},
     "output_type": "execute_result"
    }
   ],
   "source": [
    "# Concating data and sequences\n",
    "data = pd.concat([data,text_sequence.reset_index(drop=True)],axis=1)\n",
    "data.head()"
   ]
  },
  {
   "cell_type": "markdown",
   "id": "1dec04b2",
   "metadata": {},
   "source": [
    "## Some more descriptive statistics"
   ]
  },
  {
   "cell_type": "code",
   "execution_count": 36,
   "id": "29362003",
   "metadata": {},
   "outputs": [
    {
     "name": "stdout",
     "output_type": "stream",
     "text": [
      "Mean of sentiment score for reviews 0.27\n",
      "Mean of sentiment score for title 0.27\n"
     ]
    }
   ],
   "source": [
    "import statistics\n",
    "print(\"Mean of sentiment score for reviews\",round(statistics.mean(data[\"title_sentiment\"]),2))\n",
    "\n",
    "print(\"Mean of sentiment score for title\",round(statistics.mean(data[\"title_sentiment\"]),2))\n"
   ]
  },
  {
   "cell_type": "markdown",
   "id": "abbd0e92",
   "metadata": {},
   "source": [
    "**Titles and Reviews have the same mean sentiment scores**"
   ]
  },
  {
   "cell_type": "markdown",
   "id": "00eefea4",
   "metadata": {},
   "source": [
    "## Model Building and Prediction"
   ]
  },
  {
   "cell_type": "code",
   "execution_count": 37,
   "id": "e8e85e2a",
   "metadata": {},
   "outputs": [],
   "source": [
    "# Normalising numeric data\n",
    "from sklearn.preprocessing import StandardScaler\n",
    "scaler= StandardScaler()\n",
    "numeric = scaler.fit_transform(data[[\"Avg_MSRP\",\"Total Engagement\",\"title_length\",\"text_length\",\"fav_feat_length\",\"sugg_imp_length\"]])\n",
    "numeric = pd.DataFrame(numeric,columns=scaler.get_feature_names_out())"
   ]
  },
  {
   "cell_type": "code",
   "execution_count": 38,
   "id": "22ff9ba4",
   "metadata": {},
   "outputs": [
    {
     "data": {
      "text/html": [
       "<div>\n",
       "<style scoped>\n",
       "    .dataframe tbody tr th:only-of-type {\n",
       "        vertical-align: middle;\n",
       "    }\n",
       "\n",
       "    .dataframe tbody tr th {\n",
       "        vertical-align: top;\n",
       "    }\n",
       "\n",
       "    .dataframe thead th {\n",
       "        text-align: right;\n",
       "    }\n",
       "</style>\n",
       "<table border=\"1\" class=\"dataframe\">\n",
       "  <thead>\n",
       "    <tr style=\"text-align: right;\">\n",
       "      <th></th>\n",
       "      <th>Avg_MSRP</th>\n",
       "      <th>Total Engagement</th>\n",
       "      <th>title_length</th>\n",
       "      <th>text_length</th>\n",
       "      <th>fav_feat_length</th>\n",
       "      <th>sugg_imp_length</th>\n",
       "    </tr>\n",
       "  </thead>\n",
       "  <tbody>\n",
       "    <tr>\n",
       "      <th>0</th>\n",
       "      <td>0.047813</td>\n",
       "      <td>-0.023688</td>\n",
       "      <td>-1.169195</td>\n",
       "      <td>2.138759</td>\n",
       "      <td>-0.827400</td>\n",
       "      <td>-0.842589</td>\n",
       "    </tr>\n",
       "    <tr>\n",
       "      <th>1</th>\n",
       "      <td>-0.041089</td>\n",
       "      <td>-0.022985</td>\n",
       "      <td>-0.610178</td>\n",
       "      <td>-1.126746</td>\n",
       "      <td>-0.827400</td>\n",
       "      <td>-0.842589</td>\n",
       "    </tr>\n",
       "    <tr>\n",
       "      <th>2</th>\n",
       "      <td>-0.041089</td>\n",
       "      <td>-0.022516</td>\n",
       "      <td>0.601026</td>\n",
       "      <td>4.908976</td>\n",
       "      <td>-0.827400</td>\n",
       "      <td>-0.842589</td>\n",
       "    </tr>\n",
       "    <tr>\n",
       "      <th>3</th>\n",
       "      <td>-0.041089</td>\n",
       "      <td>-0.022985</td>\n",
       "      <td>-0.889686</td>\n",
       "      <td>-0.349823</td>\n",
       "      <td>0.611667</td>\n",
       "      <td>1.161756</td>\n",
       "    </tr>\n",
       "    <tr>\n",
       "      <th>4</th>\n",
       "      <td>-0.041089</td>\n",
       "      <td>-0.019470</td>\n",
       "      <td>-0.051161</td>\n",
       "      <td>0.354264</td>\n",
       "      <td>2.255191</td>\n",
       "      <td>1.588053</td>\n",
       "    </tr>\n",
       "  </tbody>\n",
       "</table>\n",
       "</div>"
      ],
      "text/plain": [
       "   Avg_MSRP  Total Engagement  title_length  text_length  fav_feat_length  \\\n",
       "0  0.047813         -0.023688     -1.169195     2.138759        -0.827400   \n",
       "1 -0.041089         -0.022985     -0.610178    -1.126746        -0.827400   \n",
       "2 -0.041089         -0.022516      0.601026     4.908976        -0.827400   \n",
       "3 -0.041089         -0.022985     -0.889686    -0.349823         0.611667   \n",
       "4 -0.041089         -0.019470     -0.051161     0.354264         2.255191   \n",
       "\n",
       "   sugg_imp_length  \n",
       "0        -0.842589  \n",
       "1        -0.842589  \n",
       "2        -0.842589  \n",
       "3         1.161756  \n",
       "4         1.588053  "
      ]
     },
     "execution_count": 38,
     "metadata": {},
     "output_type": "execute_result"
    }
   ],
   "source": [
    "numeric.head()"
   ]
  },
  {
   "cell_type": "code",
   "execution_count": 39,
   "id": "81f78028",
   "metadata": {},
   "outputs": [
    {
     "data": {
      "text/html": [
       "<div>\n",
       "<style scoped>\n",
       "    .dataframe tbody tr th:only-of-type {\n",
       "        vertical-align: middle;\n",
       "    }\n",
       "\n",
       "    .dataframe tbody tr th {\n",
       "        vertical-align: top;\n",
       "    }\n",
       "\n",
       "    .dataframe thead th {\n",
       "        text-align: right;\n",
       "    }\n",
       "</style>\n",
       "<table border=\"1\" class=\"dataframe\">\n",
       "  <thead>\n",
       "    <tr style=\"text-align: right;\">\n",
       "      <th></th>\n",
       "      <th>year_0</th>\n",
       "      <th>year_1</th>\n",
       "      <th>year_2</th>\n",
       "      <th>year_3</th>\n",
       "      <th>year_4</th>\n",
       "      <th>year_5</th>\n",
       "      <th>year_6</th>\n",
       "      <th>year_7</th>\n",
       "      <th>year_8</th>\n",
       "      <th>year_9</th>\n",
       "      <th>...</th>\n",
       "      <th>970</th>\n",
       "      <th>971</th>\n",
       "      <th>972</th>\n",
       "      <th>973</th>\n",
       "      <th>974</th>\n",
       "      <th>975</th>\n",
       "      <th>976</th>\n",
       "      <th>977</th>\n",
       "      <th>978</th>\n",
       "      <th>979</th>\n",
       "    </tr>\n",
       "  </thead>\n",
       "  <tbody>\n",
       "    <tr>\n",
       "      <th>0</th>\n",
       "      <td>0.0</td>\n",
       "      <td>0.0</td>\n",
       "      <td>0.0</td>\n",
       "      <td>0.0</td>\n",
       "      <td>0.0</td>\n",
       "      <td>0.0</td>\n",
       "      <td>0.0</td>\n",
       "      <td>0.0</td>\n",
       "      <td>0.0</td>\n",
       "      <td>0.0</td>\n",
       "      <td>...</td>\n",
       "      <td>0</td>\n",
       "      <td>0</td>\n",
       "      <td>0</td>\n",
       "      <td>0</td>\n",
       "      <td>0</td>\n",
       "      <td>0</td>\n",
       "      <td>0</td>\n",
       "      <td>0</td>\n",
       "      <td>0</td>\n",
       "      <td>0</td>\n",
       "    </tr>\n",
       "    <tr>\n",
       "      <th>1</th>\n",
       "      <td>0.0</td>\n",
       "      <td>0.0</td>\n",
       "      <td>0.0</td>\n",
       "      <td>0.0</td>\n",
       "      <td>0.0</td>\n",
       "      <td>0.0</td>\n",
       "      <td>0.0</td>\n",
       "      <td>0.0</td>\n",
       "      <td>1.0</td>\n",
       "      <td>0.0</td>\n",
       "      <td>...</td>\n",
       "      <td>0</td>\n",
       "      <td>0</td>\n",
       "      <td>0</td>\n",
       "      <td>0</td>\n",
       "      <td>0</td>\n",
       "      <td>0</td>\n",
       "      <td>0</td>\n",
       "      <td>0</td>\n",
       "      <td>0</td>\n",
       "      <td>0</td>\n",
       "    </tr>\n",
       "    <tr>\n",
       "      <th>2</th>\n",
       "      <td>0.0</td>\n",
       "      <td>0.0</td>\n",
       "      <td>0.0</td>\n",
       "      <td>0.0</td>\n",
       "      <td>0.0</td>\n",
       "      <td>0.0</td>\n",
       "      <td>0.0</td>\n",
       "      <td>0.0</td>\n",
       "      <td>1.0</td>\n",
       "      <td>0.0</td>\n",
       "      <td>...</td>\n",
       "      <td>0</td>\n",
       "      <td>0</td>\n",
       "      <td>0</td>\n",
       "      <td>0</td>\n",
       "      <td>0</td>\n",
       "      <td>0</td>\n",
       "      <td>0</td>\n",
       "      <td>0</td>\n",
       "      <td>0</td>\n",
       "      <td>0</td>\n",
       "    </tr>\n",
       "    <tr>\n",
       "      <th>3</th>\n",
       "      <td>0.0</td>\n",
       "      <td>0.0</td>\n",
       "      <td>0.0</td>\n",
       "      <td>0.0</td>\n",
       "      <td>0.0</td>\n",
       "      <td>0.0</td>\n",
       "      <td>0.0</td>\n",
       "      <td>0.0</td>\n",
       "      <td>1.0</td>\n",
       "      <td>0.0</td>\n",
       "      <td>...</td>\n",
       "      <td>0</td>\n",
       "      <td>0</td>\n",
       "      <td>0</td>\n",
       "      <td>0</td>\n",
       "      <td>0</td>\n",
       "      <td>0</td>\n",
       "      <td>0</td>\n",
       "      <td>0</td>\n",
       "      <td>0</td>\n",
       "      <td>0</td>\n",
       "    </tr>\n",
       "    <tr>\n",
       "      <th>4</th>\n",
       "      <td>0.0</td>\n",
       "      <td>0.0</td>\n",
       "      <td>0.0</td>\n",
       "      <td>0.0</td>\n",
       "      <td>0.0</td>\n",
       "      <td>0.0</td>\n",
       "      <td>0.0</td>\n",
       "      <td>0.0</td>\n",
       "      <td>1.0</td>\n",
       "      <td>0.0</td>\n",
       "      <td>...</td>\n",
       "      <td>0</td>\n",
       "      <td>0</td>\n",
       "      <td>0</td>\n",
       "      <td>0</td>\n",
       "      <td>0</td>\n",
       "      <td>0</td>\n",
       "      <td>0</td>\n",
       "      <td>0</td>\n",
       "      <td>0</td>\n",
       "      <td>0</td>\n",
       "    </tr>\n",
       "  </tbody>\n",
       "</table>\n",
       "<p>5 rows × 1050 columns</p>\n",
       "</div>"
      ],
      "text/plain": [
       "   year_0  year_1  year_2  year_3  year_4  year_5  year_6  year_7  year_8  \\\n",
       "0     0.0     0.0     0.0     0.0     0.0     0.0     0.0     0.0     0.0   \n",
       "1     0.0     0.0     0.0     0.0     0.0     0.0     0.0     0.0     1.0   \n",
       "2     0.0     0.0     0.0     0.0     0.0     0.0     0.0     0.0     1.0   \n",
       "3     0.0     0.0     0.0     0.0     0.0     0.0     0.0     0.0     1.0   \n",
       "4     0.0     0.0     0.0     0.0     0.0     0.0     0.0     0.0     1.0   \n",
       "\n",
       "   year_9  ...  970  971  972  973  974  975  976  977  978  979  \n",
       "0     0.0  ...    0    0    0    0    0    0    0    0    0    0  \n",
       "1     0.0  ...    0    0    0    0    0    0    0    0    0    0  \n",
       "2     0.0  ...    0    0    0    0    0    0    0    0    0    0  \n",
       "3     0.0  ...    0    0    0    0    0    0    0    0    0    0  \n",
       "4     0.0  ...    0    0    0    0    0    0    0    0    0    0  \n",
       "\n",
       "[5 rows x 1050 columns]"
      ]
     },
     "execution_count": 39,
     "metadata": {},
     "output_type": "execute_result"
    }
   ],
   "source": [
    "# One hot encoding categorical data\n",
    "from sklearn.preprocessing import OneHotEncoder\n",
    "encoder = OneHotEncoder(sparse_output=False)\n",
    "data_processed = encoder.fit_transform(data[[\"year\",\"perform_rating\",\"comfort_rating\",\n",
    "                                                   \"fuel_econ_rating\",\"fun_rating\",\"interior_rating\",\n",
    "                                                  \"exterior_rating\",\"build_qual_rating\",\"reliab_rating\"]])\n",
    "\n",
    "# Converting onhotencoded output to dataframe\n",
    "data_processed = pd.DataFrame(=data_processed, columns=encoder.get_feature_names_out())\n",
    "data_processed.head()\n",
    "\n",
    "# Dropping original not encoded categorical variables\n",
    "data.drop([\"Avg_MSRP\",\"Total Engagement\",\"title_length\",\"text_length\",\"fav_feat_length\",\"sugg_imp_length\",\n",
    "              \"year\",\"perform_rating\",\"comfort_rating\",\n",
    "              \"fuel_econ_rating\",\"fun_rating\",\"interior_rating\",\n",
    "              \"exterior_rating\",\"build_qual_rating\",\"reliab_rating\"],axis=1,inplace=True)\n",
    "data = pd.concat([data_processed.reset_index(drop=True),numeric,data],axis=1)\n",
    "data.head()"
   ]
  },
  {
   "cell_type": "code",
   "execution_count": 40,
   "id": "a9821c60",
   "metadata": {},
   "outputs": [],
   "source": [
    "# Splitting data into training, validation and testing dataset\n",
    "from sklearn.model_selection import train_test_split\n",
    "x=data.drop(\"Total Engagement\",axis=1)\n",
    "y=data['Total Engagement']\n",
    "\n",
    "# Making 70% training and 30% remaining\n",
    "x_train, x_remaining, y_train, y_remaining = train_test_split(x,y,test_size=0.3,random_state=69)\n",
    "\n",
    "# Splitting the remaining as 30% validation and 10% test\n",
    "x_val, x_test, y_val, y_test = train_test_split(x_remaining, y_remaining, test_size=1/3, random_state=70)"
   ]
  },
  {
   "cell_type": "code",
   "execution_count": 41,
   "id": "00c0770a",
   "metadata": {},
   "outputs": [
    {
     "data": {
      "text/plain": [
       "(77084, 1049)"
      ]
     },
     "execution_count": 41,
     "metadata": {},
     "output_type": "execute_result"
    }
   ],
   "source": [
    "x_train.shape"
   ]
  },
  {
   "cell_type": "code",
   "execution_count": 42,
   "id": "dc32eb1b",
   "metadata": {},
   "outputs": [
    {
     "data": {
      "text/plain": [
       "(22024, 1049)"
      ]
     },
     "execution_count": 42,
     "metadata": {},
     "output_type": "execute_result"
    }
   ],
   "source": [
    "x_val.shape"
   ]
  },
  {
   "cell_type": "code",
   "execution_count": 43,
   "id": "96bd92fe",
   "metadata": {
    "scrolled": true
   },
   "outputs": [
    {
     "data": {
      "text/plain": [
       "(11013, 1049)"
      ]
     },
     "execution_count": 43,
     "metadata": {},
     "output_type": "execute_result"
    }
   ],
   "source": [
    "x_test.shape"
   ]
  },
  {
   "cell_type": "markdown",
   "id": "c19bfc0c",
   "metadata": {},
   "source": [
    "##### Constructing Dense Network model"
   ]
  },
  {
   "cell_type": "code",
   "execution_count": 44,
   "id": "327a8ee9",
   "metadata": {},
   "outputs": [],
   "source": [
    "# Converting  [make] to int\n",
    "x_train[\"make\"] = x_train[\"make\"].astype(\"int\")\n",
    "x_val[\"make\"] = x_val[\"make\"].astype(\"int\")\n",
    "x_test[\"make\"] = x_test[\"make\"].astype(\"int\")"
   ]
  },
  {
   "cell_type": "code",
   "execution_count": 45,
   "id": "da293db0",
   "metadata": {},
   "outputs": [
    {
     "data": {
      "text/plain": [
       "(77084, 5)"
      ]
     },
     "execution_count": 45,
     "metadata": {},
     "output_type": "execute_result"
    }
   ],
   "source": [
    "x_train[numeric.columns.drop(\"Total Engagement\")].shape"
   ]
  },
  {
   "cell_type": "code",
   "execution_count": 46,
   "id": "e829c2e4",
   "metadata": {},
   "outputs": [
    {
     "data": {
      "text/plain": [
       "Index(['Avg_MSRP', 'Total Engagement', 'title_length', 'text_length',\n",
       "       'fav_feat_length', 'sugg_imp_length'],\n",
       "      dtype='object')"
      ]
     },
     "execution_count": 46,
     "metadata": {},
     "output_type": "execute_result"
    }
   ],
   "source": [
    "numeric.columns"
   ]
  },
  {
   "cell_type": "code",
   "execution_count": 47,
   "id": "fa0c8152",
   "metadata": {},
   "outputs": [
    {
     "data": {
      "text/plain": [
       "(110121, 59)"
      ]
     },
     "execution_count": 47,
     "metadata": {},
     "output_type": "execute_result"
    }
   ],
   "source": [
    "data_processed.shape"
   ]
  },
  {
   "cell_type": "code",
   "execution_count": 48,
   "id": "21f5dffc",
   "metadata": {},
   "outputs": [],
   "source": [
    "needed_columns=numeric.drop(\"Total Engagement\",axis=1).columns.tolist() + data_processed.columns.tolist()"
   ]
  },
  {
   "cell_type": "code",
   "execution_count": 49,
   "id": "40cb11d7",
   "metadata": {},
   "outputs": [
    {
     "data": {
      "text/plain": [
       "64"
      ]
     },
     "execution_count": 49,
     "metadata": {},
     "output_type": "execute_result"
    }
   ],
   "source": [
    "len(needed_columns)"
   ]
  },
  {
   "cell_type": "code",
   "execution_count": 50,
   "id": "f997a65d",
   "metadata": {},
   "outputs": [
    {
     "data": {
      "text/html": [
       "<pre style=\"white-space:pre;overflow-x:auto;line-height:normal;font-family:Menlo,'DejaVu Sans Mono',consolas,'Courier New',monospace\"><span style=\"font-weight: bold\">Model: \"functional_1\"</span>\n",
       "</pre>\n"
      ],
      "text/plain": [
       "\u001b[1mModel: \"functional_1\"\u001b[0m\n"
      ]
     },
     "metadata": {},
     "output_type": "display_data"
    },
    {
     "data": {
      "text/html": [
       "<pre style=\"white-space:pre;overflow-x:auto;line-height:normal;font-family:Menlo,'DejaVu Sans Mono',consolas,'Courier New',monospace\">┏━━━━━━━━━━━━━━━━━━━━━┳━━━━━━━━━━━━━━━━━━━┳━━━━━━━━━━━━┳━━━━━━━━━━━━━━━━━━━┓\n",
       "┃<span style=\"font-weight: bold\"> Layer (type)        </span>┃<span style=\"font-weight: bold\"> Output Shape      </span>┃<span style=\"font-weight: bold\">    Param # </span>┃<span style=\"font-weight: bold\"> Connected to      </span>┃\n",
       "┡━━━━━━━━━━━━━━━━━━━━━╇━━━━━━━━━━━━━━━━━━━╇━━━━━━━━━━━━╇━━━━━━━━━━━━━━━━━━━┩\n",
       "│ input_layer         │ (<span style=\"color: #00d7ff; text-decoration-color: #00d7ff\">None</span>, <span style=\"color: #00af00; text-decoration-color: #00af00\">980</span>)       │          <span style=\"color: #00af00; text-decoration-color: #00af00\">0</span> │ -                 │\n",
       "│ (<span style=\"color: #0087ff; text-decoration-color: #0087ff\">InputLayer</span>)        │                   │            │                   │\n",
       "├─────────────────────┼───────────────────┼────────────┼───────────────────┤\n",
       "│ input_layer_2       │ (<span style=\"color: #00d7ff; text-decoration-color: #00d7ff\">None</span>, <span style=\"color: #00af00; text-decoration-color: #00af00\">1</span>)         │          <span style=\"color: #00af00; text-decoration-color: #00af00\">0</span> │ -                 │\n",
       "│ (<span style=\"color: #0087ff; text-decoration-color: #0087ff\">InputLayer</span>)        │                   │            │                   │\n",
       "├─────────────────────┼───────────────────┼────────────┼───────────────────┤\n",
       "│ embedding           │ (<span style=\"color: #00d7ff; text-decoration-color: #00d7ff\">None</span>, <span style=\"color: #00af00; text-decoration-color: #00af00\">980</span>, <span style=\"color: #00af00; text-decoration-color: #00af00\">64</span>)   │    <span style=\"color: #00af00; text-decoration-color: #00af00\">256,000</span> │ input_layer[<span style=\"color: #00af00; text-decoration-color: #00af00\">0</span>][<span style=\"color: #00af00; text-decoration-color: #00af00\">0</span>] │\n",
       "│ (<span style=\"color: #0087ff; text-decoration-color: #0087ff\">Embedding</span>)         │                   │            │                   │\n",
       "├─────────────────────┼───────────────────┼────────────┼───────────────────┤\n",
       "│ embedding_1         │ (<span style=\"color: #00d7ff; text-decoration-color: #00d7ff\">None</span>, <span style=\"color: #00af00; text-decoration-color: #00af00\">1</span>, <span style=\"color: #00af00; text-decoration-color: #00af00\">8</span>)      │        <span style=\"color: #00af00; text-decoration-color: #00af00\">440</span> │ input_layer_2[<span style=\"color: #00af00; text-decoration-color: #00af00\">0</span>]… │\n",
       "│ (<span style=\"color: #0087ff; text-decoration-color: #0087ff\">Embedding</span>)         │                   │            │                   │\n",
       "├─────────────────────┼───────────────────┼────────────┼───────────────────┤\n",
       "│ flatten (<span style=\"color: #0087ff; text-decoration-color: #0087ff\">Flatten</span>)   │ (<span style=\"color: #00d7ff; text-decoration-color: #00d7ff\">None</span>, <span style=\"color: #00af00; text-decoration-color: #00af00\">62720</span>)     │          <span style=\"color: #00af00; text-decoration-color: #00af00\">0</span> │ embedding[<span style=\"color: #00af00; text-decoration-color: #00af00\">0</span>][<span style=\"color: #00af00; text-decoration-color: #00af00\">0</span>]   │\n",
       "├─────────────────────┼───────────────────┼────────────┼───────────────────┤\n",
       "│ input_layer_1       │ (<span style=\"color: #00d7ff; text-decoration-color: #00d7ff\">None</span>, <span style=\"color: #00af00; text-decoration-color: #00af00\">64</span>)        │          <span style=\"color: #00af00; text-decoration-color: #00af00\">0</span> │ -                 │\n",
       "│ (<span style=\"color: #0087ff; text-decoration-color: #0087ff\">InputLayer</span>)        │                   │            │                   │\n",
       "├─────────────────────┼───────────────────┼────────────┼───────────────────┤\n",
       "│ flatten_1 (<span style=\"color: #0087ff; text-decoration-color: #0087ff\">Flatten</span>) │ (<span style=\"color: #00d7ff; text-decoration-color: #00d7ff\">None</span>, <span style=\"color: #00af00; text-decoration-color: #00af00\">8</span>)         │          <span style=\"color: #00af00; text-decoration-color: #00af00\">0</span> │ embedding_1[<span style=\"color: #00af00; text-decoration-color: #00af00\">0</span>][<span style=\"color: #00af00; text-decoration-color: #00af00\">0</span>] │\n",
       "├─────────────────────┼───────────────────┼────────────┼───────────────────┤\n",
       "│ concatenate         │ (<span style=\"color: #00d7ff; text-decoration-color: #00d7ff\">None</span>, <span style=\"color: #00af00; text-decoration-color: #00af00\">62792</span>)     │          <span style=\"color: #00af00; text-decoration-color: #00af00\">0</span> │ flatten[<span style=\"color: #00af00; text-decoration-color: #00af00\">0</span>][<span style=\"color: #00af00; text-decoration-color: #00af00\">0</span>],    │\n",
       "│ (<span style=\"color: #0087ff; text-decoration-color: #0087ff\">Concatenate</span>)       │                   │            │ input_layer_1[<span style=\"color: #00af00; text-decoration-color: #00af00\">0</span>]… │\n",
       "│                     │                   │            │ flatten_1[<span style=\"color: #00af00; text-decoration-color: #00af00\">0</span>][<span style=\"color: #00af00; text-decoration-color: #00af00\">0</span>]   │\n",
       "├─────────────────────┼───────────────────┼────────────┼───────────────────┤\n",
       "│ dense (<span style=\"color: #0087ff; text-decoration-color: #0087ff\">Dense</span>)       │ (<span style=\"color: #00d7ff; text-decoration-color: #00d7ff\">None</span>, <span style=\"color: #00af00; text-decoration-color: #00af00\">32</span>)        │  <span style=\"color: #00af00; text-decoration-color: #00af00\">2,009,376</span> │ concatenate[<span style=\"color: #00af00; text-decoration-color: #00af00\">0</span>][<span style=\"color: #00af00; text-decoration-color: #00af00\">0</span>] │\n",
       "├─────────────────────┼───────────────────┼────────────┼───────────────────┤\n",
       "│ dense_1 (<span style=\"color: #0087ff; text-decoration-color: #0087ff\">Dense</span>)     │ (<span style=\"color: #00d7ff; text-decoration-color: #00d7ff\">None</span>, <span style=\"color: #00af00; text-decoration-color: #00af00\">1</span>)         │         <span style=\"color: #00af00; text-decoration-color: #00af00\">33</span> │ dense[<span style=\"color: #00af00; text-decoration-color: #00af00\">0</span>][<span style=\"color: #00af00; text-decoration-color: #00af00\">0</span>]       │\n",
       "└─────────────────────┴───────────────────┴────────────┴───────────────────┘\n",
       "</pre>\n"
      ],
      "text/plain": [
       "┏━━━━━━━━━━━━━━━━━━━━━┳━━━━━━━━━━━━━━━━━━━┳━━━━━━━━━━━━┳━━━━━━━━━━━━━━━━━━━┓\n",
       "┃\u001b[1m \u001b[0m\u001b[1mLayer (type)       \u001b[0m\u001b[1m \u001b[0m┃\u001b[1m \u001b[0m\u001b[1mOutput Shape     \u001b[0m\u001b[1m \u001b[0m┃\u001b[1m \u001b[0m\u001b[1m   Param #\u001b[0m\u001b[1m \u001b[0m┃\u001b[1m \u001b[0m\u001b[1mConnected to     \u001b[0m\u001b[1m \u001b[0m┃\n",
       "┡━━━━━━━━━━━━━━━━━━━━━╇━━━━━━━━━━━━━━━━━━━╇━━━━━━━━━━━━╇━━━━━━━━━━━━━━━━━━━┩\n",
       "│ input_layer         │ (\u001b[38;5;45mNone\u001b[0m, \u001b[38;5;34m980\u001b[0m)       │          \u001b[38;5;34m0\u001b[0m │ -                 │\n",
       "│ (\u001b[38;5;33mInputLayer\u001b[0m)        │                   │            │                   │\n",
       "├─────────────────────┼───────────────────┼────────────┼───────────────────┤\n",
       "│ input_layer_2       │ (\u001b[38;5;45mNone\u001b[0m, \u001b[38;5;34m1\u001b[0m)         │          \u001b[38;5;34m0\u001b[0m │ -                 │\n",
       "│ (\u001b[38;5;33mInputLayer\u001b[0m)        │                   │            │                   │\n",
       "├─────────────────────┼───────────────────┼────────────┼───────────────────┤\n",
       "│ embedding           │ (\u001b[38;5;45mNone\u001b[0m, \u001b[38;5;34m980\u001b[0m, \u001b[38;5;34m64\u001b[0m)   │    \u001b[38;5;34m256,000\u001b[0m │ input_layer[\u001b[38;5;34m0\u001b[0m][\u001b[38;5;34m0\u001b[0m] │\n",
       "│ (\u001b[38;5;33mEmbedding\u001b[0m)         │                   │            │                   │\n",
       "├─────────────────────┼───────────────────┼────────────┼───────────────────┤\n",
       "│ embedding_1         │ (\u001b[38;5;45mNone\u001b[0m, \u001b[38;5;34m1\u001b[0m, \u001b[38;5;34m8\u001b[0m)      │        \u001b[38;5;34m440\u001b[0m │ input_layer_2[\u001b[38;5;34m0\u001b[0m]… │\n",
       "│ (\u001b[38;5;33mEmbedding\u001b[0m)         │                   │            │                   │\n",
       "├─────────────────────┼───────────────────┼────────────┼───────────────────┤\n",
       "│ flatten (\u001b[38;5;33mFlatten\u001b[0m)   │ (\u001b[38;5;45mNone\u001b[0m, \u001b[38;5;34m62720\u001b[0m)     │          \u001b[38;5;34m0\u001b[0m │ embedding[\u001b[38;5;34m0\u001b[0m][\u001b[38;5;34m0\u001b[0m]   │\n",
       "├─────────────────────┼───────────────────┼────────────┼───────────────────┤\n",
       "│ input_layer_1       │ (\u001b[38;5;45mNone\u001b[0m, \u001b[38;5;34m64\u001b[0m)        │          \u001b[38;5;34m0\u001b[0m │ -                 │\n",
       "│ (\u001b[38;5;33mInputLayer\u001b[0m)        │                   │            │                   │\n",
       "├─────────────────────┼───────────────────┼────────────┼───────────────────┤\n",
       "│ flatten_1 (\u001b[38;5;33mFlatten\u001b[0m) │ (\u001b[38;5;45mNone\u001b[0m, \u001b[38;5;34m8\u001b[0m)         │          \u001b[38;5;34m0\u001b[0m │ embedding_1[\u001b[38;5;34m0\u001b[0m][\u001b[38;5;34m0\u001b[0m] │\n",
       "├─────────────────────┼───────────────────┼────────────┼───────────────────┤\n",
       "│ concatenate         │ (\u001b[38;5;45mNone\u001b[0m, \u001b[38;5;34m62792\u001b[0m)     │          \u001b[38;5;34m0\u001b[0m │ flatten[\u001b[38;5;34m0\u001b[0m][\u001b[38;5;34m0\u001b[0m],    │\n",
       "│ (\u001b[38;5;33mConcatenate\u001b[0m)       │                   │            │ input_layer_1[\u001b[38;5;34m0\u001b[0m]… │\n",
       "│                     │                   │            │ flatten_1[\u001b[38;5;34m0\u001b[0m][\u001b[38;5;34m0\u001b[0m]   │\n",
       "├─────────────────────┼───────────────────┼────────────┼───────────────────┤\n",
       "│ dense (\u001b[38;5;33mDense\u001b[0m)       │ (\u001b[38;5;45mNone\u001b[0m, \u001b[38;5;34m32\u001b[0m)        │  \u001b[38;5;34m2,009,376\u001b[0m │ concatenate[\u001b[38;5;34m0\u001b[0m][\u001b[38;5;34m0\u001b[0m] │\n",
       "├─────────────────────┼───────────────────┼────────────┼───────────────────┤\n",
       "│ dense_1 (\u001b[38;5;33mDense\u001b[0m)     │ (\u001b[38;5;45mNone\u001b[0m, \u001b[38;5;34m1\u001b[0m)         │         \u001b[38;5;34m33\u001b[0m │ dense[\u001b[38;5;34m0\u001b[0m][\u001b[38;5;34m0\u001b[0m]       │\n",
       "└─────────────────────┴───────────────────┴────────────┴───────────────────┘\n"
      ]
     },
     "metadata": {},
     "output_type": "display_data"
    },
    {
     "data": {
      "text/html": [
       "<pre style=\"white-space:pre;overflow-x:auto;line-height:normal;font-family:Menlo,'DejaVu Sans Mono',consolas,'Courier New',monospace\"><span style=\"font-weight: bold\"> Total params: </span><span style=\"color: #00af00; text-decoration-color: #00af00\">2,265,849</span> (8.64 MB)\n",
       "</pre>\n"
      ],
      "text/plain": [
       "\u001b[1m Total params: \u001b[0m\u001b[38;5;34m2,265,849\u001b[0m (8.64 MB)\n"
      ]
     },
     "metadata": {},
     "output_type": "display_data"
    },
    {
     "data": {
      "text/html": [
       "<pre style=\"white-space:pre;overflow-x:auto;line-height:normal;font-family:Menlo,'DejaVu Sans Mono',consolas,'Courier New',monospace\"><span style=\"font-weight: bold\"> Trainable params: </span><span style=\"color: #00af00; text-decoration-color: #00af00\">2,265,849</span> (8.64 MB)\n",
       "</pre>\n"
      ],
      "text/plain": [
       "\u001b[1m Trainable params: \u001b[0m\u001b[38;5;34m2,265,849\u001b[0m (8.64 MB)\n"
      ]
     },
     "metadata": {},
     "output_type": "display_data"
    },
    {
     "data": {
      "text/html": [
       "<pre style=\"white-space:pre;overflow-x:auto;line-height:normal;font-family:Menlo,'DejaVu Sans Mono',consolas,'Courier New',monospace\"><span style=\"font-weight: bold\"> Non-trainable params: </span><span style=\"color: #00af00; text-decoration-color: #00af00\">0</span> (0.00 B)\n",
       "</pre>\n"
      ],
      "text/plain": [
       "\u001b[1m Non-trainable params: \u001b[0m\u001b[38;5;34m0\u001b[0m (0.00 B)\n"
      ]
     },
     "metadata": {},
     "output_type": "display_data"
    },
    {
     "name": "stdout",
     "output_type": "stream",
     "text": [
      "Epoch 1/30\n",
      "\u001b[1m7709/7709\u001b[0m \u001b[32m━━━━━━━━━━━━━━━━━━━━\u001b[0m\u001b[37m\u001b[0m \u001b[1m71s\u001b[0m 9ms/step - loss: 1.0644 - mean_squared_error: 1.0644 - val_loss: 0.7189 - val_mean_squared_error: 0.7191\n",
      "Epoch 2/30\n",
      "\u001b[1m7709/7709\u001b[0m \u001b[32m━━━━━━━━━━━━━━━━━━━━\u001b[0m\u001b[37m\u001b[0m \u001b[1m71s\u001b[0m 9ms/step - loss: 0.9196 - mean_squared_error: 0.9196 - val_loss: 0.7187 - val_mean_squared_error: 0.7189\n",
      "Epoch 3/30\n",
      "\u001b[1m7709/7709\u001b[0m \u001b[32m━━━━━━━━━━━━━━━━━━━━\u001b[0m\u001b[37m\u001b[0m \u001b[1m71s\u001b[0m 9ms/step - loss: 1.3365 - mean_squared_error: 1.3365 - val_loss: 0.7188 - val_mean_squared_error: 0.7189\n",
      "Epoch 4/30\n",
      "\u001b[1m7709/7709\u001b[0m \u001b[32m━━━━━━━━━━━━━━━━━━━━\u001b[0m\u001b[37m\u001b[0m \u001b[1m72s\u001b[0m 9ms/step - loss: 0.8318 - mean_squared_error: 0.8318 - val_loss: 0.7191 - val_mean_squared_error: 0.7193\n",
      "Epoch 5/30\n",
      "\u001b[1m7709/7709\u001b[0m \u001b[32m━━━━━━━━━━━━━━━━━━━━\u001b[0m\u001b[37m\u001b[0m \u001b[1m74s\u001b[0m 10ms/step - loss: 1.3385 - mean_squared_error: 1.3385 - val_loss: 0.7187 - val_mean_squared_error: 0.7189\n",
      "Epoch 6/30\n",
      "\u001b[1m7709/7709\u001b[0m \u001b[32m━━━━━━━━━━━━━━━━━━━━\u001b[0m\u001b[37m\u001b[0m \u001b[1m72s\u001b[0m 9ms/step - loss: 1.2633 - mean_squared_error: 1.2633 - val_loss: 0.7188 - val_mean_squared_error: 0.7190\n",
      "Epoch 7/30\n",
      "\u001b[1m7709/7709\u001b[0m \u001b[32m━━━━━━━━━━━━━━━━━━━━\u001b[0m\u001b[37m\u001b[0m \u001b[1m72s\u001b[0m 9ms/step - loss: 1.1590 - mean_squared_error: 1.1590 - val_loss: 0.7189 - val_mean_squared_error: 0.7191\n",
      "Epoch 8/30\n",
      "\u001b[1m7709/7709\u001b[0m \u001b[32m━━━━━━━━━━━━━━━━━━━━\u001b[0m\u001b[37m\u001b[0m \u001b[1m71s\u001b[0m 9ms/step - loss: 1.0861 - mean_squared_error: 1.0861 - val_loss: 0.7188 - val_mean_squared_error: 0.7190\n",
      "Epoch 9/30\n",
      "\u001b[1m7709/7709\u001b[0m \u001b[32m━━━━━━━━━━━━━━━━━━━━\u001b[0m\u001b[37m\u001b[0m \u001b[1m72s\u001b[0m 9ms/step - loss: 0.9296 - mean_squared_error: 0.9296 - val_loss: 0.7191 - val_mean_squared_error: 0.7194\n",
      "Epoch 10/30\n",
      "\u001b[1m7709/7709\u001b[0m \u001b[32m━━━━━━━━━━━━━━━━━━━━\u001b[0m\u001b[37m\u001b[0m \u001b[1m72s\u001b[0m 9ms/step - loss: 1.1771 - mean_squared_error: 1.1771 - val_loss: 0.7187 - val_mean_squared_error: 0.7189\n",
      "Epoch 11/30\n",
      "\u001b[1m7709/7709\u001b[0m \u001b[32m━━━━━━━━━━━━━━━━━━━━\u001b[0m\u001b[37m\u001b[0m \u001b[1m71s\u001b[0m 9ms/step - loss: 1.4757 - mean_squared_error: 1.4757 - val_loss: 0.7187 - val_mean_squared_error: 0.7189\n",
      "Epoch 12/30\n",
      "\u001b[1m7709/7709\u001b[0m \u001b[32m━━━━━━━━━━━━━━━━━━━━\u001b[0m\u001b[37m\u001b[0m \u001b[1m74s\u001b[0m 10ms/step - loss: 1.0383 - mean_squared_error: 1.0383 - val_loss: 0.7187 - val_mean_squared_error: 0.7189\n",
      "Epoch 13/30\n",
      "\u001b[1m7709/7709\u001b[0m \u001b[32m━━━━━━━━━━━━━━━━━━━━\u001b[0m\u001b[37m\u001b[0m \u001b[1m74s\u001b[0m 10ms/step - loss: 1.0363 - mean_squared_error: 1.0363 - val_loss: 0.7187 - val_mean_squared_error: 0.7189\n",
      "Epoch 14/30\n",
      "\u001b[1m7709/7709\u001b[0m \u001b[32m━━━━━━━━━━━━━━━━━━━━\u001b[0m\u001b[37m\u001b[0m \u001b[1m75s\u001b[0m 10ms/step - loss: 0.9868 - mean_squared_error: 0.9868 - val_loss: 0.7187 - val_mean_squared_error: 0.7189\n",
      "Epoch 15/30\n",
      "\u001b[1m7709/7709\u001b[0m \u001b[32m━━━━━━━━━━━━━━━━━━━━\u001b[0m\u001b[37m\u001b[0m \u001b[1m76s\u001b[0m 10ms/step - loss: 0.9963 - mean_squared_error: 0.9963 - val_loss: 0.7210 - val_mean_squared_error: 0.7212\n",
      "Epoch 16/30\n",
      "\u001b[1m7709/7709\u001b[0m \u001b[32m━━━━━━━━━━━━━━━━━━━━\u001b[0m\u001b[37m\u001b[0m \u001b[1m75s\u001b[0m 10ms/step - loss: 1.3290 - mean_squared_error: 1.3290 - val_loss: 0.7189 - val_mean_squared_error: 0.7191\n",
      "Epoch 17/30\n",
      "\u001b[1m7709/7709\u001b[0m \u001b[32m━━━━━━━━━━━━━━━━━━━━\u001b[0m\u001b[37m\u001b[0m \u001b[1m76s\u001b[0m 10ms/step - loss: 0.8463 - mean_squared_error: 0.8463 - val_loss: 0.7190 - val_mean_squared_error: 0.7192\n",
      "Epoch 18/30\n",
      "\u001b[1m7709/7709\u001b[0m \u001b[32m━━━━━━━━━━━━━━━━━━━━\u001b[0m\u001b[37m\u001b[0m \u001b[1m75s\u001b[0m 10ms/step - loss: 1.0294 - mean_squared_error: 1.0294 - val_loss: 0.7187 - val_mean_squared_error: 0.7189\n",
      "Epoch 19/30\n",
      "\u001b[1m7709/7709\u001b[0m \u001b[32m━━━━━━━━━━━━━━━━━━━━\u001b[0m\u001b[37m\u001b[0m \u001b[1m75s\u001b[0m 10ms/step - loss: 1.0533 - mean_squared_error: 1.0533 - val_loss: 0.7187 - val_mean_squared_error: 0.7189\n",
      "Epoch 20/30\n",
      "\u001b[1m7709/7709\u001b[0m \u001b[32m━━━━━━━━━━━━━━━━━━━━\u001b[0m\u001b[37m\u001b[0m \u001b[1m76s\u001b[0m 10ms/step - loss: 0.8825 - mean_squared_error: 0.8825 - val_loss: 0.7187 - val_mean_squared_error: 0.7189\n",
      "Epoch 21/30\n",
      "\u001b[1m7709/7709\u001b[0m \u001b[32m━━━━━━━━━━━━━━━━━━━━\u001b[0m\u001b[37m\u001b[0m \u001b[1m76s\u001b[0m 10ms/step - loss: 0.8600 - mean_squared_error: 0.8600 - val_loss: 0.7188 - val_mean_squared_error: 0.7190\n",
      "Epoch 22/30\n",
      "\u001b[1m7709/7709\u001b[0m \u001b[32m━━━━━━━━━━━━━━━━━━━━\u001b[0m\u001b[37m\u001b[0m \u001b[1m75s\u001b[0m 10ms/step - loss: 1.1582 - mean_squared_error: 1.1582 - val_loss: 0.7188 - val_mean_squared_error: 0.7189\n",
      "Epoch 23/30\n",
      "\u001b[1m7709/7709\u001b[0m \u001b[32m━━━━━━━━━━━━━━━━━━━━\u001b[0m\u001b[37m\u001b[0m \u001b[1m74s\u001b[0m 10ms/step - loss: 0.9130 - mean_squared_error: 0.9130 - val_loss: 0.7187 - val_mean_squared_error: 0.7189\n",
      "Epoch 24/30\n",
      "\u001b[1m7709/7709\u001b[0m \u001b[32m━━━━━━━━━━━━━━━━━━━━\u001b[0m\u001b[37m\u001b[0m \u001b[1m74s\u001b[0m 10ms/step - loss: 1.0859 - mean_squared_error: 1.0859 - val_loss: 0.7188 - val_mean_squared_error: 0.7190\n",
      "Epoch 25/30\n",
      "\u001b[1m7709/7709\u001b[0m \u001b[32m━━━━━━━━━━━━━━━━━━━━\u001b[0m\u001b[37m\u001b[0m \u001b[1m73s\u001b[0m 10ms/step - loss: 1.0914 - mean_squared_error: 1.0914 - val_loss: 0.7187 - val_mean_squared_error: 0.7189\n",
      "Epoch 26/30\n",
      "\u001b[1m7709/7709\u001b[0m \u001b[32m━━━━━━━━━━━━━━━━━━━━\u001b[0m\u001b[37m\u001b[0m \u001b[1m75s\u001b[0m 10ms/step - loss: 0.9736 - mean_squared_error: 0.9736 - val_loss: 0.7195 - val_mean_squared_error: 0.7197\n",
      "Epoch 27/30\n",
      "\u001b[1m7709/7709\u001b[0m \u001b[32m━━━━━━━━━━━━━━━━━━━━\u001b[0m\u001b[37m\u001b[0m \u001b[1m75s\u001b[0m 10ms/step - loss: 1.1348 - mean_squared_error: 1.1348 - val_loss: 0.7189 - val_mean_squared_error: 0.7191\n",
      "Epoch 28/30\n",
      "\u001b[1m7709/7709\u001b[0m \u001b[32m━━━━━━━━━━━━━━━━━━━━\u001b[0m\u001b[37m\u001b[0m \u001b[1m75s\u001b[0m 10ms/step - loss: 0.8890 - mean_squared_error: 0.8890 - val_loss: 0.7202 - val_mean_squared_error: 0.7204\n",
      "Epoch 29/30\n",
      "\u001b[1m7709/7709\u001b[0m \u001b[32m━━━━━━━━━━━━━━━━━━━━\u001b[0m\u001b[37m\u001b[0m \u001b[1m73s\u001b[0m 10ms/step - loss: 1.0074 - mean_squared_error: 1.0074 - val_loss: 0.7188 - val_mean_squared_error: 0.7190\n",
      "Epoch 30/30\n",
      "\u001b[1m7709/7709\u001b[0m \u001b[32m━━━━━━━━━━━━━━━━━━━━\u001b[0m\u001b[37m\u001b[0m \u001b[1m77s\u001b[0m 10ms/step - loss: 0.9351 - mean_squared_error: 0.9351 - val_loss: 0.7187 - val_mean_squared_error: 0.7189\n"
     ]
    }
   ],
   "source": [
    "# Importing Libraries\n",
    "from tensorflow.keras.models import Sequential\n",
    "from tensorflow.keras.layers import Dense\n",
    "from tensorflow.keras.optimizers import Adam\n",
    "from tensorflow.keras.metrics import MeanSquaredError\n",
    "from tensorflow.keras.layers import Input, Embedding, Flatten, Dense, Concatenate\n",
    "from tensorflow.keras.callbacks import EarlyStopping, ModelCheckpoint\n",
    "from tensorflow.keras.models import Model\n",
    "\n",
    "\n",
    "# Defining Input layers\n",
    "input_seq = Input(shape=(max_length,))\n",
    "input_num = Input(shape=(len(needed_columns),))\n",
    "input_cat = Input(shape=(1,))\n",
    "\n",
    "# Embedding for sequences\n",
    "embedding_seq = Embedding(input_dim=4000, output_dim=64)(input_seq)\n",
    "flattened_seq = Flatten()(embedding_seq)\n",
    "\n",
    "# Embedding for categorical data\n",
    "embedding_cat = Embedding(input_dim=55, output_dim=8)(input_cat)\n",
    "flattened_cat = Flatten()(embedding_cat)\n",
    "\n",
    "# Concatenate with other features\n",
    "concatenated = Concatenate()([flattened_seq, input_num, flattened_cat])\n",
    "\n",
    "# Add Dense layers\n",
    "dense_layer = Dense(32, activation='relu')(concatenated)\n",
    "output = Dense(1, activation='linear')(dense_layer)\n",
    "\n",
    "# Define the model\n",
    "model = Model(inputs=[input_seq, input_num, input_cat], outputs=output)\n",
    "model.compile(optimizer='adam', loss='mean_squared_error', metrics=[MeanSquaredError()])\n",
    "\n",
    "# Defining call backs\n",
    "early_stopping = EarlyStopping(monitor='val_loss', patience=5, restore_best_weights=True)\n",
    "model_checkpoint = ModelCheckpoint('best_model.keras', monitor='val_loss', save_best_only=True)\n",
    "\n",
    "# Printing summary\n",
    "model.summary()\n",
    "\n",
    "# Train the model\n",
    "history=model.fit([x_train[text_sequence.columns], \n",
    "           x_train[needed_columns], \n",
    "           x_train[\"make\"]], y_train, \n",
    "           epochs=30, batch_size=10, \n",
    "           validation_data=([x_val[text_sequence.columns], \n",
    "                             x_val[needed_columns],\n",
    "                             x_val[\"make\"]], y_val),\n",
    "                           callbacks=[model_checkpoint])"
   ]
  },
  {
   "cell_type": "code",
   "execution_count": 51,
   "id": "f9d3341d",
   "metadata": {
    "scrolled": true
   },
   "outputs": [
    {
     "name": "stdout",
     "output_type": "stream",
     "text": [
      "\u001b[1m345/345\u001b[0m \u001b[32m━━━━━━━━━━━━━━━━━━━━\u001b[0m\u001b[37m\u001b[0m \u001b[1m1s\u001b[0m 3ms/step - loss: 0.3189 - mean_squared_error: 0.3189\n",
      "Loss : 0.5\n",
      "MSE : 0.5\n"
     ]
    }
   ],
   "source": [
    "loss, mse = model.evaluate([x_test[text_sequence.columns], \n",
    "           x_test[needed_columns], \n",
    "           x_test[\"make\"]],y_test)\n",
    "\n",
    "print(\"Loss :\",round(loss,1))\n",
    "print(\"MSE :\",round(mse,1))"
   ]
  },
  {
   "cell_type": "markdown",
   "id": "5002d6ce",
   "metadata": {},
   "source": [
    "**Plotting results**"
   ]
  },
  {
   "cell_type": "code",
   "execution_count": 52,
   "id": "02f7500c",
   "metadata": {},
   "outputs": [
    {
     "data": {
      "text/plain": [
       "<matplotlib.legend.Legend at 0x17be1fb90>"
      ]
     },
     "execution_count": 52,
     "metadata": {},
     "output_type": "execute_result"
    },
    {
     "data": {
      "image/png": "[encoded data removed]",
      "text/plain": [
       "<Figure size 640x480 with 1 Axes>"
      ]
     },
     "metadata": {},
     "output_type": "display_data"
    }
   ],
   "source": [
    "epochs=range(1,31)\n",
    "train_mse = history.history[\"mean_squared_error\"]\n",
    "val_mse = history.history[\"val_mean_squared_error\"]\n",
    "plt.plot(epochs,train_mse,label=\"Training_MSE\")\n",
    "plt.plot(epochs,val_mse,label=\"Validation_MSE\")\n",
    "plt.xlabel(\"Epochs\")\n",
    "plt.ylabel(\"Mean Squared Error\")\n",
    "plt.title(\"Plot of Mean Square Errors\")\n",
    "plt.legend()"
   ]
  },
  {
   "cell_type": "markdown",
   "id": "e2dc5942",
   "metadata": {},
   "source": [
    "### Prediction without textual information"
   ]
  },
  {
   "cell_type": "code",
   "execution_count": 53,
   "id": "4b45aaf2",
   "metadata": {},
   "outputs": [
    {
     "data": {
      "text/plain": [
       "(110121, 70)"
      ]
     },
     "execution_count": 53,
     "metadata": {},
     "output_type": "execute_result"
    }
   ],
   "source": [
    "# Dropping word_vectors from data\n",
    "data_2=data.drop(text_sequence.columns,axis=1)\n",
    "data_2.shape"
   ]
  },
  {
   "cell_type": "code",
   "execution_count": 54,
   "id": "9cd1442b",
   "metadata": {},
   "outputs": [],
   "source": [
    "# Splitting data into training, validation and testing set\n",
    "x=data_2.drop(\"Total Engagement\",axis=1)\n",
    "y=data_2[\"Total Engagement\"]\n",
    "\n",
    "x_train, x_temp, y_train, y_temp = train_test_split(x,y,test_size=0.3,random_state=20)\n",
    "x_val,x_test,y_val,y_test = train_test_split(x_temp,y_temp,test_size=1/3,random_state=3)"
   ]
  },
  {
   "cell_type": "markdown",
   "id": "912baede",
   "metadata": {},
   "source": [
    "### Dense model"
   ]
  },
  {
   "cell_type": "code",
   "execution_count": 55,
   "id": "a1aa8786",
   "metadata": {},
   "outputs": [],
   "source": [
    "# Converting  [make] to int\n",
    "x_train[\"make\"] = x_train[\"make\"].astype(\"int\")\n",
    "x_val[\"make\"] = x_val[\"make\"].astype(\"int\")\n",
    "x_test[\"make\"] = x_test[\"make\"].astype(\"int\")"
   ]
  },
  {
   "cell_type": "code",
   "execution_count": 56,
   "id": "64bbc88c",
   "metadata": {},
   "outputs": [
    {
     "data": {
      "text/plain": [
       "Index(['year_0', 'year_1', 'year_2', 'year_3', 'year_4', 'year_5', 'year_6',\n",
       "       'year_7', 'year_8', 'year_9', 'year_10', 'perform_rating_0',\n",
       "       'perform_rating_1', 'perform_rating_2', 'perform_rating_3',\n",
       "       'perform_rating_4', 'perform_rating_5', 'comfort_rating_0',\n",
       "       'comfort_rating_1', 'comfort_rating_2', 'comfort_rating_3',\n",
       "       'comfort_rating_4', 'comfort_rating_5', 'fuel_econ_rating_0',\n",
       "       'fuel_econ_rating_1', 'fuel_econ_rating_2', 'fuel_econ_rating_3',\n",
       "       'fuel_econ_rating_4', 'fuel_econ_rating_5', 'fun_rating_0',\n",
       "       'fun_rating_1', 'fun_rating_2', 'fun_rating_3', 'fun_rating_4',\n",
       "       'fun_rating_5', 'interior_rating_0', 'interior_rating_1',\n",
       "       'interior_rating_2', 'interior_rating_3', 'interior_rating_4',\n",
       "       'interior_rating_5', 'exterior_rating_0', 'exterior_rating_1',\n",
       "       'exterior_rating_2', 'exterior_rating_3', 'exterior_rating_4',\n",
       "       'exterior_rating_5', 'build_qual_rating_0', 'build_qual_rating_1',\n",
       "       'build_qual_rating_2', 'build_qual_rating_3', 'build_qual_rating_4',\n",
       "       'build_qual_rating_5', 'reliab_rating_0', 'reliab_rating_1',\n",
       "       'reliab_rating_2', 'reliab_rating_3', 'reliab_rating_4',\n",
       "       'reliab_rating_5', 'Avg_MSRP', 'title_length', 'text_length',\n",
       "       'fav_feat_length', 'sugg_imp_length', 'make', 'title_sentiment',\n",
       "       'text_sentiment', 'fav_feat_sentiment', 'sugg_imp__sentiment'],\n",
       "      dtype='object')"
      ]
     },
     "execution_count": 56,
     "metadata": {},
     "output_type": "execute_result"
    }
   ],
   "source": [
    "x_train.columns"
   ]
  },
  {
   "cell_type": "code",
   "execution_count": 57,
   "id": "ecd681d4",
   "metadata": {},
   "outputs": [
    {
     "data": {
      "text/html": [
       "<pre style=\"white-space:pre;overflow-x:auto;line-height:normal;font-family:Menlo,'DejaVu Sans Mono',consolas,'Courier New',monospace\"><span style=\"font-weight: bold\">Model: \"functional_3\"</span>\n",
       "</pre>\n"
      ],
      "text/plain": [
       "\u001b[1mModel: \"functional_3\"\u001b[0m\n"
      ]
     },
     "metadata": {},
     "output_type": "display_data"
    },
    {
     "data": {
      "text/html": [
       "<pre style=\"white-space:pre;overflow-x:auto;line-height:normal;font-family:Menlo,'DejaVu Sans Mono',consolas,'Courier New',monospace\">┏━━━━━━━━━━━━━━━━━━━━━┳━━━━━━━━━━━━━━━━━━━┳━━━━━━━━━━━━┳━━━━━━━━━━━━━━━━━━━┓\n",
       "┃<span style=\"font-weight: bold\"> Layer (type)        </span>┃<span style=\"font-weight: bold\"> Output Shape      </span>┃<span style=\"font-weight: bold\">    Param # </span>┃<span style=\"font-weight: bold\"> Connected to      </span>┃\n",
       "┡━━━━━━━━━━━━━━━━━━━━━╇━━━━━━━━━━━━━━━━━━━╇━━━━━━━━━━━━╇━━━━━━━━━━━━━━━━━━━┩\n",
       "│ input_layer_4       │ (<span style=\"color: #00d7ff; text-decoration-color: #00d7ff\">None</span>, <span style=\"color: #00af00; text-decoration-color: #00af00\">1</span>)         │          <span style=\"color: #00af00; text-decoration-color: #00af00\">0</span> │ -                 │\n",
       "│ (<span style=\"color: #0087ff; text-decoration-color: #0087ff\">InputLayer</span>)        │                   │            │                   │\n",
       "├─────────────────────┼───────────────────┼────────────┼───────────────────┤\n",
       "│ embedding_2         │ (<span style=\"color: #00d7ff; text-decoration-color: #00d7ff\">None</span>, <span style=\"color: #00af00; text-decoration-color: #00af00\">1</span>, <span style=\"color: #00af00; text-decoration-color: #00af00\">8</span>)      │        <span style=\"color: #00af00; text-decoration-color: #00af00\">440</span> │ input_layer_4[<span style=\"color: #00af00; text-decoration-color: #00af00\">0</span>]… │\n",
       "│ (<span style=\"color: #0087ff; text-decoration-color: #0087ff\">Embedding</span>)         │                   │            │                   │\n",
       "├─────────────────────┼───────────────────┼────────────┼───────────────────┤\n",
       "│ input_layer_3       │ (<span style=\"color: #00d7ff; text-decoration-color: #00d7ff\">None</span>, <span style=\"color: #00af00; text-decoration-color: #00af00\">64</span>)        │          <span style=\"color: #00af00; text-decoration-color: #00af00\">0</span> │ -                 │\n",
       "│ (<span style=\"color: #0087ff; text-decoration-color: #0087ff\">InputLayer</span>)        │                   │            │                   │\n",
       "├─────────────────────┼───────────────────┼────────────┼───────────────────┤\n",
       "│ flatten_2 (<span style=\"color: #0087ff; text-decoration-color: #0087ff\">Flatten</span>) │ (<span style=\"color: #00d7ff; text-decoration-color: #00d7ff\">None</span>, <span style=\"color: #00af00; text-decoration-color: #00af00\">8</span>)         │          <span style=\"color: #00af00; text-decoration-color: #00af00\">0</span> │ embedding_2[<span style=\"color: #00af00; text-decoration-color: #00af00\">0</span>][<span style=\"color: #00af00; text-decoration-color: #00af00\">0</span>] │\n",
       "├─────────────────────┼───────────────────┼────────────┼───────────────────┤\n",
       "│ concatenate_1       │ (<span style=\"color: #00d7ff; text-decoration-color: #00d7ff\">None</span>, <span style=\"color: #00af00; text-decoration-color: #00af00\">72</span>)        │          <span style=\"color: #00af00; text-decoration-color: #00af00\">0</span> │ input_layer_3[<span style=\"color: #00af00; text-decoration-color: #00af00\">0</span>]… │\n",
       "│ (<span style=\"color: #0087ff; text-decoration-color: #0087ff\">Concatenate</span>)       │                   │            │ flatten_2[<span style=\"color: #00af00; text-decoration-color: #00af00\">0</span>][<span style=\"color: #00af00; text-decoration-color: #00af00\">0</span>]   │\n",
       "├─────────────────────┼───────────────────┼────────────┼───────────────────┤\n",
       "│ dense_2 (<span style=\"color: #0087ff; text-decoration-color: #0087ff\">Dense</span>)     │ (<span style=\"color: #00d7ff; text-decoration-color: #00d7ff\">None</span>, <span style=\"color: #00af00; text-decoration-color: #00af00\">32</span>)        │      <span style=\"color: #00af00; text-decoration-color: #00af00\">2,336</span> │ concatenate_1[<span style=\"color: #00af00; text-decoration-color: #00af00\">0</span>]… │\n",
       "├─────────────────────┼───────────────────┼────────────┼───────────────────┤\n",
       "│ dense_3 (<span style=\"color: #0087ff; text-decoration-color: #0087ff\">Dense</span>)     │ (<span style=\"color: #00d7ff; text-decoration-color: #00d7ff\">None</span>, <span style=\"color: #00af00; text-decoration-color: #00af00\">1</span>)         │         <span style=\"color: #00af00; text-decoration-color: #00af00\">33</span> │ dense_2[<span style=\"color: #00af00; text-decoration-color: #00af00\">0</span>][<span style=\"color: #00af00; text-decoration-color: #00af00\">0</span>]     │\n",
       "└─────────────────────┴───────────────────┴────────────┴───────────────────┘\n",
       "</pre>\n"
      ],
      "text/plain": [
       "┏━━━━━━━━━━━━━━━━━━━━━┳━━━━━━━━━━━━━━━━━━━┳━━━━━━━━━━━━┳━━━━━━━━━━━━━━━━━━━┓\n",
       "┃\u001b[1m \u001b[0m\u001b[1mLayer (type)       \u001b[0m\u001b[1m \u001b[0m┃\u001b[1m \u001b[0m\u001b[1mOutput Shape     \u001b[0m\u001b[1m \u001b[0m┃\u001b[1m \u001b[0m\u001b[1m   Param #\u001b[0m\u001b[1m \u001b[0m┃\u001b[1m \u001b[0m\u001b[1mConnected to     \u001b[0m\u001b[1m \u001b[0m┃\n",
       "┡━━━━━━━━━━━━━━━━━━━━━╇━━━━━━━━━━━━━━━━━━━╇━━━━━━━━━━━━╇━━━━━━━━━━━━━━━━━━━┩\n",
       "│ input_layer_4       │ (\u001b[38;5;45mNone\u001b[0m, \u001b[38;5;34m1\u001b[0m)         │          \u001b[38;5;34m0\u001b[0m │ -                 │\n",
       "│ (\u001b[38;5;33mInputLayer\u001b[0m)        │                   │            │                   │\n",
       "├─────────────────────┼───────────────────┼────────────┼───────────────────┤\n",
       "│ embedding_2         │ (\u001b[38;5;45mNone\u001b[0m, \u001b[38;5;34m1\u001b[0m, \u001b[38;5;34m8\u001b[0m)      │        \u001b[38;5;34m440\u001b[0m │ input_layer_4[\u001b[38;5;34m0\u001b[0m]… │\n",
       "│ (\u001b[38;5;33mEmbedding\u001b[0m)         │                   │            │                   │\n",
       "├─────────────────────┼───────────────────┼────────────┼───────────────────┤\n",
       "│ input_layer_3       │ (\u001b[38;5;45mNone\u001b[0m, \u001b[38;5;34m64\u001b[0m)        │          \u001b[38;5;34m0\u001b[0m │ -                 │\n",
       "│ (\u001b[38;5;33mInputLayer\u001b[0m)        │                   │            │                   │\n",
       "├─────────────────────┼───────────────────┼────────────┼───────────────────┤\n",
       "│ flatten_2 (\u001b[38;5;33mFlatten\u001b[0m) │ (\u001b[38;5;45mNone\u001b[0m, \u001b[38;5;34m8\u001b[0m)         │          \u001b[38;5;34m0\u001b[0m │ embedding_2[\u001b[38;5;34m0\u001b[0m][\u001b[38;5;34m0\u001b[0m] │\n",
       "├─────────────────────┼───────────────────┼────────────┼───────────────────┤\n",
       "│ concatenate_1       │ (\u001b[38;5;45mNone\u001b[0m, \u001b[38;5;34m72\u001b[0m)        │          \u001b[38;5;34m0\u001b[0m │ input_layer_3[\u001b[38;5;34m0\u001b[0m]… │\n",
       "│ (\u001b[38;5;33mConcatenate\u001b[0m)       │                   │            │ flatten_2[\u001b[38;5;34m0\u001b[0m][\u001b[38;5;34m0\u001b[0m]   │\n",
       "├─────────────────────┼───────────────────┼────────────┼───────────────────┤\n",
       "│ dense_2 (\u001b[38;5;33mDense\u001b[0m)     │ (\u001b[38;5;45mNone\u001b[0m, \u001b[38;5;34m32\u001b[0m)        │      \u001b[38;5;34m2,336\u001b[0m │ concatenate_1[\u001b[38;5;34m0\u001b[0m]… │\n",
       "├─────────────────────┼───────────────────┼────────────┼───────────────────┤\n",
       "│ dense_3 (\u001b[38;5;33mDense\u001b[0m)     │ (\u001b[38;5;45mNone\u001b[0m, \u001b[38;5;34m1\u001b[0m)         │         \u001b[38;5;34m33\u001b[0m │ dense_2[\u001b[38;5;34m0\u001b[0m][\u001b[38;5;34m0\u001b[0m]     │\n",
       "└─────────────────────┴───────────────────┴────────────┴───────────────────┘\n"
      ]
     },
     "metadata": {},
     "output_type": "display_data"
    },
    {
     "data": {
      "text/html": [
       "<pre style=\"white-space:pre;overflow-x:auto;line-height:normal;font-family:Menlo,'DejaVu Sans Mono',consolas,'Courier New',monospace\"><span style=\"font-weight: bold\"> Total params: </span><span style=\"color: #00af00; text-decoration-color: #00af00\">2,809</span> (10.97 KB)\n",
       "</pre>\n"
      ],
      "text/plain": [
       "\u001b[1m Total params: \u001b[0m\u001b[38;5;34m2,809\u001b[0m (10.97 KB)\n"
      ]
     },
     "metadata": {},
     "output_type": "display_data"
    },
    {
     "data": {
      "text/html": [
       "<pre style=\"white-space:pre;overflow-x:auto;line-height:normal;font-family:Menlo,'DejaVu Sans Mono',consolas,'Courier New',monospace\"><span style=\"font-weight: bold\"> Trainable params: </span><span style=\"color: #00af00; text-decoration-color: #00af00\">2,809</span> (10.97 KB)\n",
       "</pre>\n"
      ],
      "text/plain": [
       "\u001b[1m Trainable params: \u001b[0m\u001b[38;5;34m2,809\u001b[0m (10.97 KB)\n"
      ]
     },
     "metadata": {},
     "output_type": "display_data"
    },
    {
     "data": {
      "text/html": [
       "<pre style=\"white-space:pre;overflow-x:auto;line-height:normal;font-family:Menlo,'DejaVu Sans Mono',consolas,'Courier New',monospace\"><span style=\"font-weight: bold\"> Non-trainable params: </span><span style=\"color: #00af00; text-decoration-color: #00af00\">0</span> (0.00 B)\n",
       "</pre>\n"
      ],
      "text/plain": [
       "\u001b[1m Non-trainable params: \u001b[0m\u001b[38;5;34m0\u001b[0m (0.00 B)\n"
      ]
     },
     "metadata": {},
     "output_type": "display_data"
    },
    {
     "name": "stdout",
     "output_type": "stream",
     "text": [
      "Epoch 1/30\n",
      "\u001b[1m7709/7709\u001b[0m \u001b[32m━━━━━━━━━━━━━━━━━━━━\u001b[0m\u001b[37m\u001b[0m \u001b[1m3s\u001b[0m 320us/step - loss: 0.8440 - mean_squared_error: 0.8440 - val_loss: 0.8129 - val_mean_squared_error: 0.8131\n",
      "Epoch 2/30\n",
      "\u001b[1m7709/7709\u001b[0m \u001b[32m━━━━━━━━━━━━━━━━━━━━\u001b[0m\u001b[37m\u001b[0m \u001b[1m2s\u001b[0m 302us/step - loss: 1.1297 - mean_squared_error: 1.1297 - val_loss: 0.8173 - val_mean_squared_error: 0.8175\n",
      "Epoch 3/30\n",
      "\u001b[1m7709/7709\u001b[0m \u001b[32m━━━━━━━━━━━━━━━━━━━━\u001b[0m\u001b[37m\u001b[0m \u001b[1m2s\u001b[0m 305us/step - loss: 0.9100 - mean_squared_error: 0.9100 - val_loss: 0.8118 - val_mean_squared_error: 0.8120\n",
      "Epoch 4/30\n",
      "\u001b[1m7709/7709\u001b[0m \u001b[32m━━━━━━━━━━━━━━━━━━━━\u001b[0m\u001b[37m\u001b[0m \u001b[1m2s\u001b[0m 315us/step - loss: 0.9033 - mean_squared_error: 0.9033 - val_loss: 0.8118 - val_mean_squared_error: 0.8121\n",
      "Epoch 5/30\n",
      "\u001b[1m7709/7709\u001b[0m \u001b[32m━━━━━━━━━━━━━━━━━━━━\u001b[0m\u001b[37m\u001b[0m \u001b[1m2s\u001b[0m 303us/step - loss: 0.9723 - mean_squared_error: 0.9724 - val_loss: 0.8110 - val_mean_squared_error: 0.8112\n",
      "Epoch 6/30\n",
      "\u001b[1m7709/7709\u001b[0m \u001b[32m━━━━━━━━━━━━━━━━━━━━\u001b[0m\u001b[37m\u001b[0m \u001b[1m2s\u001b[0m 304us/step - loss: 0.9073 - mean_squared_error: 0.9073 - val_loss: 0.8176 - val_mean_squared_error: 0.8178\n",
      "Epoch 7/30\n",
      "\u001b[1m7709/7709\u001b[0m \u001b[32m━━━━━━━━━━━━━━━━━━━━\u001b[0m\u001b[37m\u001b[0m \u001b[1m2s\u001b[0m 303us/step - loss: 0.9311 - mean_squared_error: 0.9311 - val_loss: 0.8162 - val_mean_squared_error: 0.8164\n",
      "Epoch 8/30\n",
      "\u001b[1m7709/7709\u001b[0m \u001b[32m━━━━━━━━━━━━━━━━━━━━\u001b[0m\u001b[37m\u001b[0m \u001b[1m2s\u001b[0m 304us/step - loss: 0.7731 - mean_squared_error: 0.7731 - val_loss: 0.8186 - val_mean_squared_error: 0.8188\n",
      "Epoch 9/30\n",
      "\u001b[1m7709/7709\u001b[0m \u001b[32m━━━━━━━━━━━━━━━━━━━━\u001b[0m\u001b[37m\u001b[0m \u001b[1m2s\u001b[0m 301us/step - loss: 1.0294 - mean_squared_error: 1.0294 - val_loss: 0.8153 - val_mean_squared_error: 0.8156\n",
      "Epoch 10/30\n",
      "\u001b[1m7709/7709\u001b[0m \u001b[32m━━━━━━━━━━━━━━━━━━━━\u001b[0m\u001b[37m\u001b[0m \u001b[1m2s\u001b[0m 303us/step - loss: 0.7810 - mean_squared_error: 0.7810 - val_loss: 0.8195 - val_mean_squared_error: 0.8198\n",
      "Epoch 11/30\n",
      "\u001b[1m7709/7709\u001b[0m \u001b[32m━━━━━━━━━━━━━━━━━━━━\u001b[0m\u001b[37m\u001b[0m \u001b[1m2s\u001b[0m 315us/step - loss: 0.9731 - mean_squared_error: 0.9731 - val_loss: 0.8298 - val_mean_squared_error: 0.8300\n",
      "Epoch 12/30\n",
      "\u001b[1m7709/7709\u001b[0m \u001b[32m━━━━━━━━━━━━━━━━━━━━\u001b[0m\u001b[37m\u001b[0m \u001b[1m2s\u001b[0m 307us/step - loss: 0.9974 - mean_squared_error: 0.9974 - val_loss: 0.8157 - val_mean_squared_error: 0.8160\n",
      "Epoch 13/30\n",
      "\u001b[1m7709/7709\u001b[0m \u001b[32m━━━━━━━━━━━━━━━━━━━━\u001b[0m\u001b[37m\u001b[0m \u001b[1m2s\u001b[0m 303us/step - loss: 1.0200 - mean_squared_error: 1.0200 - val_loss: 0.8167 - val_mean_squared_error: 0.8169\n",
      "Epoch 14/30\n",
      "\u001b[1m7709/7709\u001b[0m \u001b[32m━━━━━━━━━━━━━━━━━━━━\u001b[0m\u001b[37m\u001b[0m \u001b[1m2s\u001b[0m 304us/step - loss: 1.0072 - mean_squared_error: 1.0072 - val_loss: 0.8425 - val_mean_squared_error: 0.8428\n",
      "Epoch 15/30\n",
      "\u001b[1m7709/7709\u001b[0m \u001b[32m━━━━━━━━━━━━━━━━━━━━\u001b[0m\u001b[37m\u001b[0m \u001b[1m2s\u001b[0m 304us/step - loss: 0.6618 - mean_squared_error: 0.6618 - val_loss: 0.8513 - val_mean_squared_error: 0.8515\n",
      "Epoch 16/30\n",
      "\u001b[1m7709/7709\u001b[0m \u001b[32m━━━━━━━━━━━━━━━━━━━━\u001b[0m\u001b[37m\u001b[0m \u001b[1m2s\u001b[0m 305us/step - loss: 0.6155 - mean_squared_error: 0.6155 - val_loss: 0.8173 - val_mean_squared_error: 0.8175\n",
      "Epoch 17/30\n",
      "\u001b[1m7709/7709\u001b[0m \u001b[32m━━━━━━━━━━━━━━━━━━━━\u001b[0m\u001b[37m\u001b[0m \u001b[1m2s\u001b[0m 304us/step - loss: 0.7154 - mean_squared_error: 0.7154 - val_loss: 0.8417 - val_mean_squared_error: 0.8420\n",
      "Epoch 18/30\n",
      "\u001b[1m7709/7709\u001b[0m \u001b[32m━━━━━━━━━━━━━━━━━━━━\u001b[0m\u001b[37m\u001b[0m \u001b[1m2s\u001b[0m 308us/step - loss: 1.0063 - mean_squared_error: 1.0063 - val_loss: 0.8257 - val_mean_squared_error: 0.8260\n",
      "Epoch 19/30\n",
      "\u001b[1m7709/7709\u001b[0m \u001b[32m━━━━━━━━━━━━━━━━━━━━\u001b[0m\u001b[37m\u001b[0m \u001b[1m2s\u001b[0m 305us/step - loss: 0.8703 - mean_squared_error: 0.8703 - val_loss: 0.8150 - val_mean_squared_error: 0.8152\n",
      "Epoch 20/30\n",
      "\u001b[1m7709/7709\u001b[0m \u001b[32m━━━━━━━━━━━━━━━━━━━━\u001b[0m\u001b[37m\u001b[0m \u001b[1m2s\u001b[0m 305us/step - loss: 0.7667 - mean_squared_error: 0.7667 - val_loss: 0.8429 - val_mean_squared_error: 0.8431\n",
      "Epoch 21/30\n",
      "\u001b[1m7709/7709\u001b[0m \u001b[32m━━━━━━━━━━━━━━━━━━━━\u001b[0m\u001b[37m\u001b[0m \u001b[1m2s\u001b[0m 306us/step - loss: 0.6948 - mean_squared_error: 0.6948 - val_loss: 0.8259 - val_mean_squared_error: 0.8261\n",
      "Epoch 22/30\n",
      "\u001b[1m7709/7709\u001b[0m \u001b[32m━━━━━━━━━━━━━━━━━━━━\u001b[0m\u001b[37m\u001b[0m \u001b[1m2s\u001b[0m 305us/step - loss: 0.8233 - mean_squared_error: 0.8233 - val_loss: 0.8171 - val_mean_squared_error: 0.8173\n",
      "Epoch 23/30\n",
      "\u001b[1m7709/7709\u001b[0m \u001b[32m━━━━━━━━━━━━━━━━━━━━\u001b[0m\u001b[37m\u001b[0m \u001b[1m2s\u001b[0m 305us/step - loss: 0.9054 - mean_squared_error: 0.9054 - val_loss: 0.8172 - val_mean_squared_error: 0.8175\n",
      "Epoch 24/30\n",
      "\u001b[1m7709/7709\u001b[0m \u001b[32m━━━━━━━━━━━━━━━━━━━━\u001b[0m\u001b[37m\u001b[0m \u001b[1m2s\u001b[0m 316us/step - loss: 0.8178 - mean_squared_error: 0.8178 - val_loss: 0.8175 - val_mean_squared_error: 0.8177\n",
      "Epoch 25/30\n",
      "\u001b[1m7709/7709\u001b[0m \u001b[32m━━━━━━━━━━━━━━━━━━━━\u001b[0m\u001b[37m\u001b[0m \u001b[1m2s\u001b[0m 307us/step - loss: 0.9008 - mean_squared_error: 0.9008 - val_loss: 0.8079 - val_mean_squared_error: 0.8082\n",
      "Epoch 26/30\n",
      "\u001b[1m7709/7709\u001b[0m \u001b[32m━━━━━━━━━━━━━━━━━━━━\u001b[0m\u001b[37m\u001b[0m \u001b[1m2s\u001b[0m 310us/step - loss: 0.9574 - mean_squared_error: 0.9574 - val_loss: 0.8366 - val_mean_squared_error: 0.8368\n",
      "Epoch 27/30\n",
      "\u001b[1m7709/7709\u001b[0m \u001b[32m━━━━━━━━━━━━━━━━━━━━\u001b[0m\u001b[37m\u001b[0m \u001b[1m2s\u001b[0m 309us/step - loss: 0.8644 - mean_squared_error: 0.8644 - val_loss: 0.8172 - val_mean_squared_error: 0.8174\n",
      "Epoch 28/30\n",
      "\u001b[1m7709/7709\u001b[0m \u001b[32m━━━━━━━━━━━━━━━━━━━━\u001b[0m\u001b[37m\u001b[0m \u001b[1m2s\u001b[0m 307us/step - loss: 0.9636 - mean_squared_error: 0.9636 - val_loss: 0.8206 - val_mean_squared_error: 0.8208\n",
      "Epoch 29/30\n",
      "\u001b[1m7709/7709\u001b[0m \u001b[32m━━━━━━━━━━━━━━━━━━━━\u001b[0m\u001b[37m\u001b[0m \u001b[1m2s\u001b[0m 310us/step - loss: 0.6650 - mean_squared_error: 0.6650 - val_loss: 0.8210 - val_mean_squared_error: 0.8212\n",
      "Epoch 30/30\n",
      "\u001b[1m7709/7709\u001b[0m \u001b[32m━━━━━━━━━━━━━━━━━━━━\u001b[0m\u001b[37m\u001b[0m \u001b[1m2s\u001b[0m 311us/step - loss: 0.9762 - mean_squared_error: 0.9762 - val_loss: 0.8179 - val_mean_squared_error: 0.8181\n"
     ]
    }
   ],
   "source": [
    "# Defining Input layers\n",
    "input_num = Input(shape=(len(needed_columns),))\n",
    "input_cat = Input(shape=(1,))\n",
    "\n",
    "# Embedding for categorical data\n",
    "embedding_cat = Embedding(input_dim=55, output_dim=8)(input_cat)\n",
    "flattened_cat = Flatten()(embedding_cat)\n",
    "\n",
    "# Concatenate with other features\n",
    "concatenated = Concatenate()([input_num, flattened_cat])\n",
    "\n",
    "# Add Dense layers\n",
    "dense_layer = Dense(32, activation='relu')(concatenated)\n",
    "output = Dense(1, activation='linear')(dense_layer)\n",
    "\n",
    "# Define the model\n",
    "model = Model(inputs=[input_num, input_cat], outputs=output)\n",
    "model.compile(optimizer='adam', loss='mean_squared_error', metrics=[MeanSquaredError()])\n",
    "\n",
    "# Defining call backs\n",
    "early_stopping = EarlyStopping(monitor='val_loss', patience=5, restore_best_weights=True)\n",
    "model_checkpoint = ModelCheckpoint('best_model_2.keras', monitor='val_loss', save_best_only=True)\n",
    "\n",
    "# Printing summary\n",
    "model.summary()\n",
    "\n",
    "# Train the model\n",
    "history=model.fit([x_train[needed_columns], \n",
    "           x_train[\"make\"]], y_train, \n",
    "           epochs=30, batch_size=10, \n",
    "           validation_data=([x_val[needed_columns],\n",
    "                             x_val[\"make\"]], y_val),\n",
    "                           callbacks=[model_checkpoint])"
   ]
  },
  {
   "cell_type": "code",
   "execution_count": 58,
   "id": "f4dd0571",
   "metadata": {},
   "outputs": [
    {
     "name": "stdout",
     "output_type": "stream",
     "text": [
      "\u001b[1m345/345\u001b[0m \u001b[32m━━━━━━━━━━━━━━━━━━━━\u001b[0m\u001b[37m\u001b[0m \u001b[1m0s\u001b[0m 214us/step - loss: 1.0001 - mean_squared_error: 1.0001\n",
      "Loss : 1.2\n",
      "MSE : 1.2\n"
     ]
    }
   ],
   "source": [
    "# Testing the model on testing set\n",
    "loss, mse = model.evaluate([ \n",
    "           x_test[needed_columns], \n",
    "           x_test[\"make\"]],y_test)\n",
    "\n",
    "print(\"Loss :\",round(loss,1))\n",
    "print(\"MSE :\",round(mse,1))"
   ]
  },
  {
   "cell_type": "markdown",
   "id": "750a9e01",
   "metadata": {},
   "source": [
    "**Plotting results**"
   ]
  },
  {
   "cell_type": "code",
   "execution_count": 59,
   "id": "3bd3cb5b",
   "metadata": {},
   "outputs": [
    {
     "data": {
      "text/plain": [
       "<matplotlib.legend.Legend at 0x31b990210>"
      ]
     },
     "execution_count": 59,
     "metadata": {},
     "output_type": "execute_result"
    },
    {
     "data": {
      "image/png": "[encoded data removed]",
      "text/plain": [
       "<Figure size 640x480 with 1 Axes>"
      ]
     },
     "metadata": {},
     "output_type": "display_data"
    }
   ],
   "source": [
    "epochs=range(1,31)\n",
    "train_mse = history.history[\"mean_squared_error\"]\n",
    "val_mse = history.history[\"val_mean_squared_error\"]\n",
    "plt.plot(epochs,train_mse,label=\"Training_MSE\")\n",
    "plt.plot(epochs,val_mse,label=\"Validation_MSE\")\n",
    "plt.xlabel(\"Epochs\")\n",
    "plt.ylabel(\"Mean Squared Error\")\n",
    "plt.title(\"Plot of Mean Square Errors\")\n",
    "plt.legend()"
   ]
  }
 ],
 "metadata": {
  "kernelspec": {
   "display_name": "Python 3 (ipykernel)",
   "language": "python",
   "name": "python3"
  },
  "language_info": {
   "codemirror_mode": {
    "name": "ipython",
    "version": 3
   },
   "file_extension": ".py",
   "mimetype": "text/x-python",
   "name": "python",
   "nbconvert_exporter": "python",
   "pygments_lexer": "ipython3",
   "version": "3.11.5"
  }
 },
 "nbformat": 4,
 "nbformat_minor": 5
}
