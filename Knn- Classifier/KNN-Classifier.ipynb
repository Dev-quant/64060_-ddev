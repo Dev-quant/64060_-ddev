{
 "cells": [
  {
   "cell_type": "markdown",
   "id": "c7bae3f9",
   "metadata": {},
   "source": [
    "# KNN- Classifier\n",
    "**Author - Dev**"
   ]
  },
  {
   "cell_type": "markdown",
   "id": "85454ab6",
   "metadata": {},
   "source": [
    "We will do Knn classifier on our same housing market data."
   ]
  },
  {
   "cell_type": "markdown",
   "id": "18da4a29",
   "metadata": {},
   "source": [
    "Importing all the needed modules: "
   ]
  },
  {
   "cell_type": "code",
   "execution_count": 1,
   "id": "53bbd4c9",
   "metadata": {},
   "outputs": [],
   "source": [
    "import pandas as pd\n",
    "import numpy as np\n",
    "from sklearn import preprocessing, neighbors, model_selection, metrics\n",
    "import matplotlib.pyplot as plt\n",
    "import seaborn as sb"
   ]
  },
  {
   "cell_type": "markdown",
   "id": "aabb48bb",
   "metadata": {},
   "source": [
    "**Reading Data**"
   ]
  },
  {
   "cell_type": "code",
   "execution_count": 2,
   "id": "b83fb118",
   "metadata": {},
   "outputs": [],
   "source": [
    "#Importing our training and testing house prices data set. \n",
    "df=pd.read_excel(\"/Users/devmarwah/Downloads/BA-Predict-2.xlsx\")"
   ]
  },
  {
   "cell_type": "code",
   "execution_count": 3,
   "id": "ad30d311",
   "metadata": {},
   "outputs": [
    {
     "data": {
      "text/html": [
       "<div>\n",
       "<style scoped>\n",
       "    .dataframe tbody tr th:only-of-type {\n",
       "        vertical-align: middle;\n",
       "    }\n",
       "\n",
       "    .dataframe tbody tr th {\n",
       "        vertical-align: top;\n",
       "    }\n",
       "\n",
       "    .dataframe thead th {\n",
       "        text-align: right;\n",
       "    }\n",
       "</style>\n",
       "<table border=\"1\" class=\"dataframe\">\n",
       "  <thead>\n",
       "    <tr style=\"text-align: right;\">\n",
       "      <th></th>\n",
       "      <th>LotArea</th>\n",
       "      <th>OverallQual</th>\n",
       "      <th>YearBuilt</th>\n",
       "      <th>YearRemodAdd</th>\n",
       "      <th>BsmtFinSF1</th>\n",
       "      <th>FullBath</th>\n",
       "      <th>HalfBath</th>\n",
       "      <th>BedroomAbvGr</th>\n",
       "      <th>TotRmsAbvGrd</th>\n",
       "      <th>Fireplaces</th>\n",
       "      <th>GarageArea</th>\n",
       "      <th>YrSold</th>\n",
       "      <th>SalePrice</th>\n",
       "    </tr>\n",
       "  </thead>\n",
       "  <tbody>\n",
       "    <tr>\n",
       "      <th>0</th>\n",
       "      <td>7340</td>\n",
       "      <td>4</td>\n",
       "      <td>1971</td>\n",
       "      <td>1971</td>\n",
       "      <td>322</td>\n",
       "      <td>1</td>\n",
       "      <td>0</td>\n",
       "      <td>2</td>\n",
       "      <td>4</td>\n",
       "      <td>0</td>\n",
       "      <td>684</td>\n",
       "      <td>2007</td>\n",
       "      <td>110000</td>\n",
       "    </tr>\n",
       "    <tr>\n",
       "      <th>1</th>\n",
       "      <td>8712</td>\n",
       "      <td>5</td>\n",
       "      <td>1957</td>\n",
       "      <td>2000</td>\n",
       "      <td>860</td>\n",
       "      <td>1</td>\n",
       "      <td>0</td>\n",
       "      <td>2</td>\n",
       "      <td>5</td>\n",
       "      <td>0</td>\n",
       "      <td>756</td>\n",
       "      <td>2009</td>\n",
       "      <td>153000</td>\n",
       "    </tr>\n",
       "    <tr>\n",
       "      <th>2</th>\n",
       "      <td>7875</td>\n",
       "      <td>7</td>\n",
       "      <td>2003</td>\n",
       "      <td>2003</td>\n",
       "      <td>0</td>\n",
       "      <td>2</td>\n",
       "      <td>1</td>\n",
       "      <td>3</td>\n",
       "      <td>8</td>\n",
       "      <td>1</td>\n",
       "      <td>393</td>\n",
       "      <td>2006</td>\n",
       "      <td>180000</td>\n",
       "    </tr>\n",
       "    <tr>\n",
       "      <th>3</th>\n",
       "      <td>14859</td>\n",
       "      <td>7</td>\n",
       "      <td>2006</td>\n",
       "      <td>2006</td>\n",
       "      <td>0</td>\n",
       "      <td>2</td>\n",
       "      <td>0</td>\n",
       "      <td>3</td>\n",
       "      <td>7</td>\n",
       "      <td>1</td>\n",
       "      <td>690</td>\n",
       "      <td>2006</td>\n",
       "      <td>240000</td>\n",
       "    </tr>\n",
       "    <tr>\n",
       "      <th>4</th>\n",
       "      <td>6173</td>\n",
       "      <td>5</td>\n",
       "      <td>1967</td>\n",
       "      <td>1967</td>\n",
       "      <td>599</td>\n",
       "      <td>1</td>\n",
       "      <td>0</td>\n",
       "      <td>3</td>\n",
       "      <td>6</td>\n",
       "      <td>0</td>\n",
       "      <td>288</td>\n",
       "      <td>2007</td>\n",
       "      <td>125500</td>\n",
       "    </tr>\n",
       "  </tbody>\n",
       "</table>\n",
       "</div>"
      ],
      "text/plain": [
       "   LotArea  OverallQual  YearBuilt  YearRemodAdd  BsmtFinSF1  FullBath  \\\n",
       "0     7340            4       1971          1971         322         1   \n",
       "1     8712            5       1957          2000         860         1   \n",
       "2     7875            7       2003          2003           0         2   \n",
       "3    14859            7       2006          2006           0         2   \n",
       "4     6173            5       1967          1967         599         1   \n",
       "\n",
       "   HalfBath  BedroomAbvGr  TotRmsAbvGrd  Fireplaces  GarageArea  YrSold  \\\n",
       "0         0             2             4           0         684    2007   \n",
       "1         0             2             5           0         756    2009   \n",
       "2         1             3             8           1         393    2006   \n",
       "3         0             3             7           1         690    2006   \n",
       "4         0             3             6           0         288    2007   \n",
       "\n",
       "   SalePrice  \n",
       "0     110000  \n",
       "1     153000  \n",
       "2     180000  \n",
       "3     240000  \n",
       "4     125500  "
      ]
     },
     "execution_count": 3,
     "metadata": {},
     "output_type": "execute_result"
    }
   ],
   "source": [
    "#Printing head of training dataset:\n",
    "df.head()"
   ]
  },
  {
   "cell_type": "markdown",
   "id": "dad3ed43",
   "metadata": {},
   "source": [
    "**Data cleaning:**"
   ]
  },
  {
   "cell_type": "markdown",
   "id": "bbe609c4",
   "metadata": {},
   "source": [
    "Checking for any missing values in our dataset: "
   ]
  },
  {
   "cell_type": "code",
   "execution_count": 4,
   "id": "829a2ae0",
   "metadata": {},
   "outputs": [
    {
     "data": {
      "text/plain": [
       "LotArea         0\n",
       "OverallQual     0\n",
       "YearBuilt       0\n",
       "YearRemodAdd    0\n",
       "BsmtFinSF1      0\n",
       "FullBath        0\n",
       "HalfBath        0\n",
       "BedroomAbvGr    0\n",
       "TotRmsAbvGrd    0\n",
       "Fireplaces      0\n",
       "GarageArea      0\n",
       "YrSold          0\n",
       "SalePrice       0\n",
       "dtype: int64"
      ]
     },
     "execution_count": 4,
     "metadata": {},
     "output_type": "execute_result"
    }
   ],
   "source": [
    "df.isna().sum()"
   ]
  },
  {
   "cell_type": "markdown",
   "id": "6c636965",
   "metadata": {},
   "source": [
    "Hence, there are no missing values in our dataset."
   ]
  },
  {
   "cell_type": "markdown",
   "id": "09b87b2f",
   "metadata": {},
   "source": [
    "Now, checking for duplicates in the dataset."
   ]
  },
  {
   "cell_type": "code",
   "execution_count": 5,
   "id": "4e6cea77",
   "metadata": {},
   "outputs": [
    {
     "data": {
      "text/plain": [
       "0"
      ]
     },
     "execution_count": 5,
     "metadata": {},
     "output_type": "execute_result"
    }
   ],
   "source": [
    "df.duplicated().sum()"
   ]
  },
  {
   "cell_type": "markdown",
   "id": "3b041819",
   "metadata": {},
   "source": [
    "Hence, there are no dubplicate values in our dataset. "
   ]
  },
  {
   "cell_type": "markdown",
   "id": "d59b9b12",
   "metadata": {},
   "source": [
    "**Data prepration:**"
   ]
  },
  {
   "cell_type": "code",
   "execution_count": 6,
   "id": "2f03b775",
   "metadata": {},
   "outputs": [
    {
     "data": {
      "text/html": [
       "<div>\n",
       "<style scoped>\n",
       "    .dataframe tbody tr th:only-of-type {\n",
       "        vertical-align: middle;\n",
       "    }\n",
       "\n",
       "    .dataframe tbody tr th {\n",
       "        vertical-align: top;\n",
       "    }\n",
       "\n",
       "    .dataframe thead th {\n",
       "        text-align: right;\n",
       "    }\n",
       "</style>\n",
       "<table border=\"1\" class=\"dataframe\">\n",
       "  <thead>\n",
       "    <tr style=\"text-align: right;\">\n",
       "      <th></th>\n",
       "      <th>LotArea</th>\n",
       "      <th>OverallQual</th>\n",
       "      <th>YearBuilt</th>\n",
       "      <th>YearRemodAdd</th>\n",
       "      <th>BsmtFinSF1</th>\n",
       "      <th>FullBath</th>\n",
       "      <th>HalfBath</th>\n",
       "      <th>BedroomAbvGr</th>\n",
       "      <th>TotRmsAbvGrd</th>\n",
       "      <th>Fireplaces</th>\n",
       "      <th>GarageArea</th>\n",
       "      <th>YrSold</th>\n",
       "      <th>SalePrice</th>\n",
       "    </tr>\n",
       "  </thead>\n",
       "  <tbody>\n",
       "    <tr>\n",
       "      <th>0</th>\n",
       "      <td>7340</td>\n",
       "      <td>4</td>\n",
       "      <td>1971</td>\n",
       "      <td>1971</td>\n",
       "      <td>322</td>\n",
       "      <td>1</td>\n",
       "      <td>0</td>\n",
       "      <td>2</td>\n",
       "      <td>4</td>\n",
       "      <td>0</td>\n",
       "      <td>684</td>\n",
       "      <td>2007</td>\n",
       "      <td>110000</td>\n",
       "    </tr>\n",
       "    <tr>\n",
       "      <th>1</th>\n",
       "      <td>8712</td>\n",
       "      <td>5</td>\n",
       "      <td>1957</td>\n",
       "      <td>2000</td>\n",
       "      <td>860</td>\n",
       "      <td>1</td>\n",
       "      <td>0</td>\n",
       "      <td>2</td>\n",
       "      <td>5</td>\n",
       "      <td>0</td>\n",
       "      <td>756</td>\n",
       "      <td>2009</td>\n",
       "      <td>153000</td>\n",
       "    </tr>\n",
       "    <tr>\n",
       "      <th>2</th>\n",
       "      <td>7875</td>\n",
       "      <td>7</td>\n",
       "      <td>2003</td>\n",
       "      <td>2003</td>\n",
       "      <td>0</td>\n",
       "      <td>2</td>\n",
       "      <td>1</td>\n",
       "      <td>3</td>\n",
       "      <td>8</td>\n",
       "      <td>1</td>\n",
       "      <td>393</td>\n",
       "      <td>2006</td>\n",
       "      <td>180000</td>\n",
       "    </tr>\n",
       "    <tr>\n",
       "      <th>3</th>\n",
       "      <td>14859</td>\n",
       "      <td>7</td>\n",
       "      <td>2006</td>\n",
       "      <td>2006</td>\n",
       "      <td>0</td>\n",
       "      <td>2</td>\n",
       "      <td>0</td>\n",
       "      <td>3</td>\n",
       "      <td>7</td>\n",
       "      <td>1</td>\n",
       "      <td>690</td>\n",
       "      <td>2006</td>\n",
       "      <td>240000</td>\n",
       "    </tr>\n",
       "    <tr>\n",
       "      <th>4</th>\n",
       "      <td>6173</td>\n",
       "      <td>5</td>\n",
       "      <td>1967</td>\n",
       "      <td>1967</td>\n",
       "      <td>599</td>\n",
       "      <td>1</td>\n",
       "      <td>0</td>\n",
       "      <td>3</td>\n",
       "      <td>6</td>\n",
       "      <td>0</td>\n",
       "      <td>288</td>\n",
       "      <td>2007</td>\n",
       "      <td>125500</td>\n",
       "    </tr>\n",
       "  </tbody>\n",
       "</table>\n",
       "</div>"
      ],
      "text/plain": [
       "   LotArea  OverallQual  YearBuilt  YearRemodAdd  BsmtFinSF1  FullBath  \\\n",
       "0     7340            4       1971          1971         322         1   \n",
       "1     8712            5       1957          2000         860         1   \n",
       "2     7875            7       2003          2003           0         2   \n",
       "3    14859            7       2006          2006           0         2   \n",
       "4     6173            5       1967          1967         599         1   \n",
       "\n",
       "   HalfBath  BedroomAbvGr  TotRmsAbvGrd  Fireplaces  GarageArea  YrSold  \\\n",
       "0         0             2             4           0         684    2007   \n",
       "1         0             2             5           0         756    2009   \n",
       "2         1             3             8           1         393    2006   \n",
       "3         0             3             7           1         690    2006   \n",
       "4         0             3             6           0         288    2007   \n",
       "\n",
       "   SalePrice  \n",
       "0     110000  \n",
       "1     153000  \n",
       "2     180000  \n",
       "3     240000  \n",
       "4     125500  "
      ]
     },
     "execution_count": 6,
     "metadata": {},
     "output_type": "execute_result"
    }
   ],
   "source": [
    "df.head()"
   ]
  },
  {
   "cell_type": "markdown",
   "id": "17b1476a",
   "metadata": {},
   "source": [
    "In our dataset, following variables are categorical:\n",
    "\"OverallQual\",\"FullBath\",\"HalfBath\",\"BedroomAbvGr\",\"TotRmsAbvGrd\",\"Fireplaces\",\"YrSold\"\n",
    "Hence, we need to convert them to category dtype."
   ]
  },
  {
   "cell_type": "code",
   "execution_count": 7,
   "id": "fb2ee8ea",
   "metadata": {
    "scrolled": true
   },
   "outputs": [
    {
     "data": {
      "text/plain": [
       "LotArea            int64\n",
       "OverallQual     category\n",
       "YearBuilt          int64\n",
       "YearRemodAdd       int64\n",
       "BsmtFinSF1         int64\n",
       "FullBath        category\n",
       "HalfBath        category\n",
       "BedroomAbvGr    category\n",
       "TotRmsAbvGrd    category\n",
       "Fireplaces      category\n",
       "GarageArea         int64\n",
       "YrSold          category\n",
       "SalePrice          int64\n",
       "dtype: object"
      ]
     },
     "execution_count": 7,
     "metadata": {},
     "output_type": "execute_result"
    }
   ],
   "source": [
    "df[[\"OverallQual\",\"FullBath\",\"HalfBath\",\"BedroomAbvGr\",\"TotRmsAbvGrd\",\"Fireplaces\",\"YrSold\"]]=df[[\"OverallQual\",\"FullBath\",\"HalfBath\",\"BedroomAbvGr\",\"TotRmsAbvGrd\",\"Fireplaces\",\"YrSold\"]].astype('category')\n",
    "#Printing dtypes of our data to verify:\n",
    "df.dtypes"
   ]
  },
  {
   "cell_type": "markdown",
   "id": "a69b93a1",
   "metadata": {},
   "source": [
    "Hence, all categorical variables have been converted to category dtype now."
   ]
  },
  {
   "cell_type": "code",
   "execution_count": 8,
   "id": "940afb23",
   "metadata": {},
   "outputs": [],
   "source": [
    "#Variable OverallQual just rates overall quality and is not necessary in our analysis so we will drop it\n",
    "df.drop('OverallQual',axis=1,inplace=True)"
   ]
  },
  {
   "cell_type": "code",
   "execution_count": 9,
   "id": "d54c74d2",
   "metadata": {},
   "outputs": [
    {
     "name": "stdout",
     "output_type": "stream",
     "text": [
      "[1, 2, 0]\n",
      "Categories (3, int64): [0, 1, 2] [0, 1, 2]\n",
      "Categories (3, int64): [0, 1, 2] [2, 3, 5, 4, 1]\n",
      "Categories (5, int64): [1, 2, 3, 4, 5] [4, 5, 8, 7, 6, 12, 9, 10, 11]\n",
      "Categories (9, int64): [4, 5, 6, 7, ..., 9, 10, 11, 12] [0, 1, 2]\n",
      "Categories (3, int64): [0, 1, 2] [2007, 2009, 2006, 2010, 2008]\n",
      "Categories (5, int64): [2006, 2007, 2008, 2009, 2010]\n"
     ]
    }
   ],
   "source": [
    "#Printing count of distinct categories in variables to find variables which should be converted as dummy variables:\n",
    "print(\n",
    "df['FullBath'].unique(),\n",
    "df['HalfBath'].unique(),\n",
    "df['BedroomAbvGr'].unique(),\n",
    "df['TotRmsAbvGrd'].unique(),\n",
    "df['Fireplaces'].unique(),\n",
    "df['YrSold'].unique())"
   ]
  },
  {
   "cell_type": "code",
   "execution_count": 10,
   "id": "e3e0e284",
   "metadata": {},
   "outputs": [],
   "source": [
    "#Here totrmsabvgrd has 9 categories and can make our model complex hence we are dropping it:\n",
    "df.drop('TotRmsAbvGrd',axis=1,inplace=True)"
   ]
  },
  {
   "cell_type": "markdown",
   "id": "4c9f52b8",
   "metadata": {},
   "source": [
    "Turning other categorical variables into dummy variables as all of them have more than two categories; "
   ]
  },
  {
   "cell_type": "code",
   "execution_count": 11,
   "id": "dd9daa4a",
   "metadata": {},
   "outputs": [],
   "source": [
    "df=pd.get_dummies(df,columns=[\"FullBath\",\"HalfBath\",\"BedroomAbvGr\",\"Fireplaces\",\"YrSold\"]).astype('int')"
   ]
  },
  {
   "cell_type": "code",
   "execution_count": 12,
   "id": "160b771f",
   "metadata": {},
   "outputs": [
    {
     "data": {
      "text/plain": [
       "Index(['LotArea', 'YearBuilt', 'YearRemodAdd', 'BsmtFinSF1', 'GarageArea',\n",
       "       'SalePrice'],\n",
       "      dtype='object')"
      ]
     },
     "execution_count": 12,
     "metadata": {},
     "output_type": "execute_result"
    }
   ],
   "source": [
    "#Printing head() of dataset to verify dummy variables: \n",
    "columns=df.columns[[0,1,2,3,4,5]]\n",
    "columns"
   ]
  },
  {
   "cell_type": "markdown",
   "id": "73611d85",
   "metadata": {},
   "source": [
    "Normalizing our data: "
   ]
  },
  {
   "cell_type": "code",
   "execution_count": 13,
   "id": "04102f62",
   "metadata": {},
   "outputs": [
    {
     "data": {
      "text/html": [
       "<div>\n",
       "<style scoped>\n",
       "    .dataframe tbody tr th:only-of-type {\n",
       "        vertical-align: middle;\n",
       "    }\n",
       "\n",
       "    .dataframe tbody tr th {\n",
       "        vertical-align: top;\n",
       "    }\n",
       "\n",
       "    .dataframe thead th {\n",
       "        text-align: right;\n",
       "    }\n",
       "</style>\n",
       "<table border=\"1\" class=\"dataframe\">\n",
       "  <thead>\n",
       "    <tr style=\"text-align: right;\">\n",
       "      <th></th>\n",
       "      <th>LotArea</th>\n",
       "      <th>YearBuilt</th>\n",
       "      <th>YearRemodAdd</th>\n",
       "      <th>BsmtFinSF1</th>\n",
       "      <th>GarageArea</th>\n",
       "      <th>SalePrice</th>\n",
       "      <th>FullBath_0</th>\n",
       "      <th>FullBath_1</th>\n",
       "      <th>FullBath_2</th>\n",
       "      <th>HalfBath_0</th>\n",
       "      <th>...</th>\n",
       "      <th>BedroomAbvGr_4</th>\n",
       "      <th>BedroomAbvGr_5</th>\n",
       "      <th>Fireplaces_0</th>\n",
       "      <th>Fireplaces_1</th>\n",
       "      <th>Fireplaces_2</th>\n",
       "      <th>YrSold_2006</th>\n",
       "      <th>YrSold_2007</th>\n",
       "      <th>YrSold_2008</th>\n",
       "      <th>YrSold_2009</th>\n",
       "      <th>YrSold_2010</th>\n",
       "    </tr>\n",
       "  </thead>\n",
       "  <tbody>\n",
       "    <tr>\n",
       "      <th>0</th>\n",
       "      <td>-0.546080</td>\n",
       "      <td>-0.109679</td>\n",
       "      <td>-0.668838</td>\n",
       "      <td>-0.260487</td>\n",
       "      <td>0.994166</td>\n",
       "      <td>-1.028489</td>\n",
       "      <td>0</td>\n",
       "      <td>1</td>\n",
       "      <td>0</td>\n",
       "      <td>1</td>\n",
       "      <td>...</td>\n",
       "      <td>0</td>\n",
       "      <td>0</td>\n",
       "      <td>1</td>\n",
       "      <td>0</td>\n",
       "      <td>0</td>\n",
       "      <td>0</td>\n",
       "      <td>1</td>\n",
       "      <td>0</td>\n",
       "      <td>0</td>\n",
       "      <td>0</td>\n",
       "    </tr>\n",
       "    <tr>\n",
       "      <th>1</th>\n",
       "      <td>-0.230414</td>\n",
       "      <td>-0.598001</td>\n",
       "      <td>0.714417</td>\n",
       "      <td>1.085306</td>\n",
       "      <td>1.337347</td>\n",
       "      <td>-0.321871</td>\n",
       "      <td>0</td>\n",
       "      <td>1</td>\n",
       "      <td>0</td>\n",
       "      <td>1</td>\n",
       "      <td>...</td>\n",
       "      <td>0</td>\n",
       "      <td>0</td>\n",
       "      <td>1</td>\n",
       "      <td>0</td>\n",
       "      <td>0</td>\n",
       "      <td>0</td>\n",
       "      <td>0</td>\n",
       "      <td>0</td>\n",
       "      <td>1</td>\n",
       "      <td>0</td>\n",
       "    </tr>\n",
       "    <tr>\n",
       "      <th>2</th>\n",
       "      <td>-0.422989</td>\n",
       "      <td>1.006486</td>\n",
       "      <td>0.857512</td>\n",
       "      <td>-1.065961</td>\n",
       "      <td>-0.392858</td>\n",
       "      <td>0.121820</td>\n",
       "      <td>0</td>\n",
       "      <td>0</td>\n",
       "      <td>1</td>\n",
       "      <td>0</td>\n",
       "      <td>...</td>\n",
       "      <td>0</td>\n",
       "      <td>0</td>\n",
       "      <td>0</td>\n",
       "      <td>1</td>\n",
       "      <td>0</td>\n",
       "      <td>1</td>\n",
       "      <td>0</td>\n",
       "      <td>0</td>\n",
       "      <td>0</td>\n",
       "      <td>0</td>\n",
       "    </tr>\n",
       "    <tr>\n",
       "      <th>3</th>\n",
       "      <td>1.183869</td>\n",
       "      <td>1.111127</td>\n",
       "      <td>1.000608</td>\n",
       "      <td>-1.065961</td>\n",
       "      <td>1.022764</td>\n",
       "      <td>1.107798</td>\n",
       "      <td>0</td>\n",
       "      <td>0</td>\n",
       "      <td>1</td>\n",
       "      <td>1</td>\n",
       "      <td>...</td>\n",
       "      <td>0</td>\n",
       "      <td>0</td>\n",
       "      <td>0</td>\n",
       "      <td>1</td>\n",
       "      <td>0</td>\n",
       "      <td>1</td>\n",
       "      <td>0</td>\n",
       "      <td>0</td>\n",
       "      <td>0</td>\n",
       "      <td>0</td>\n",
       "    </tr>\n",
       "    <tr>\n",
       "      <th>4</th>\n",
       "      <td>-0.814580</td>\n",
       "      <td>-0.249199</td>\n",
       "      <td>-0.859632</td>\n",
       "      <td>0.432421</td>\n",
       "      <td>-0.893330</td>\n",
       "      <td>-0.773778</td>\n",
       "      <td>0</td>\n",
       "      <td>1</td>\n",
       "      <td>0</td>\n",
       "      <td>1</td>\n",
       "      <td>...</td>\n",
       "      <td>0</td>\n",
       "      <td>0</td>\n",
       "      <td>1</td>\n",
       "      <td>0</td>\n",
       "      <td>0</td>\n",
       "      <td>0</td>\n",
       "      <td>1</td>\n",
       "      <td>0</td>\n",
       "      <td>0</td>\n",
       "      <td>0</td>\n",
       "    </tr>\n",
       "  </tbody>\n",
       "</table>\n",
       "<p>5 rows × 25 columns</p>\n",
       "</div>"
      ],
      "text/plain": [
       "    LotArea  YearBuilt  YearRemodAdd  BsmtFinSF1  GarageArea  SalePrice  \\\n",
       "0 -0.546080  -0.109679     -0.668838   -0.260487    0.994166  -1.028489   \n",
       "1 -0.230414  -0.598001      0.714417    1.085306    1.337347  -0.321871   \n",
       "2 -0.422989   1.006486      0.857512   -1.065961   -0.392858   0.121820   \n",
       "3  1.183869   1.111127      1.000608   -1.065961    1.022764   1.107798   \n",
       "4 -0.814580  -0.249199     -0.859632    0.432421   -0.893330  -0.773778   \n",
       "\n",
       "   FullBath_0  FullBath_1  FullBath_2  HalfBath_0  ...  BedroomAbvGr_4  \\\n",
       "0           0           1           0           1  ...               0   \n",
       "1           0           1           0           1  ...               0   \n",
       "2           0           0           1           0  ...               0   \n",
       "3           0           0           1           1  ...               0   \n",
       "4           0           1           0           1  ...               0   \n",
       "\n",
       "   BedroomAbvGr_5  Fireplaces_0  Fireplaces_1  Fireplaces_2  YrSold_2006  \\\n",
       "0               0             1             0             0            0   \n",
       "1               0             1             0             0            0   \n",
       "2               0             0             1             0            1   \n",
       "3               0             0             1             0            1   \n",
       "4               0             1             0             0            0   \n",
       "\n",
       "   YrSold_2007  YrSold_2008  YrSold_2009  YrSold_2010  \n",
       "0            1            0            0            0  \n",
       "1            0            0            1            0  \n",
       "2            0            0            0            0  \n",
       "3            0            0            0            0  \n",
       "4            1            0            0            0  \n",
       "\n",
       "[5 rows x 25 columns]"
      ]
     },
     "execution_count": 13,
     "metadata": {},
     "output_type": "execute_result"
    }
   ],
   "source": [
    "df_norm=pd.DataFrame(preprocessing.StandardScaler().fit_transform(df[['LotArea','YearBuilt','YearRemodAdd','BsmtFinSF1','GarageArea','SalePrice']]))\n",
    "df_norm=pd.DataFrame(df_norm)\n",
    "df_norm.columns=columns\n",
    "#Replacing normalized columns in our main dataframe\n",
    "df[['LotArea','YearBuilt','YearRemodAdd','BsmtFinSF1','GarageArea','SalePrice']]=df_norm[['LotArea','YearBuilt','YearRemodAdd','BsmtFinSF1','GarageArea','SalePrice']]\n",
    "df.head()"
   ]
  },
  {
   "cell_type": "markdown",
   "id": "1fbf4516",
   "metadata": {},
   "source": [
    "Knn classification is applied on classes. Hence, we will convert Saleprice into three categories."
   ]
  },
  {
   "cell_type": "code",
   "execution_count": 14,
   "id": "fcd78834",
   "metadata": {},
   "outputs": [
    {
     "data": {
      "text/html": [
       "<div>\n",
       "<style scoped>\n",
       "    .dataframe tbody tr th:only-of-type {\n",
       "        vertical-align: middle;\n",
       "    }\n",
       "\n",
       "    .dataframe tbody tr th {\n",
       "        vertical-align: top;\n",
       "    }\n",
       "\n",
       "    .dataframe thead th {\n",
       "        text-align: right;\n",
       "    }\n",
       "</style>\n",
       "<table border=\"1\" class=\"dataframe\">\n",
       "  <thead>\n",
       "    <tr style=\"text-align: right;\">\n",
       "      <th></th>\n",
       "      <th>LotArea</th>\n",
       "      <th>YearBuilt</th>\n",
       "      <th>YearRemodAdd</th>\n",
       "      <th>BsmtFinSF1</th>\n",
       "      <th>GarageArea</th>\n",
       "      <th>SalePrice</th>\n",
       "      <th>FullBath_0</th>\n",
       "      <th>FullBath_1</th>\n",
       "      <th>FullBath_2</th>\n",
       "      <th>HalfBath_0</th>\n",
       "      <th>...</th>\n",
       "      <th>BedroomAbvGr_5</th>\n",
       "      <th>Fireplaces_0</th>\n",
       "      <th>Fireplaces_1</th>\n",
       "      <th>Fireplaces_2</th>\n",
       "      <th>YrSold_2006</th>\n",
       "      <th>YrSold_2007</th>\n",
       "      <th>YrSold_2008</th>\n",
       "      <th>YrSold_2009</th>\n",
       "      <th>YrSold_2010</th>\n",
       "      <th>Price</th>\n",
       "    </tr>\n",
       "  </thead>\n",
       "  <tbody>\n",
       "    <tr>\n",
       "      <th>0</th>\n",
       "      <td>-0.546080</td>\n",
       "      <td>-0.109679</td>\n",
       "      <td>-0.668838</td>\n",
       "      <td>-0.260487</td>\n",
       "      <td>0.994166</td>\n",
       "      <td>-1.028489</td>\n",
       "      <td>0</td>\n",
       "      <td>1</td>\n",
       "      <td>0</td>\n",
       "      <td>1</td>\n",
       "      <td>...</td>\n",
       "      <td>0</td>\n",
       "      <td>1</td>\n",
       "      <td>0</td>\n",
       "      <td>0</td>\n",
       "      <td>0</td>\n",
       "      <td>1</td>\n",
       "      <td>0</td>\n",
       "      <td>0</td>\n",
       "      <td>0</td>\n",
       "      <td>Low</td>\n",
       "    </tr>\n",
       "    <tr>\n",
       "      <th>1</th>\n",
       "      <td>-0.230414</td>\n",
       "      <td>-0.598001</td>\n",
       "      <td>0.714417</td>\n",
       "      <td>1.085306</td>\n",
       "      <td>1.337347</td>\n",
       "      <td>-0.321871</td>\n",
       "      <td>0</td>\n",
       "      <td>1</td>\n",
       "      <td>0</td>\n",
       "      <td>1</td>\n",
       "      <td>...</td>\n",
       "      <td>0</td>\n",
       "      <td>1</td>\n",
       "      <td>0</td>\n",
       "      <td>0</td>\n",
       "      <td>0</td>\n",
       "      <td>0</td>\n",
       "      <td>0</td>\n",
       "      <td>1</td>\n",
       "      <td>0</td>\n",
       "      <td>Low</td>\n",
       "    </tr>\n",
       "    <tr>\n",
       "      <th>2</th>\n",
       "      <td>-0.422989</td>\n",
       "      <td>1.006486</td>\n",
       "      <td>0.857512</td>\n",
       "      <td>-1.065961</td>\n",
       "      <td>-0.392858</td>\n",
       "      <td>0.121820</td>\n",
       "      <td>0</td>\n",
       "      <td>0</td>\n",
       "      <td>1</td>\n",
       "      <td>0</td>\n",
       "      <td>...</td>\n",
       "      <td>0</td>\n",
       "      <td>0</td>\n",
       "      <td>1</td>\n",
       "      <td>0</td>\n",
       "      <td>1</td>\n",
       "      <td>0</td>\n",
       "      <td>0</td>\n",
       "      <td>0</td>\n",
       "      <td>0</td>\n",
       "      <td>High</td>\n",
       "    </tr>\n",
       "    <tr>\n",
       "      <th>3</th>\n",
       "      <td>1.183869</td>\n",
       "      <td>1.111127</td>\n",
       "      <td>1.000608</td>\n",
       "      <td>-1.065961</td>\n",
       "      <td>1.022764</td>\n",
       "      <td>1.107798</td>\n",
       "      <td>0</td>\n",
       "      <td>0</td>\n",
       "      <td>1</td>\n",
       "      <td>1</td>\n",
       "      <td>...</td>\n",
       "      <td>0</td>\n",
       "      <td>0</td>\n",
       "      <td>1</td>\n",
       "      <td>0</td>\n",
       "      <td>1</td>\n",
       "      <td>0</td>\n",
       "      <td>0</td>\n",
       "      <td>0</td>\n",
       "      <td>0</td>\n",
       "      <td>High</td>\n",
       "    </tr>\n",
       "    <tr>\n",
       "      <th>4</th>\n",
       "      <td>-0.814580</td>\n",
       "      <td>-0.249199</td>\n",
       "      <td>-0.859632</td>\n",
       "      <td>0.432421</td>\n",
       "      <td>-0.893330</td>\n",
       "      <td>-0.773778</td>\n",
       "      <td>0</td>\n",
       "      <td>1</td>\n",
       "      <td>0</td>\n",
       "      <td>1</td>\n",
       "      <td>...</td>\n",
       "      <td>0</td>\n",
       "      <td>1</td>\n",
       "      <td>0</td>\n",
       "      <td>0</td>\n",
       "      <td>0</td>\n",
       "      <td>1</td>\n",
       "      <td>0</td>\n",
       "      <td>0</td>\n",
       "      <td>0</td>\n",
       "      <td>Low</td>\n",
       "    </tr>\n",
       "  </tbody>\n",
       "</table>\n",
       "<p>5 rows × 26 columns</p>\n",
       "</div>"
      ],
      "text/plain": [
       "    LotArea  YearBuilt  YearRemodAdd  BsmtFinSF1  GarageArea  SalePrice  \\\n",
       "0 -0.546080  -0.109679     -0.668838   -0.260487    0.994166  -1.028489   \n",
       "1 -0.230414  -0.598001      0.714417    1.085306    1.337347  -0.321871   \n",
       "2 -0.422989   1.006486      0.857512   -1.065961   -0.392858   0.121820   \n",
       "3  1.183869   1.111127      1.000608   -1.065961    1.022764   1.107798   \n",
       "4 -0.814580  -0.249199     -0.859632    0.432421   -0.893330  -0.773778   \n",
       "\n",
       "   FullBath_0  FullBath_1  FullBath_2  HalfBath_0  ...  BedroomAbvGr_5  \\\n",
       "0           0           1           0           1  ...               0   \n",
       "1           0           1           0           1  ...               0   \n",
       "2           0           0           1           0  ...               0   \n",
       "3           0           0           1           1  ...               0   \n",
       "4           0           1           0           1  ...               0   \n",
       "\n",
       "   Fireplaces_0  Fireplaces_1  Fireplaces_2  YrSold_2006  YrSold_2007  \\\n",
       "0             1             0             0            0            1   \n",
       "1             1             0             0            0            0   \n",
       "2             0             1             0            1            0   \n",
       "3             0             1             0            1            0   \n",
       "4             1             0             0            0            1   \n",
       "\n",
       "   YrSold_2008  YrSold_2009  YrSold_2010  Price  \n",
       "0            0            0            0    Low  \n",
       "1            0            1            0    Low  \n",
       "2            0            0            0   High  \n",
       "3            0            0            0   High  \n",
       "4            0            0            0    Low  \n",
       "\n",
       "[5 rows x 26 columns]"
      ]
     },
     "execution_count": 14,
     "metadata": {},
     "output_type": "execute_result"
    }
   ],
   "source": [
    "#Coverting SalePrice into 'High' and 'Low' class: \n",
    "df['Price']=pd.DataFrame(np.where(df['SalePrice']>=df['SalePrice'].mean(),'High','Low'))\n",
    "df.head()"
   ]
  },
  {
   "cell_type": "markdown",
   "id": "d0612d83",
   "metadata": {},
   "source": [
    "Making training and testing data sets: "
   ]
  },
  {
   "cell_type": "code",
   "execution_count": 15,
   "id": "f2ee4931",
   "metadata": {},
   "outputs": [],
   "source": [
    "#Dropping SalePrice first\n",
    "df.drop('SalePrice',axis=1,inplace=True)"
   ]
  },
  {
   "cell_type": "code",
   "execution_count": 16,
   "id": "e51aef8d",
   "metadata": {},
   "outputs": [],
   "source": [
    "#Making training and testing dataset now: \n",
    "x=np.array(df.drop('Price',axis=1))\n",
    "y=np.array(df['Price'])\n",
    "t=model_selection.train_test_split\n",
    "x_train, x_test, y_train, y_test = t(x,y,test_size=0.2,random_state=2)"
   ]
  },
  {
   "cell_type": "markdown",
   "id": "c8ed31fe",
   "metadata": {},
   "source": [
    "**Model Construction**"
   ]
  },
  {
   "cell_type": "markdown",
   "id": "75e17793",
   "metadata": {},
   "source": [
    "Our data is finally prepared and we can apply knn-classifier model :"
   ]
  },
  {
   "cell_type": "code",
   "execution_count": 17,
   "id": "fa7a6682",
   "metadata": {
    "scrolled": true
   },
   "outputs": [
    {
     "data": {
      "text/html": [
       "<style>#sk-container-id-1 {color: black;}#sk-container-id-1 pre{padding: 0;}#sk-container-id-1 div.sk-toggleable {background-color: white;}#sk-container-id-1 label.sk-toggleable__label {cursor: pointer;display: block;width: 100%;margin-bottom: 0;padding: 0.3em;box-sizing: border-box;text-align: center;}#sk-container-id-1 label.sk-toggleable__label-arrow:before {content: \"▸\";float: left;margin-right: 0.25em;color: #696969;}#sk-container-id-1 label.sk-toggleable__label-arrow:hover:before {color: black;}#sk-container-id-1 div.sk-estimator:hover label.sk-toggleable__label-arrow:before {color: black;}#sk-container-id-1 div.sk-toggleable__content {max-height: 0;max-width: 0;overflow: hidden;text-align: left;background-color: #f0f8ff;}#sk-container-id-1 div.sk-toggleable__content pre {margin: 0.2em;color: black;border-radius: 0.25em;background-color: #f0f8ff;}#sk-container-id-1 input.sk-toggleable__control:checked~div.sk-toggleable__content {max-height: 200px;max-width: 100%;overflow: auto;}#sk-container-id-1 input.sk-toggleable__control:checked~label.sk-toggleable__label-arrow:before {content: \"▾\";}#sk-container-id-1 div.sk-estimator input.sk-toggleable__control:checked~label.sk-toggleable__label {background-color: #d4ebff;}#sk-container-id-1 div.sk-label input.sk-toggleable__control:checked~label.sk-toggleable__label {background-color: #d4ebff;}#sk-container-id-1 input.sk-hidden--visually {border: 0;clip: rect(1px 1px 1px 1px);clip: rect(1px, 1px, 1px, 1px);height: 1px;margin: -1px;overflow: hidden;padding: 0;position: absolute;width: 1px;}#sk-container-id-1 div.sk-estimator {font-family: monospace;background-color: #f0f8ff;border: 1px dotted black;border-radius: 0.25em;box-sizing: border-box;margin-bottom: 0.5em;}#sk-container-id-1 div.sk-estimator:hover {background-color: #d4ebff;}#sk-container-id-1 div.sk-parallel-item::after {content: \"\";width: 100%;border-bottom: 1px solid gray;flex-grow: 1;}#sk-container-id-1 div.sk-label:hover label.sk-toggleable__label {background-color: #d4ebff;}#sk-container-id-1 div.sk-serial::before {content: \"\";position: absolute;border-left: 1px solid gray;box-sizing: border-box;top: 0;bottom: 0;left: 50%;z-index: 0;}#sk-container-id-1 div.sk-serial {display: flex;flex-direction: column;align-items: center;background-color: white;padding-right: 0.2em;padding-left: 0.2em;position: relative;}#sk-container-id-1 div.sk-item {position: relative;z-index: 1;}#sk-container-id-1 div.sk-parallel {display: flex;align-items: stretch;justify-content: center;background-color: white;position: relative;}#sk-container-id-1 div.sk-item::before, #sk-container-id-1 div.sk-parallel-item::before {content: \"\";position: absolute;border-left: 1px solid gray;box-sizing: border-box;top: 0;bottom: 0;left: 50%;z-index: -1;}#sk-container-id-1 div.sk-parallel-item {display: flex;flex-direction: column;z-index: 1;position: relative;background-color: white;}#sk-container-id-1 div.sk-parallel-item:first-child::after {align-self: flex-end;width: 50%;}#sk-container-id-1 div.sk-parallel-item:last-child::after {align-self: flex-start;width: 50%;}#sk-container-id-1 div.sk-parallel-item:only-child::after {width: 0;}#sk-container-id-1 div.sk-dashed-wrapped {border: 1px dashed gray;margin: 0 0.4em 0.5em 0.4em;box-sizing: border-box;padding-bottom: 0.4em;background-color: white;}#sk-container-id-1 div.sk-label label {font-family: monospace;font-weight: bold;display: inline-block;line-height: 1.2em;}#sk-container-id-1 div.sk-label-container {text-align: center;}#sk-container-id-1 div.sk-container {/* jupyter's `normalize.less` sets `[hidden] { display: none; }` but bootstrap.min.css set `[hidden] { display: none !important; }` so we also need the `!important` here to be able to override the default hidden behavior on the sphinx rendered scikit-learn.org. See: https://github.com/scikit-learn/scikit-learn/issues/21755 */display: inline-block !important;position: relative;}#sk-container-id-1 div.sk-text-repr-fallback {display: none;}</style><div id=\"sk-container-id-1\" class=\"sk-top-container\"><div class=\"sk-text-repr-fallback\"><pre>KNeighborsClassifier(n_neighbors=2)</pre><b>In a Jupyter environment, please rerun this cell to show the HTML representation or trust the notebook. <br />On GitHub, the HTML representation is unable to render, please try loading this page with nbviewer.org.</b></div><div class=\"sk-container\" hidden><div class=\"sk-item\"><div class=\"sk-estimator sk-toggleable\"><input class=\"sk-toggleable__control sk-hidden--visually\" id=\"sk-estimator-id-1\" type=\"checkbox\" checked><label for=\"sk-estimator-id-1\" class=\"sk-toggleable__label sk-toggleable__label-arrow\">KNeighborsClassifier</label><div class=\"sk-toggleable__content\"><pre>KNeighborsClassifier(n_neighbors=2)</pre></div></div></div></div></div>"
      ],
      "text/plain": [
       "KNeighborsClassifier(n_neighbors=2)"
      ]
     },
     "execution_count": 17,
     "metadata": {},
     "output_type": "execute_result"
    }
   ],
   "source": [
    "clf=neighbors.KNeighborsClassifier(n_neighbors=2)\n",
    "clf.fit(x_train,y_train)"
   ]
  },
  {
   "cell_type": "markdown",
   "id": "de861183",
   "metadata": {},
   "source": [
    "Printing accuracy of our model: "
   ]
  },
  {
   "cell_type": "code",
   "execution_count": 18,
   "id": "d288136e",
   "metadata": {},
   "outputs": [
    {
     "name": "stdout",
     "output_type": "stream",
     "text": [
      "0.8333333333333334\n"
     ]
    }
   ],
   "source": [
    "print(clf.score(x_test,y_test))"
   ]
  },
  {
   "cell_type": "markdown",
   "id": "f6736559",
   "metadata": {},
   "source": [
    "Having a look at predictions made: "
   ]
  },
  {
   "cell_type": "code",
   "execution_count": 21,
   "id": "26b017a3",
   "metadata": {},
   "outputs": [],
   "source": [
    "p=clf.predict(x_test)"
   ]
  },
  {
   "cell_type": "markdown",
   "id": "5390ee10",
   "metadata": {},
   "source": [
    "Making confusion matrix of our model:"
   ]
  },
  {
   "cell_type": "code",
   "execution_count": 22,
   "id": "fc0cc9b8",
   "metadata": {},
   "outputs": [
    {
     "data": {
      "text/plain": [
       "Text(50.722222222222214, 0.5, 'Predicted Values')"
      ]
     },
     "execution_count": 22,
     "metadata": {},
     "output_type": "execute_result"
    },
    {
     "data": {
      "image/png": "[encoded data removed]",
      "text/plain": [
       "<Figure size 640x480 with 2 Axes>"
      ]
     },
     "metadata": {},
     "output_type": "display_data"
    }
   ],
   "source": [
    "cm=metrics.confusion_matrix\n",
    "c=cm(y_test,p)\n",
    "plt.figure()\n",
    "sb.heatmap(c,annot=True,cmap=\"Blues\",xticklabels=['Low','High'],yticklabels=['Low','High'])\n",
    "plt.xlabel('Actual values')\n",
    "plt.ylabel('Predicted Values')"
   ]
  },
  {
   "cell_type": "markdown",
   "id": "03cb8e38",
   "metadata": {},
   "source": [
    "This concludes our assignment."
   ]
  }
 ],
 "metadata": {
  "kernelspec": {
   "display_name": "Python 3 (ipykernel)",
   "language": "python",
   "name": "python3"
  },
  "language_info": {
   "codemirror_mode": {
    "name": "ipython",
    "version": 3
   },
   "file_extension": ".py",
   "mimetype": "text/x-python",
   "name": "python",
   "nbconvert_exporter": "python",
   "pygments_lexer": "ipython3",
   "version": "3.11.5"
  }
 },
 "nbformat": 4,
 "nbformat_minor": 5
}
