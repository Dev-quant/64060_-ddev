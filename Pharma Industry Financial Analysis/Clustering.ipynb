{
 "cells": [
  {
   "cell_type": "markdown",
   "id": "bcfc86b1",
   "metadata": {},
   "source": [
    "# Clustering Pharmaceutical Financial Measures\n",
    "## Author : Dev"
   ]
  },
  {
   "cell_type": "markdown",
   "id": "ba1cb0ee",
   "metadata": {},
   "source": [
    "Importing all the needed modules : "
   ]
  },
  {
   "cell_type": "code",
   "execution_count": 13,
   "id": "4b9dde7f",
   "metadata": {},
   "outputs": [],
   "source": [
    "import pandas as pd\n",
    "import numpy as np\n",
    "import sklearn as sk\n",
    "from sklearn import preprocessing\n",
    "from sklearn.metrics import silhouette_score\n",
    "import matplotlib.pyplot as plt"
   ]
  },
  {
   "cell_type": "markdown",
   "id": "2bd5aad5",
   "metadata": {},
   "source": [
    "Importing the dataset :"
   ]
  },
  {
   "cell_type": "code",
   "execution_count": 2,
   "id": "2f070764",
   "metadata": {},
   "outputs": [],
   "source": [
    "df = pd.read_csv(\"/Users/devmarwah/Downloads/Pharmaceuticals.csv\")"
   ]
  },
  {
   "cell_type": "markdown",
   "id": "274bb191",
   "metadata": {},
   "source": [
    "### Data Exploration "
   ]
  },
  {
   "cell_type": "markdown",
   "id": "6a994e7c",
   "metadata": {},
   "source": [
    "Having a look at the head of our data "
   ]
  },
  {
   "cell_type": "code",
   "execution_count": 3,
   "id": "0158a7ff",
   "metadata": {},
   "outputs": [
    {
     "data": {
      "text/html": [
       "<div>\n",
       "<style scoped>\n",
       "    .dataframe tbody tr th:only-of-type {\n",
       "        vertical-align: middle;\n",
       "    }\n",
       "\n",
       "    .dataframe tbody tr th {\n",
       "        vertical-align: top;\n",
       "    }\n",
       "\n",
       "    .dataframe thead th {\n",
       "        text-align: right;\n",
       "    }\n",
       "</style>\n",
       "<table border=\"1\" class=\"dataframe\">\n",
       "  <thead>\n",
       "    <tr style=\"text-align: right;\">\n",
       "      <th></th>\n",
       "      <th>Symbol</th>\n",
       "      <th>Name</th>\n",
       "      <th>Market_Cap</th>\n",
       "      <th>Beta</th>\n",
       "      <th>PE_Ratio</th>\n",
       "      <th>ROE</th>\n",
       "      <th>ROA</th>\n",
       "      <th>Asset_Turnover</th>\n",
       "      <th>Leverage</th>\n",
       "      <th>Rev_Growth</th>\n",
       "      <th>Net_Profit_Margin</th>\n",
       "      <th>Median_Recommendation</th>\n",
       "      <th>Location</th>\n",
       "      <th>Exchange</th>\n",
       "    </tr>\n",
       "  </thead>\n",
       "  <tbody>\n",
       "    <tr>\n",
       "      <th>0</th>\n",
       "      <td>ABT</td>\n",
       "      <td>Abbott Laboratories</td>\n",
       "      <td>68.44</td>\n",
       "      <td>0.32</td>\n",
       "      <td>24.7</td>\n",
       "      <td>26.4</td>\n",
       "      <td>11.8</td>\n",
       "      <td>0.7</td>\n",
       "      <td>0.42</td>\n",
       "      <td>7.54</td>\n",
       "      <td>16.1</td>\n",
       "      <td>Moderate Buy</td>\n",
       "      <td>US</td>\n",
       "      <td>NYSE</td>\n",
       "    </tr>\n",
       "    <tr>\n",
       "      <th>1</th>\n",
       "      <td>AGN</td>\n",
       "      <td>Allergan, Inc.</td>\n",
       "      <td>7.58</td>\n",
       "      <td>0.41</td>\n",
       "      <td>82.5</td>\n",
       "      <td>12.9</td>\n",
       "      <td>5.5</td>\n",
       "      <td>0.9</td>\n",
       "      <td>0.60</td>\n",
       "      <td>9.16</td>\n",
       "      <td>5.5</td>\n",
       "      <td>Moderate Buy</td>\n",
       "      <td>CANADA</td>\n",
       "      <td>NYSE</td>\n",
       "    </tr>\n",
       "    <tr>\n",
       "      <th>2</th>\n",
       "      <td>AHM</td>\n",
       "      <td>Amersham plc</td>\n",
       "      <td>6.30</td>\n",
       "      <td>0.46</td>\n",
       "      <td>20.7</td>\n",
       "      <td>14.9</td>\n",
       "      <td>7.8</td>\n",
       "      <td>0.9</td>\n",
       "      <td>0.27</td>\n",
       "      <td>7.05</td>\n",
       "      <td>11.2</td>\n",
       "      <td>Strong Buy</td>\n",
       "      <td>UK</td>\n",
       "      <td>NYSE</td>\n",
       "    </tr>\n",
       "    <tr>\n",
       "      <th>3</th>\n",
       "      <td>AZN</td>\n",
       "      <td>AstraZeneca PLC</td>\n",
       "      <td>67.63</td>\n",
       "      <td>0.52</td>\n",
       "      <td>21.5</td>\n",
       "      <td>27.4</td>\n",
       "      <td>15.4</td>\n",
       "      <td>0.9</td>\n",
       "      <td>0.00</td>\n",
       "      <td>15.00</td>\n",
       "      <td>18.0</td>\n",
       "      <td>Moderate Sell</td>\n",
       "      <td>UK</td>\n",
       "      <td>NYSE</td>\n",
       "    </tr>\n",
       "    <tr>\n",
       "      <th>4</th>\n",
       "      <td>AVE</td>\n",
       "      <td>Aventis</td>\n",
       "      <td>47.16</td>\n",
       "      <td>0.32</td>\n",
       "      <td>20.1</td>\n",
       "      <td>21.8</td>\n",
       "      <td>7.5</td>\n",
       "      <td>0.6</td>\n",
       "      <td>0.34</td>\n",
       "      <td>26.81</td>\n",
       "      <td>12.9</td>\n",
       "      <td>Moderate Buy</td>\n",
       "      <td>FRANCE</td>\n",
       "      <td>NYSE</td>\n",
       "    </tr>\n",
       "  </tbody>\n",
       "</table>\n",
       "</div>"
      ],
      "text/plain": [
       "  Symbol                 Name  Market_Cap  Beta  PE_Ratio   ROE   ROA  \\\n",
       "0    ABT  Abbott Laboratories       68.44  0.32      24.7  26.4  11.8   \n",
       "1    AGN       Allergan, Inc.        7.58  0.41      82.5  12.9   5.5   \n",
       "2    AHM         Amersham plc        6.30  0.46      20.7  14.9   7.8   \n",
       "3    AZN      AstraZeneca PLC       67.63  0.52      21.5  27.4  15.4   \n",
       "4    AVE              Aventis       47.16  0.32      20.1  21.8   7.5   \n",
       "\n",
       "   Asset_Turnover  Leverage  Rev_Growth  Net_Profit_Margin  \\\n",
       "0             0.7      0.42        7.54               16.1   \n",
       "1             0.9      0.60        9.16                5.5   \n",
       "2             0.9      0.27        7.05               11.2   \n",
       "3             0.9      0.00       15.00               18.0   \n",
       "4             0.6      0.34       26.81               12.9   \n",
       "\n",
       "  Median_Recommendation Location Exchange  \n",
       "0          Moderate Buy       US     NYSE  \n",
       "1          Moderate Buy   CANADA     NYSE  \n",
       "2            Strong Buy       UK     NYSE  \n",
       "3         Moderate Sell       UK     NYSE  \n",
       "4          Moderate Buy   FRANCE     NYSE  "
      ]
     },
     "execution_count": 3,
     "metadata": {},
     "output_type": "execute_result"
    }
   ],
   "source": [
    "df.head()"
   ]
  },
  {
   "cell_type": "code",
   "execution_count": 4,
   "id": "a7d0da69",
   "metadata": {},
   "outputs": [
    {
     "data": {
      "text/plain": [
       "(21, 14)"
      ]
     },
     "execution_count": 4,
     "metadata": {},
     "output_type": "execute_result"
    }
   ],
   "source": [
    "df.shape"
   ]
  },
  {
   "cell_type": "markdown",
   "id": "e470eb93",
   "metadata": {},
   "source": [
    "Our dataset has 21 rows and 14 variables."
   ]
  },
  {
   "cell_type": "markdown",
   "id": "e61907ef",
   "metadata": {},
   "source": [
    "### Data Preparation "
   ]
  },
  {
   "cell_type": "markdown",
   "id": "e266e358",
   "metadata": {},
   "source": [
    "Since Kmeans uses distances to cluster records, we will be using only the numeric variables. "
   ]
  },
  {
   "cell_type": "code",
   "execution_count": 5,
   "id": "225630c2",
   "metadata": {},
   "outputs": [],
   "source": [
    "df.drop(['Symbol','Name','Median_Recommendation','Location','Exchange'],axis=1,inplace=True)"
   ]
  },
  {
   "cell_type": "markdown",
   "id": "9f6d4313",
   "metadata": {},
   "source": [
    "Checking shape of our data after dropping non-numeric variables."
   ]
  },
  {
   "cell_type": "code",
   "execution_count": 6,
   "id": "2e484af7",
   "metadata": {},
   "outputs": [
    {
     "data": {
      "text/plain": [
       "(21, 9)"
      ]
     },
     "execution_count": 6,
     "metadata": {},
     "output_type": "execute_result"
    }
   ],
   "source": [
    "df.shape"
   ]
  },
  {
   "cell_type": "markdown",
   "id": "b03145b0",
   "metadata": {},
   "source": [
    "Normalizing our dataset:"
   ]
  },
  {
   "cell_type": "code",
   "execution_count": 10,
   "id": "a351846f",
   "metadata": {},
   "outputs": [],
   "source": [
    "df_norm= preprocessing.StandardScaler().fit_transform(df)"
   ]
  },
  {
   "cell_type": "code",
   "execution_count": 11,
   "id": "3dbd5990",
   "metadata": {},
   "outputs": [],
   "source": [
    "# Giving normalized data column names\n",
    "df.iloc[:,:]=df.norm"
   ]
  },
  {
   "cell_type": "markdown",
   "id": "6048e553",
   "metadata": {},
   "source": [
    "Having a look at normalized values :"
   ]
  },
  {
   "cell_type": "code",
   "execution_count": 12,
   "id": "6ce07a2c",
   "metadata": {},
   "outputs": [
    {
     "data": {
      "text/html": [
       "<div>\n",
       "<style scoped>\n",
       "    .dataframe tbody tr th:only-of-type {\n",
       "        vertical-align: middle;\n",
       "    }\n",
       "\n",
       "    .dataframe tbody tr th {\n",
       "        vertical-align: top;\n",
       "    }\n",
       "\n",
       "    .dataframe thead th {\n",
       "        text-align: right;\n",
       "    }\n",
       "</style>\n",
       "<table border=\"1\" class=\"dataframe\">\n",
       "  <thead>\n",
       "    <tr style=\"text-align: right;\">\n",
       "      <th></th>\n",
       "      <th>Market_Cap</th>\n",
       "      <th>Beta</th>\n",
       "      <th>PE_Ratio</th>\n",
       "      <th>ROE</th>\n",
       "      <th>ROA</th>\n",
       "      <th>Asset_Turnover</th>\n",
       "      <th>Leverage</th>\n",
       "      <th>Rev_Growth</th>\n",
       "      <th>Net_Profit_Margin</th>\n",
       "    </tr>\n",
       "  </thead>\n",
       "  <tbody>\n",
       "    <tr>\n",
       "      <th>0</th>\n",
       "      <td>0.188642</td>\n",
       "      <td>-0.821041</td>\n",
       "      <td>-0.047867</td>\n",
       "      <td>0.041080</td>\n",
       "      <td>0.247579</td>\n",
       "      <td>-5.247542e-16</td>\n",
       "      <td>-0.217336</td>\n",
       "      <td>-0.540801</td>\n",
       "      <td>0.063205</td>\n",
       "    </tr>\n",
       "    <tr>\n",
       "      <th>1</th>\n",
       "      <td>-0.875518</td>\n",
       "      <td>-0.461835</td>\n",
       "      <td>3.583430</td>\n",
       "      <td>-0.875950</td>\n",
       "      <td>-0.965557</td>\n",
       "      <td>9.453132e-01</td>\n",
       "      <td>0.018736</td>\n",
       "      <td>-0.390551</td>\n",
       "      <td>-1.592035</td>\n",
       "    </tr>\n",
       "    <tr>\n",
       "      <th>2</th>\n",
       "      <td>-0.897899</td>\n",
       "      <td>-0.262277</td>\n",
       "      <td>-0.299168</td>\n",
       "      <td>-0.740094</td>\n",
       "      <td>-0.522666</td>\n",
       "      <td>9.453132e-01</td>\n",
       "      <td>-0.414062</td>\n",
       "      <td>-0.586247</td>\n",
       "      <td>-0.701953</td>\n",
       "    </tr>\n",
       "    <tr>\n",
       "      <th>3</th>\n",
       "      <td>0.174479</td>\n",
       "      <td>-0.022807</td>\n",
       "      <td>-0.248907</td>\n",
       "      <td>0.109009</td>\n",
       "      <td>0.940799</td>\n",
       "      <td>9.453132e-01</td>\n",
       "      <td>-0.768169</td>\n",
       "      <td>0.151089</td>\n",
       "      <td>0.359900</td>\n",
       "    </tr>\n",
       "    <tr>\n",
       "      <th>4</th>\n",
       "      <td>-0.183447</td>\n",
       "      <td>-0.821041</td>\n",
       "      <td>-0.336863</td>\n",
       "      <td>-0.271389</td>\n",
       "      <td>-0.580435</td>\n",
       "      <td>-4.726566e-01</td>\n",
       "      <td>-0.322256</td>\n",
       "      <td>1.246425</td>\n",
       "      <td>-0.436490</td>\n",
       "    </tr>\n",
       "  </tbody>\n",
       "</table>\n",
       "</div>"
      ],
      "text/plain": [
       "   Market_Cap      Beta  PE_Ratio       ROE       ROA  Asset_Turnover  \\\n",
       "0    0.188642 -0.821041 -0.047867  0.041080  0.247579   -5.247542e-16   \n",
       "1   -0.875518 -0.461835  3.583430 -0.875950 -0.965557    9.453132e-01   \n",
       "2   -0.897899 -0.262277 -0.299168 -0.740094 -0.522666    9.453132e-01   \n",
       "3    0.174479 -0.022807 -0.248907  0.109009  0.940799    9.453132e-01   \n",
       "4   -0.183447 -0.821041 -0.336863 -0.271389 -0.580435   -4.726566e-01   \n",
       "\n",
       "   Leverage  Rev_Growth  Net_Profit_Margin  \n",
       "0 -0.217336   -0.540801           0.063205  \n",
       "1  0.018736   -0.390551          -1.592035  \n",
       "2 -0.414062   -0.586247          -0.701953  \n",
       "3 -0.768169    0.151089           0.359900  \n",
       "4 -0.322256    1.246425          -0.436490  "
      ]
     },
     "execution_count": 12,
     "metadata": {},
     "output_type": "execute_result"
    }
   ],
   "source": [
    "df.head()"
   ]
  },
  {
   "cell_type": "markdown",
   "id": "f65116f1",
   "metadata": {},
   "source": [
    "Hence, our values are now normalized."
   ]
  },
  {
   "cell_type": "markdown",
   "id": "99c70fbf",
   "metadata": {},
   "source": [
    "### Model Construction"
   ]
  },
  {
   "cell_type": "markdown",
   "id": "229e2ab4",
   "metadata": {},
   "source": [
    "We will be using kmeans method to cluster this data. Firstly, we need to look for optimum value of k."
   ]
  },
  {
   "cell_type": "markdown",
   "id": "88e56386",
   "metadata": {},
   "source": [
    "**Using silhouette method**"
   ]
  },
  {
   "cell_type": "code",
   "execution_count": 15,
   "id": "3601ea86",
   "metadata": {},
   "outputs": [],
   "source": [
    "from sklearn.cluster import KMeans\n",
    "sh = []\n",
    "for i in range(2,11):\n",
    "    km=KMeans(n_clusters=i,n_init=10,random_state=40)\n",
    "    km.fit(df)\n",
    "    y=km.predict(df)\n",
    "    s=silhouette_score(df,y)\n",
    "    sh.append(s)"
   ]
  },
  {
   "cell_type": "markdown",
   "id": "59581c3a",
   "metadata": {},
   "source": [
    "Plotting silhouette scores : "
   ]
  },
  {
   "cell_type": "code",
   "execution_count": 20,
   "id": "241ec3af",
   "metadata": {},
   "outputs": [
    {
     "data": {
      "text/plain": [
       "<matplotlib.lines.Line2D at 0x144389290>"
      ]
     },
     "execution_count": 20,
     "metadata": {},
     "output_type": "execute_result"
    },
    {
     "data": {
      "image/png": "[encoded data removed]",
      "text/plain": [
       "<Figure size 640x480 with 1 Axes>"
      ]
     },
     "metadata": {},
     "output_type": "display_data"
    }
   ],
   "source": [
    "plt.plot(range(2,11),sh)\n",
    "plt.xlabel(\"Number of Clusters\")\n",
    "plt.ylabel(\"Average Silhouette score\")\n",
    "plt.title(\"Plot of silhouette score for different number of clusters\")\n",
    "plt.axvline(x=3,color=\"r\",linestyle=\"--\")"
   ]
  },
  {
   "cell_type": "markdown",
   "id": "126375d2",
   "metadata": {},
   "source": [
    "**Hence, k=3 is the most optimum value**"
   ]
  },
  {
   "cell_type": "markdown",
   "id": "2dce3bd0",
   "metadata": {},
   "source": [
    "Appying Kmeans on data for k=3"
   ]
  },
  {
   "cell_type": "code",
   "execution_count": 27,
   "id": "83af5b6f",
   "metadata": {},
   "outputs": [],
   "source": [
    "k=KMeans(n_clusters=3,n_init=10,random_state=10)\n",
    "k.fit(df)\n",
    "y=k.labels_"
   ]
  },
  {
   "cell_type": "markdown",
   "id": "c39f01ff",
   "metadata": {},
   "source": [
    "Visualising results : "
   ]
  },
  {
   "cell_type": "code",
   "execution_count": 35,
   "id": "4291ceb4",
   "metadata": {},
   "outputs": [
    {
     "data": {
      "text/plain": [
       "<matplotlib.collections.PathCollection at 0x169365d50>"
      ]
     },
     "execution_count": 35,
     "metadata": {},
     "output_type": "execute_result"
    },
    {
     "data": {
      "image/png": "[encoded data removed]",
      "text/plain": [
       "<Figure size 640x480 with 1 Axes>"
      ]
     },
     "metadata": {},
     "output_type": "display_data"
    }
   ],
   "source": [
    "plt.scatter(df.iloc[:,0],df.iloc[:,1],c=y,cmap=\"viridis\")"
   ]
  },
  {
   "cell_type": "markdown",
   "id": "c8432fcb",
   "metadata": {},
   "source": [
    "### Cluster Interpretation"
   ]
  },
  {
   "cell_type": "markdown",
   "id": "46e66f9a",
   "metadata": {},
   "source": [
    "Adding predictions as a column in the dataframe"
   ]
  },
  {
   "cell_type": "code",
   "execution_count": 39,
   "id": "c78b9875",
   "metadata": {},
   "outputs": [
    {
     "data": {
      "text/html": [
       "<div>\n",
       "<style scoped>\n",
       "    .dataframe tbody tr th:only-of-type {\n",
       "        vertical-align: middle;\n",
       "    }\n",
       "\n",
       "    .dataframe tbody tr th {\n",
       "        vertical-align: top;\n",
       "    }\n",
       "\n",
       "    .dataframe thead th {\n",
       "        text-align: right;\n",
       "    }\n",
       "</style>\n",
       "<table border=\"1\" class=\"dataframe\">\n",
       "  <thead>\n",
       "    <tr style=\"text-align: right;\">\n",
       "      <th></th>\n",
       "      <th>Market_Cap</th>\n",
       "      <th>Beta</th>\n",
       "      <th>PE_Ratio</th>\n",
       "      <th>ROE</th>\n",
       "      <th>ROA</th>\n",
       "      <th>Asset_Turnover</th>\n",
       "      <th>Leverage</th>\n",
       "      <th>Rev_Growth</th>\n",
       "      <th>Net_Profit_Margin</th>\n",
       "      <th>Cluster</th>\n",
       "    </tr>\n",
       "  </thead>\n",
       "  <tbody>\n",
       "    <tr>\n",
       "      <th>0</th>\n",
       "      <td>0.188642</td>\n",
       "      <td>-0.821041</td>\n",
       "      <td>-0.047867</td>\n",
       "      <td>0.041080</td>\n",
       "      <td>0.247579</td>\n",
       "      <td>-5.247542e-16</td>\n",
       "      <td>-0.217336</td>\n",
       "      <td>-0.540801</td>\n",
       "      <td>0.063205</td>\n",
       "      <td>0</td>\n",
       "    </tr>\n",
       "    <tr>\n",
       "      <th>1</th>\n",
       "      <td>-0.875518</td>\n",
       "      <td>-0.461835</td>\n",
       "      <td>3.583430</td>\n",
       "      <td>-0.875950</td>\n",
       "      <td>-0.965557</td>\n",
       "      <td>9.453132e-01</td>\n",
       "      <td>0.018736</td>\n",
       "      <td>-0.390551</td>\n",
       "      <td>-1.592035</td>\n",
       "      <td>2</td>\n",
       "    </tr>\n",
       "    <tr>\n",
       "      <th>2</th>\n",
       "      <td>-0.897899</td>\n",
       "      <td>-0.262277</td>\n",
       "      <td>-0.299168</td>\n",
       "      <td>-0.740094</td>\n",
       "      <td>-0.522666</td>\n",
       "      <td>9.453132e-01</td>\n",
       "      <td>-0.414062</td>\n",
       "      <td>-0.586247</td>\n",
       "      <td>-0.701953</td>\n",
       "      <td>2</td>\n",
       "    </tr>\n",
       "    <tr>\n",
       "      <th>3</th>\n",
       "      <td>0.174479</td>\n",
       "      <td>-0.022807</td>\n",
       "      <td>-0.248907</td>\n",
       "      <td>0.109009</td>\n",
       "      <td>0.940799</td>\n",
       "      <td>9.453132e-01</td>\n",
       "      <td>-0.768169</td>\n",
       "      <td>0.151089</td>\n",
       "      <td>0.359900</td>\n",
       "      <td>0</td>\n",
       "    </tr>\n",
       "    <tr>\n",
       "      <th>4</th>\n",
       "      <td>-0.183447</td>\n",
       "      <td>-0.821041</td>\n",
       "      <td>-0.336863</td>\n",
       "      <td>-0.271389</td>\n",
       "      <td>-0.580435</td>\n",
       "      <td>-4.726566e-01</td>\n",
       "      <td>-0.322256</td>\n",
       "      <td>1.246425</td>\n",
       "      <td>-0.436490</td>\n",
       "      <td>2</td>\n",
       "    </tr>\n",
       "  </tbody>\n",
       "</table>\n",
       "</div>"
      ],
      "text/plain": [
       "   Market_Cap      Beta  PE_Ratio       ROE       ROA  Asset_Turnover  \\\n",
       "0    0.188642 -0.821041 -0.047867  0.041080  0.247579   -5.247542e-16   \n",
       "1   -0.875518 -0.461835  3.583430 -0.875950 -0.965557    9.453132e-01   \n",
       "2   -0.897899 -0.262277 -0.299168 -0.740094 -0.522666    9.453132e-01   \n",
       "3    0.174479 -0.022807 -0.248907  0.109009  0.940799    9.453132e-01   \n",
       "4   -0.183447 -0.821041 -0.336863 -0.271389 -0.580435   -4.726566e-01   \n",
       "\n",
       "   Leverage  Rev_Growth  Net_Profit_Margin  Cluster  \n",
       "0 -0.217336   -0.540801           0.063205        0  \n",
       "1  0.018736   -0.390551          -1.592035        2  \n",
       "2 -0.414062   -0.586247          -0.701953        2  \n",
       "3 -0.768169    0.151089           0.359900        0  \n",
       "4 -0.322256    1.246425          -0.436490        2  "
      ]
     },
     "execution_count": 39,
     "metadata": {},
     "output_type": "execute_result"
    }
   ],
   "source": [
    "df[\"Cluster\"]=y\n",
    "df.head()"
   ]
  },
  {
   "cell_type": "markdown",
   "id": "eb0c4257",
   "metadata": {},
   "source": [
    "Interpreting clusters on the basis of Market Cap and Net profit"
   ]
  },
  {
   "cell_type": "markdown",
   "id": "7d8f8935",
   "metadata": {},
   "source": [
    "**Cluster-1**"
   ]
  },
  {
   "cell_type": "code",
   "execution_count": 51,
   "id": "6a44db24",
   "metadata": {
    "scrolled": true
   },
   "outputs": [
    {
     "data": {
      "text/plain": [
       "Market_Cap           0.188642\n",
       "Net_Profit_Margin    0.063205\n",
       "Name: 0, dtype: float64"
      ]
     },
     "metadata": {},
     "output_type": "display_data"
    },
    {
     "data": {
      "text/plain": [
       "Market_Cap           0.174479\n",
       "Net_Profit_Margin    0.359900\n",
       "Name: 3, dtype: float64"
      ]
     },
     "metadata": {},
     "output_type": "display_data"
    },
    {
     "data": {
      "text/plain": [
       "Market_Cap          -0.110533\n",
       "Net_Profit_Margin    0.765902\n",
       "Name: 6, dtype: float64"
      ]
     },
     "metadata": {},
     "output_type": "display_data"
    },
    {
     "data": {
      "text/plain": [
       "Market_Cap           0.283063\n",
       "Net_Profit_Margin    1.203135\n",
       "Name: 9, dtype: float64"
      ]
     },
     "metadata": {},
     "output_type": "display_data"
    }
   ],
   "source": [
    "for i in range(0,df.shape[1]):\n",
    "    if df.iloc[i,9]==0:\n",
    "        display(df.iloc[i,[0,8]])"
   ]
  },
  {
   "cell_type": "markdown",
   "id": "dcc8b819",
   "metadata": {},
   "source": [
    "**Cluster-2**"
   ]
  },
  {
   "cell_type": "code",
   "execution_count": 52,
   "id": "fb319979",
   "metadata": {},
   "outputs": [
    {
     "data": {
      "text/plain": [
       "Market_Cap          -1.000888\n",
       "Net_Profit_Margin   -1.279725\n",
       "Name: 7, dtype: float64"
      ]
     },
     "metadata": {},
     "output_type": "display_data"
    },
    {
     "data": {
      "text/plain": [
       "Market_Cap          -0.994419\n",
       "Net_Profit_Margin   -0.374028\n",
       "Name: 8, dtype: float64"
      ]
     },
     "metadata": {},
     "output_type": "display_data"
    }
   ],
   "source": [
    "for i in range(0,df.shape[1]):\n",
    "    if df.iloc[i,9]==1:\n",
    "        display(df.iloc[i,[0,8]])"
   ]
  },
  {
   "cell_type": "markdown",
   "id": "3121f431",
   "metadata": {},
   "source": [
    "**Cluster-3**"
   ]
  },
  {
   "cell_type": "code",
   "execution_count": 53,
   "id": "35e33c22",
   "metadata": {},
   "outputs": [
    {
     "data": {
      "text/plain": [
       "Market_Cap          -0.875518\n",
       "Net_Profit_Margin   -1.592035\n",
       "Name: 1, dtype: float64"
      ]
     },
     "metadata": {},
     "output_type": "display_data"
    },
    {
     "data": {
      "text/plain": [
       "Market_Cap          -0.897899\n",
       "Net_Profit_Margin   -0.701953\n",
       "Name: 2, dtype: float64"
      ]
     },
     "metadata": {},
     "output_type": "display_data"
    },
    {
     "data": {
      "text/plain": [
       "Market_Cap          -0.183447\n",
       "Net_Profit_Margin   -0.436490\n",
       "Name: 4, dtype: float64"
      ]
     },
     "metadata": {},
     "output_type": "display_data"
    },
    {
     "data": {
      "text/plain": [
       "Market_Cap          -0.712554\n",
       "Net_Profit_Margin   -2.044884\n",
       "Name: 5, dtype: float64"
      ]
     },
     "metadata": {},
     "output_type": "display_data"
    }
   ],
   "source": [
    "for i in range(0,df.shape[1]):\n",
    "    if df.iloc[i,9]==2:\n",
    "        display(df.iloc[i,[0,8]])"
   ]
  }
 ],
 "metadata": {
  "kernelspec": {
   "display_name": "Python 3 (ipykernel)",
   "language": "python",
   "name": "python3"
  },
  "language_info": {
   "codemirror_mode": {
    "name": "ipython",
    "version": 3
   },
   "file_extension": ".py",
   "mimetype": "text/x-python",
   "name": "python",
   "nbconvert_exporter": "python",
   "pygments_lexer": "ipython3",
   "version": "3.11.5"
  }
 },
 "nbformat": 4,
 "nbformat_minor": 5
}
